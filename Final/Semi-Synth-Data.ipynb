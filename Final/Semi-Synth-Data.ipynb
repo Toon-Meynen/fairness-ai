{
 "cells": [
  {
   "cell_type": "code",
   "execution_count": 1,
   "id": "045199a8",
   "metadata": {},
   "outputs": [],
   "source": [
    "from tkinter import *\n",
    "\n",
    "from aif360.datasets import GermanDataset, AdultDataset\n",
    "from aif360.metrics import BinaryLabelDatasetMetric\n",
    "from aif360.algorithms.preprocessing import Reweighing, DisparateImpactRemover, LFR\n",
    "from aif360.algorithms.postprocessing import RejectOptionClassification, EqOddsPostprocessing, CalibratedEqOddsPostprocessing\n",
    "\n",
    "from IPython.display import Markdown, display\n",
    "\n",
    "from sklearn.linear_model import LogisticRegression\n",
    "from sklearn.ensemble import RandomForestClassifier\n",
    "from sklearn.metrics import accuracy_score\n",
    "\n",
    "import Bias\n",
    "import Data\n",
    "\n",
    "RANDOM_STATE=42"
   ]
  },
  {
   "cell_type": "code",
   "execution_count": 2,
   "id": "83810cfc",
   "metadata": {
    "scrolled": false
   },
   "outputs": [],
   "source": [
    "def create_semi_german_age():\n",
    "    def german_preprocessing(df):\n",
    "        \"\"\"Adds a derived sex attribute based on personal_status.\"\"\"\n",
    "        # TODO: ignores the value of privileged_classes for 'sex'\n",
    "        status_map = {'A91': 'male', 'A93': 'male', 'A94': 'male',\n",
    "                      'A92': 'female', 'A95': 'female'}\n",
    "        df['sex'] = df['personal_status'].replace(status_map)\n",
    "        \n",
    "        # ensure 1, 0 mapping instead of 1, 2.\n",
    "        df[\"credit\"] = df[\"credit\"].apply(lambda x: 1 if x == 1 else 0)\n",
    "        return df\n",
    "\n",
    "    german_mappings = {\n",
    "        'label_maps': [{1.0: 'Good Credit', 0.0: 'Bad Credit'}],\n",
    "        'protected_attribute_maps': [{1.0: 'Male', 0.0: 'Female'},\n",
    "                                     {1.0: 'Old', 0.0: 'Young'}],\n",
    "    }\n",
    "\n",
    "    # load data\n",
    "    data = GermanDataset(\n",
    "        protected_attribute_names=['age'],         \n",
    "        privileged_classes=[lambda x: x >= 25], # age >=25 is considered privileged\n",
    "        features_to_drop=['personal_status', 'sex'], # ignore sex-related attributes, as we only focus on age here\n",
    "        custom_preprocessing=german_preprocessing,\n",
    "        metadata=german_mappings\n",
    "    )\n",
    "    \n",
    "    # convert to custom object\n",
    "    dataset_orig = Data.fromAif(data)\n",
    "    \n",
    "    # calculate mean difference\n",
    "    display(Markdown(\"#### Original training dataset\"))\n",
    "    print(f\"Difference in mean outcomes between unprivileged and privileged groups = {dataset_orig.metrics().mean_difference()}\")\n",
    "    \n",
    "    # fit reweighing\n",
    "    RW = Reweighing(unprivileged_groups=[dataset_orig.unprivilegedGroups()],\n",
    "                    privileged_groups=[dataset_orig.privilegedGroups()])\n",
    "    dataset_transf = Data.fromAif(RW.fit_transform(dataset_orig.aif()))\n",
    "    \n",
    "    # test reweighing\n",
    "    display(Markdown(\"#### Transformed training dataset\"))\n",
    "    print(\"Difference in mean outcomes between unprivileged and privileged groups = %f\" % dataset_transf.metrics().mean_difference())\n",
    "    print(\"Difference in mean outcomes between unprivileged and privileged groups = %f\" % dataset_orig.metrics().mean_difference())\n",
    "    return dataset_transf, dataset_orig"
   ]
  },
  {
   "cell_type": "code",
   "execution_count": 3,
   "id": "fe1e15b6",
   "metadata": {},
   "outputs": [],
   "source": [
    "def equal_opt(m):\n",
    "    a = m.true_positive_rate(privileged=False)\n",
    "    b = m.true_positive_rate(privileged=True)\n",
    "    print(a, b)\n",
    "    return (a - b)\n",
    "\n",
    "def pred_eq(m):\n",
    "    c = m.false_positive_rate(privileged=False)\n",
    "    d = m.false_positive_rate(privileged=True)\n",
    "    print(c, d)\n",
    "    return (c - d)"
   ]
  },
  {
   "cell_type": "code",
   "execution_count": 4,
   "id": "d80fc5f9",
   "metadata": {
    "scrolled": false
   },
   "outputs": [],
   "source": [
    "def evaluate(name, d, d2=None, scores=None):\n",
    "    m = d.metrics()\n",
    "    scores[\"mean difference\"] = m.mean_difference()\n",
    "    scores[\"disparate impact\"] = m.disparate_impact()\n",
    "    scores[\"consistency\"] = m.consistency()[0]\n",
    "    scores[\"num neg\"] = m.num_negatives()\n",
    "    scores[\"num pos\"] = m.num_positives()\n",
    "    if d2 is not None:\n",
    "        m = d.metrics(d2)\n",
    "        scores[\"predictive equality\"] = pred_eq(m)\n",
    "        scores[\"equal opportunity\"] = equal_opt(m)\n",
    "        \n",
    "        #scores[\"equal opportunity\"] = m.equal_opportunity_difference()\n",
    "        #scores[\"equal odds\"] = m.average_abs_odds_difference()\n",
    "\n",
    "\n",
    "def evall(name, data, method):\n",
    "    print(name)\n",
    "    \n",
    "    scores = dict()\n",
    "    \n",
    "    data = data.copy()\n",
    "\n",
    "    train, test = data.split(0.2)\n",
    "    train = Data.fromAif(method.fit_transform(train.aif()))\n",
    "    #try:\n",
    "    #    test = Data.fromAif(method.transform(test.aif()))\n",
    "    #except:\n",
    "    #    test = Data.fromAif(method.fit_transform(test.aif()))\n",
    "\n",
    "    #model = LogisticRegression(solver='liblinear')\n",
    "    model = RandomForestClassifier(random_state=RANDOM_STATE)\n",
    "    model = model.fit(train.X(), train.y(), sample_weight=train.weights())\n",
    "    preds = model.predict(test.X())\n",
    "\n",
    "    scores[\"accuracy\"] = accuracy_score(test.y(), preds, sample_weight=test.weights())\n",
    "    \n",
    "    evaluate(f\"{name} (pred)\", test.copy().set_labels(preds), test, scores=scores)\n",
    "    \n",
    "    return scores\n",
    "    \n",
    "def evall_post_proba(name, data, method):\n",
    "    print(name)\n",
    "    \n",
    "    scores = dict()\n",
    "    \n",
    "    data = data.copy()\n",
    "\n",
    "    train, _tmp = data.split(0.4)\n",
    "    test, val = _tmp.split(0.5)\n",
    "\n",
    "    # fit model\n",
    "    #model = LogisticRegression(solver='liblinear')\n",
    "    model = RandomForestClassifier(random_state=RANDOM_STATE)\n",
    "    model = model.fit(train.X(), train.y(), sample_weight=train.weights())\n",
    "    proba = model.predict_proba(test.X())\n",
    "    \n",
    "    t2 = test.copy()\n",
    "    t2.set_scores(proba[:, 1])\n",
    "    \n",
    "    # fit debiaser\n",
    "    method.fit(test.aif(), t2.aif())\n",
    "    \n",
    "    proba = model.predict_proba(val.X())\n",
    "    preds = model.predict(val.X())\n",
    "    \n",
    "    val_true = val.copy()\n",
    "    val.set_scores(proba[:, 1])\n",
    "    val.set_labels(preds)\n",
    "    \n",
    "    # predict new results\n",
    "    new_preds = method.predict(val.aif())\n",
    "    \n",
    "    val.set_labels(new_preds.labels)\n",
    "    \n",
    "    # evaluate results\n",
    "    scores[\"accuracy\"] = accuracy_score(val_true.y(), val.y(), sample_weight=val.weights())\n",
    "    evaluate(f\"{name} (pred)\", val, val_true, scores)\n",
    "    \n",
    "    return scores\n",
    "\n",
    "def evall_post_pred(name, data, method):\n",
    "    print(name)\n",
    "    \n",
    "    scores = dict()\n",
    "    \n",
    "    data = data.copy()\n",
    "\n",
    "    train, _tmp = data.split(0.4)\n",
    "    test, val = _tmp.split(0.5)\n",
    "\n",
    "    # fit model\n",
    "    #model = LogisticRegression(solver='liblinear')\n",
    "    model = RandomForestClassifier(random_state=RANDOM_STATE)\n",
    "    model = model.fit(train.X(), train.y(), sample_weight=train.weights())\n",
    "    preds = model.predict(test.X())\n",
    "    \n",
    "    t2 = test.copy()\n",
    "    t2.set_labels(preds)\n",
    "    \n",
    "    # fit debiaser\n",
    "    method.fit(test.aif(), t2.aif())\n",
    "    \n",
    "    preds = model.predict(val.X())\n",
    "    val_true = val.copy()\n",
    "    val.set_labels(preds)\n",
    "    \n",
    "    # predict new results\n",
    "    new_preds = method.predict(val.aif())\n",
    "    \n",
    "    val.set_labels(new_preds.labels)\n",
    "    \n",
    "    # evaluate results\n",
    "    scores[\"accuracy\"] = accuracy_score(val_true.y(), val.y(), sample_weight=val.weights())\n",
    "    evaluate(f\"{name} (pred)\", val, val_true, scores)\n",
    "    \n",
    "    return scores\n",
    "\n",
    "def evall_base(name, data):\n",
    "    print(name)\n",
    "    \n",
    "    scores = dict()\n",
    "    \n",
    "    data = data.copy()\n",
    "\n",
    "    train, test = data.split(0.2)\n",
    "    \n",
    "    #model = LogisticRegression(solver='liblinear')\n",
    "    model = RandomForestClassifier(random_state=RANDOM_STATE)\n",
    "    model = model.fit(train.X(), train.y(), sample_weight=train.weights())\n",
    "    preds = model.predict(test.X())\n",
    "\n",
    "    scores[\"accuracy\"] = accuracy_score(test.y(), preds, sample_weight=test.weights())\n",
    "    evaluate(f\"{name}\", test.copy().set_labels(preds), test, scores=scores)\n",
    "    \n",
    "    return scores\n",
    "    \n",
    "def redebias(name, data):\n",
    "    scores = dict()\n",
    "    \n",
    "    display(Markdown(f\"# Re-De-Biasing with {name}\"))\n",
    "    scores[\"base\"] = evall_base(f\"{name}\", data)\n",
    "\n",
    "    ##### reweighing\n",
    "    RW = Reweighing(unprivileged_groups=[data.unprivilegedGroups()],\n",
    "                    privileged_groups=[data.privilegedGroups()])\n",
    "    scores[\"reweighing\"] = evall(f\"reweighing for {name}\", data, RW)\n",
    "\n",
    "\n",
    "    ##### disparate impact remover\n",
    "    DIR = DisparateImpactRemover(repair_level=1.0,\n",
    "                                 sensitive_attribute=data._p[0])\n",
    "    scores[\"disparate impact remover\"] = evall(f\"disparate impact remover for {name}\", data, DIR)\n",
    "\n",
    "\n",
    "    ##### LFR\n",
    "    LFRobj = LFR(unprivileged_groups=[data.unprivilegedGroups()],\n",
    "                 privileged_groups=[data.privilegedGroups()],\n",
    "                 k=5,\n",
    "                 Ax=0.01,\n",
    "                 Ay=1.0,\n",
    "                 Az=50.0,\n",
    "                 print_interval=250,\n",
    "                 verbose=0,\n",
    "                 seed=RANDOM_STATE)\n",
    "    try:\n",
    "        scores[\"LFR\"] = evall(f\"learning fair representations for {name}\", data, LFRobj)\n",
    "    except Exception as e:\n",
    "        print(e)\n",
    "        scores[\"LFR\"] = None\n",
    "\n",
    "    ##### CalibratedEqOddsPostprocessing\n",
    "    CEOP = CalibratedEqOddsPostprocessing(unprivileged_groups=[data.unprivilegedGroups()],\n",
    "                                         privileged_groups=[data.privilegedGroups()],\n",
    "                                         cost_constraint=\"weighted\", # fnr + fpr\n",
    "                                         seed=RANDOM_STATE)\n",
    "    scores[\"Calibrated Equal Odds\"] = evall_post_proba(f\"Calibrated Equal Odds Postprocessor for {name}\", data, CEOP)\n",
    "\n",
    "    ##### EqOddsPostprocessing\n",
    "    EOP = EqOddsPostprocessing(unprivileged_groups=[data.unprivilegedGroups()],\n",
    "                                         privileged_groups=[data.privilegedGroups()],\n",
    "                                         seed=RANDOM_STATE)\n",
    "    scores[\"Equal Odds\"] = evall_post_proba(f\"Equal Odds Postprocessor for {name}\", data, EOP)\n",
    "\n",
    "    ##### RejectOptionClassification\n",
    "    ROC = RejectOptionClassification(unprivileged_groups=[data.unprivilegedGroups()],\n",
    "                                         privileged_groups=[data.privilegedGroups()])\n",
    "    scores[\"Reject Option Classification\"] = evall_post_pred(f\"Reject Option Classification for {name}\", data, ROC)\n",
    "    \n",
    "    return scores"
   ]
  },
  {
   "cell_type": "code",
   "execution_count": 5,
   "id": "00b5ab2f",
   "metadata": {
    "scrolled": true
   },
   "outputs": [
    {
     "data": {
      "text/markdown": [
       "#### Original training dataset"
      ],
      "text/plain": [
       "<IPython.core.display.Markdown object>"
      ]
     },
     "metadata": {},
     "output_type": "display_data"
    },
    {
     "name": "stdout",
     "output_type": "stream",
     "text": [
      "Difference in mean outcomes between unprivileged and privileged groups = -0.12854990969960323\n"
     ]
    },
    {
     "data": {
      "text/markdown": [
       "#### Transformed training dataset"
      ],
      "text/plain": [
       "<IPython.core.display.Markdown object>"
      ]
     },
     "metadata": {},
     "output_type": "display_data"
    },
    {
     "name": "stdout",
     "output_type": "stream",
     "text": [
      "Difference in mean outcomes between unprivileged and privileged groups = 0.000000\n",
      "Difference in mean outcomes between unprivileged and privileged groups = -0.128550\n"
     ]
    },
    {
     "data": {
      "text/markdown": [
       "# Re-De-Biasing with Original"
      ],
      "text/plain": [
       "<IPython.core.display.Markdown object>"
      ]
     },
     "metadata": {},
     "output_type": "display_data"
    },
    {
     "name": "stdout",
     "output_type": "stream",
     "text": [
      "Original\n",
      "0.3333333333333333 0.3793103448275862\n",
      "0.5333333333333333 0.7933333333333333\n",
      "reweighing for Original\n"
     ]
    },
    {
     "name": "stderr",
     "output_type": "stream",
     "text": [
      "\n",
      "A value is trying to be set on a copy of a slice from a DataFrame.\n",
      "Try using .loc[row_indexer,col_indexer] = value instead\n",
      "\n",
      "See the caveats in the documentation: https://pandas.pydata.org/pandas-docs/stable/user_guide/indexing.html#returning-a-view-versus-a-copy\n",
      "\n",
      "A value is trying to be set on a copy of a slice from a DataFrame.\n",
      "Try using .loc[row_indexer,col_indexer] = value instead\n",
      "\n",
      "See the caveats in the documentation: https://pandas.pydata.org/pandas-docs/stable/user_guide/indexing.html#returning-a-view-versus-a-copy\n",
      "\n",
      "A value is trying to be set on a copy of a slice from a DataFrame.\n",
      "Try using .loc[row_indexer,col_indexer] = value instead\n",
      "\n",
      "See the caveats in the documentation: https://pandas.pydata.org/pandas-docs/stable/user_guide/indexing.html#returning-a-view-versus-a-copy\n",
      "\n",
      "A value is trying to be set on a copy of a slice from a DataFrame.\n",
      "Try using .loc[row_indexer,col_indexer] = value instead\n",
      "\n",
      "See the caveats in the documentation: https://pandas.pydata.org/pandas-docs/stable/user_guide/indexing.html#returning-a-view-versus-a-copy\n"
     ]
    },
    {
     "name": "stdout",
     "output_type": "stream",
     "text": [
      "1.0 0.45454545454545453\n",
      "0.7142857142857143 0.8461538461538461\n",
      "disparate impact remover for Original\n",
      "0.4166666666666667 0.4444444444444444\n",
      "0.7058823529411765 0.8740740740740741\n",
      "learning fair representations for Original\n"
     ]
    },
    {
     "name": "stderr",
     "output_type": "stream",
     "text": [
      "\n",
      "A value is trying to be set on a copy of a slice from a DataFrame.\n",
      "Try using .loc[row_indexer,col_indexer] = value instead\n",
      "\n",
      "See the caveats in the documentation: https://pandas.pydata.org/pandas-docs/stable/user_guide/indexing.html#returning-a-view-versus-a-copy\n",
      "\n",
      "A value is trying to be set on a copy of a slice from a DataFrame.\n",
      "Try using .loc[row_indexer,col_indexer] = value instead\n",
      "\n",
      "See the caveats in the documentation: https://pandas.pydata.org/pandas-docs/stable/user_guide/indexing.html#returning-a-view-versus-a-copy\n",
      "\n",
      "A value is trying to be set on a copy of a slice from a DataFrame.\n",
      "Try using .loc[row_indexer,col_indexer] = value instead\n",
      "\n",
      "See the caveats in the documentation: https://pandas.pydata.org/pandas-docs/stable/user_guide/indexing.html#returning-a-view-versus-a-copy\n",
      "\n",
      "A value is trying to be set on a copy of a slice from a DataFrame.\n",
      "Try using .loc[row_indexer,col_indexer] = value instead\n",
      "\n",
      "See the caveats in the documentation: https://pandas.pydata.org/pandas-docs/stable/user_guide/indexing.html#returning-a-view-versus-a-copy\n",
      "invalid value encountered in double_scalars\n",
      "invalid value encountered in double_scalars\n",
      "invalid value encountered in double_scalars\n",
      "\n",
      "A value is trying to be set on a copy of a slice from a DataFrame.\n",
      "Try using .loc[row_indexer,col_indexer] = value instead\n",
      "\n",
      "See the caveats in the documentation: https://pandas.pydata.org/pandas-docs/stable/user_guide/indexing.html#returning-a-view-versus-a-copy\n",
      "\n",
      "A value is trying to be set on a copy of a slice from a DataFrame.\n",
      "Try using .loc[row_indexer,col_indexer] = value instead\n",
      "\n",
      "See the caveats in the documentation: https://pandas.pydata.org/pandas-docs/stable/user_guide/indexing.html#returning-a-view-versus-a-copy\n",
      "\n",
      "A value is trying to be set on a copy of a slice from a DataFrame.\n",
      "Try using .loc[row_indexer,col_indexer] = value instead\n",
      "\n",
      "See the caveats in the documentation: https://pandas.pydata.org/pandas-docs/stable/user_guide/indexing.html#returning-a-view-versus-a-copy\n",
      "\n",
      "A value is trying to be set on a copy of a slice from a DataFrame.\n",
      "Try using .loc[row_indexer,col_indexer] = value instead\n",
      "\n",
      "See the caveats in the documentation: https://pandas.pydata.org/pandas-docs/stable/user_guide/indexing.html#returning-a-view-versus-a-copy\n",
      "\n",
      "A value is trying to be set on a copy of a slice from a DataFrame.\n",
      "Try using .loc[row_indexer,col_indexer] = value instead\n",
      "\n",
      "See the caveats in the documentation: https://pandas.pydata.org/pandas-docs/stable/user_guide/indexing.html#returning-a-view-versus-a-copy\n",
      "invalid value encountered in double_scalars\n",
      "invalid value encountered in double_scalars\n",
      "\n",
      "A value is trying to be set on a copy of a slice from a DataFrame.\n",
      "Try using .loc[row_indexer,col_indexer] = value instead\n",
      "\n",
      "See the caveats in the documentation: https://pandas.pydata.org/pandas-docs/stable/user_guide/indexing.html#returning-a-view-versus-a-copy\n",
      "\n",
      "A value is trying to be set on a copy of a slice from a DataFrame.\n",
      "Try using .loc[row_indexer,col_indexer] = value instead\n",
      "\n",
      "See the caveats in the documentation: https://pandas.pydata.org/pandas-docs/stable/user_guide/indexing.html#returning-a-view-versus-a-copy\n"
     ]
    },
    {
     "name": "stdout",
     "output_type": "stream",
     "text": [
      "0.6875 0.7202380952380952\n",
      "nan nan\n",
      "Calibrated Equal Odds Postprocessor for Original\n",
      "0.16666666666666666 nan\n",
      "0.6785714285714286 0.7289156626506024\n",
      "Equal Odds Postprocessor for Original\n"
     ]
    },
    {
     "name": "stderr",
     "output_type": "stream",
     "text": [
      "\n",
      "A value is trying to be set on a copy of a slice from a DataFrame.\n",
      "Try using .loc[row_indexer,col_indexer] = value instead\n",
      "\n",
      "See the caveats in the documentation: https://pandas.pydata.org/pandas-docs/stable/user_guide/indexing.html#returning-a-view-versus-a-copy\n",
      "\n",
      "A value is trying to be set on a copy of a slice from a DataFrame.\n",
      "Try using .loc[row_indexer,col_indexer] = value instead\n",
      "\n",
      "See the caveats in the documentation: https://pandas.pydata.org/pandas-docs/stable/user_guide/indexing.html#returning-a-view-versus-a-copy\n",
      "\n",
      "A value is trying to be set on a copy of a slice from a DataFrame.\n",
      "Try using .loc[row_indexer,col_indexer] = value instead\n",
      "\n",
      "See the caveats in the documentation: https://pandas.pydata.org/pandas-docs/stable/user_guide/indexing.html#returning-a-view-versus-a-copy\n",
      "\n",
      "A value is trying to be set on a copy of a slice from a DataFrame.\n",
      "Try using .loc[row_indexer,col_indexer] = value instead\n",
      "\n",
      "See the caveats in the documentation: https://pandas.pydata.org/pandas-docs/stable/user_guide/indexing.html#returning-a-view-versus-a-copy\n",
      "\n",
      "A value is trying to be set on a copy of a slice from a DataFrame.\n",
      "Try using .loc[row_indexer,col_indexer] = value instead\n",
      "\n",
      "See the caveats in the documentation: https://pandas.pydata.org/pandas-docs/stable/user_guide/indexing.html#returning-a-view-versus-a-copy\n"
     ]
    },
    {
     "name": "stdout",
     "output_type": "stream",
     "text": [
      "0.3333333333333333 0.41379310344827586\n",
      "0.8125 0.7876712328767124\n",
      "Reject Option Classification for Original\n",
      "0.36363636363636365 0.3157894736842105\n",
      "0.6818181818181818 0.8372093023255814\n"
     ]
    },
    {
     "name": "stderr",
     "output_type": "stream",
     "text": [
      "Unable to satisy fairness constraints\n",
      "\n",
      "A value is trying to be set on a copy of a slice from a DataFrame.\n",
      "Try using .loc[row_indexer,col_indexer] = value instead\n",
      "\n",
      "See the caveats in the documentation: https://pandas.pydata.org/pandas-docs/stable/user_guide/indexing.html#returning-a-view-versus-a-copy\n",
      "\n",
      "A value is trying to be set on a copy of a slice from a DataFrame.\n",
      "Try using .loc[row_indexer,col_indexer] = value instead\n",
      "\n",
      "See the caveats in the documentation: https://pandas.pydata.org/pandas-docs/stable/user_guide/indexing.html#returning-a-view-versus-a-copy\n"
     ]
    },
    {
     "data": {
      "text/markdown": [
       "# Re-De-Biasing with Base"
      ],
      "text/plain": [
       "<IPython.core.display.Markdown object>"
      ]
     },
     "metadata": {},
     "output_type": "display_data"
    },
    {
     "name": "stderr",
     "output_type": "stream",
     "text": [
      "\n",
      "A value is trying to be set on a copy of a slice from a DataFrame.\n",
      "Try using .loc[row_indexer,col_indexer] = value instead\n",
      "\n",
      "See the caveats in the documentation: https://pandas.pydata.org/pandas-docs/stable/user_guide/indexing.html#returning-a-view-versus-a-copy\n",
      "\n",
      "A value is trying to be set on a copy of a slice from a DataFrame.\n",
      "Try using .loc[row_indexer,col_indexer] = value instead\n",
      "\n",
      "See the caveats in the documentation: https://pandas.pydata.org/pandas-docs/stable/user_guide/indexing.html#returning-a-view-versus-a-copy\n",
      "\n",
      "A value is trying to be set on a copy of a slice from a DataFrame.\n",
      "Try using .loc[row_indexer,col_indexer] = value instead\n",
      "\n",
      "See the caveats in the documentation: https://pandas.pydata.org/pandas-docs/stable/user_guide/indexing.html#returning-a-view-versus-a-copy\n",
      "\n",
      "A value is trying to be set on a copy of a slice from a DataFrame.\n",
      "Try using .loc[row_indexer,col_indexer] = value instead\n",
      "\n",
      "See the caveats in the documentation: https://pandas.pydata.org/pandas-docs/stable/user_guide/indexing.html#returning-a-view-versus-a-copy\n"
     ]
    },
    {
     "name": "stdout",
     "output_type": "stream",
     "text": [
      "Base\n",
      "0.2727272727272727 0.45\n",
      "0.8620689655172413 0.7571428571428571\n",
      "reweighing for Base\n",
      "0.25 0.2692307692307692\n",
      "0.7894736842105263 0.7959183673469388\n",
      "disparate impact remover for Base\n",
      "0.14285714285714285 0.4\n",
      "0.7307692307692307 0.7664233576642335\n",
      "learning fair representations for Base\n"
     ]
    },
    {
     "name": "stderr",
     "output_type": "stream",
     "text": [
      "\n",
      "A value is trying to be set on a copy of a slice from a DataFrame.\n",
      "Try using .loc[row_indexer,col_indexer] = value instead\n",
      "\n",
      "See the caveats in the documentation: https://pandas.pydata.org/pandas-docs/stable/user_guide/indexing.html#returning-a-view-versus-a-copy\n",
      "\n",
      "A value is trying to be set on a copy of a slice from a DataFrame.\n",
      "Try using .loc[row_indexer,col_indexer] = value instead\n",
      "\n",
      "See the caveats in the documentation: https://pandas.pydata.org/pandas-docs/stable/user_guide/indexing.html#returning-a-view-versus-a-copy\n",
      "\n",
      "A value is trying to be set on a copy of a slice from a DataFrame.\n",
      "Try using .loc[row_indexer,col_indexer] = value instead\n",
      "\n",
      "See the caveats in the documentation: https://pandas.pydata.org/pandas-docs/stable/user_guide/indexing.html#returning-a-view-versus-a-copy\n",
      "\n",
      "A value is trying to be set on a copy of a slice from a DataFrame.\n",
      "Try using .loc[row_indexer,col_indexer] = value instead\n",
      "\n",
      "See the caveats in the documentation: https://pandas.pydata.org/pandas-docs/stable/user_guide/indexing.html#returning-a-view-versus-a-copy\n",
      "invalid value encountered in double_scalars\n",
      "invalid value encountered in double_scalars\n",
      "invalid value encountered in double_scalars\n",
      "\n",
      "A value is trying to be set on a copy of a slice from a DataFrame.\n",
      "Try using .loc[row_indexer,col_indexer] = value instead\n",
      "\n",
      "See the caveats in the documentation: https://pandas.pydata.org/pandas-docs/stable/user_guide/indexing.html#returning-a-view-versus-a-copy\n",
      "\n",
      "A value is trying to be set on a copy of a slice from a DataFrame.\n",
      "Try using .loc[row_indexer,col_indexer] = value instead\n",
      "\n",
      "See the caveats in the documentation: https://pandas.pydata.org/pandas-docs/stable/user_guide/indexing.html#returning-a-view-versus-a-copy\n",
      "\n",
      "A value is trying to be set on a copy of a slice from a DataFrame.\n",
      "Try using .loc[row_indexer,col_indexer] = value instead\n",
      "\n",
      "See the caveats in the documentation: https://pandas.pydata.org/pandas-docs/stable/user_guide/indexing.html#returning-a-view-versus-a-copy\n",
      "\n",
      "A value is trying to be set on a copy of a slice from a DataFrame.\n",
      "Try using .loc[row_indexer,col_indexer] = value instead\n",
      "\n",
      "See the caveats in the documentation: https://pandas.pydata.org/pandas-docs/stable/user_guide/indexing.html#returning-a-view-versus-a-copy\n",
      "\n",
      "A value is trying to be set on a copy of a slice from a DataFrame.\n",
      "Try using .loc[row_indexer,col_indexer] = value instead\n",
      "\n",
      "See the caveats in the documentation: https://pandas.pydata.org/pandas-docs/stable/user_guide/indexing.html#returning-a-view-versus-a-copy\n",
      "invalid value encountered in double_scalars\n",
      "invalid value encountered in double_scalars\n",
      "\n",
      "A value is trying to be set on a copy of a slice from a DataFrame.\n",
      "Try using .loc[row_indexer,col_indexer] = value instead\n",
      "\n",
      "See the caveats in the documentation: https://pandas.pydata.org/pandas-docs/stable/user_guide/indexing.html#returning-a-view-versus-a-copy\n",
      "\n",
      "A value is trying to be set on a copy of a slice from a DataFrame.\n",
      "Try using .loc[row_indexer,col_indexer] = value instead\n",
      "\n",
      "See the caveats in the documentation: https://pandas.pydata.org/pandas-docs/stable/user_guide/indexing.html#returning-a-view-versus-a-copy\n"
     ]
    },
    {
     "name": "stdout",
     "output_type": "stream",
     "text": [
      "0.6388888888888888 0.7195121951219512\n",
      "nan nan\n",
      "Calibrated Equal Odds Postprocessor for Base\n",
      "0.16666666666666666 nan\n",
      "0.6785714285714286 0.7289156626506024\n",
      "Equal Odds Postprocessor for Base\n"
     ]
    },
    {
     "name": "stderr",
     "output_type": "stream",
     "text": [
      "\n",
      "A value is trying to be set on a copy of a slice from a DataFrame.\n",
      "Try using .loc[row_indexer,col_indexer] = value instead\n",
      "\n",
      "See the caveats in the documentation: https://pandas.pydata.org/pandas-docs/stable/user_guide/indexing.html#returning-a-view-versus-a-copy\n",
      "\n",
      "A value is trying to be set on a copy of a slice from a DataFrame.\n",
      "Try using .loc[row_indexer,col_indexer] = value instead\n",
      "\n",
      "See the caveats in the documentation: https://pandas.pydata.org/pandas-docs/stable/user_guide/indexing.html#returning-a-view-versus-a-copy\n",
      "\n",
      "A value is trying to be set on a copy of a slice from a DataFrame.\n",
      "Try using .loc[row_indexer,col_indexer] = value instead\n",
      "\n",
      "See the caveats in the documentation: https://pandas.pydata.org/pandas-docs/stable/user_guide/indexing.html#returning-a-view-versus-a-copy\n",
      "\n",
      "A value is trying to be set on a copy of a slice from a DataFrame.\n",
      "Try using .loc[row_indexer,col_indexer] = value instead\n",
      "\n",
      "See the caveats in the documentation: https://pandas.pydata.org/pandas-docs/stable/user_guide/indexing.html#returning-a-view-versus-a-copy\n",
      "\n",
      "A value is trying to be set on a copy of a slice from a DataFrame.\n",
      "Try using .loc[row_indexer,col_indexer] = value instead\n",
      "\n",
      "See the caveats in the documentation: https://pandas.pydata.org/pandas-docs/stable/user_guide/indexing.html#returning-a-view-versus-a-copy\n"
     ]
    },
    {
     "name": "stdout",
     "output_type": "stream",
     "text": [
      "0.3333333333333333 0.41379310344827586\n",
      "0.8125 0.7876712328767124\n",
      "Reject Option Classification for Base\n",
      "0.36363636363636365 0.3157894736842105\n",
      "0.6818181818181818 0.8372093023255814\n"
     ]
    },
    {
     "name": "stderr",
     "output_type": "stream",
     "text": [
      "Unable to satisy fairness constraints\n",
      "\n",
      "A value is trying to be set on a copy of a slice from a DataFrame.\n",
      "Try using .loc[row_indexer,col_indexer] = value instead\n",
      "\n",
      "See the caveats in the documentation: https://pandas.pydata.org/pandas-docs/stable/user_guide/indexing.html#returning-a-view-versus-a-copy\n",
      "\n",
      "A value is trying to be set on a copy of a slice from a DataFrame.\n",
      "Try using .loc[row_indexer,col_indexer] = value instead\n",
      "\n",
      "See the caveats in the documentation: https://pandas.pydata.org/pandas-docs/stable/user_guide/indexing.html#returning-a-view-versus-a-copy\n"
     ]
    },
    {
     "data": {
      "text/markdown": [
       "# Re-De-Biasing with Historical Bias"
      ],
      "text/plain": [
       "<IPython.core.display.Markdown object>"
      ]
     },
     "metadata": {},
     "output_type": "display_data"
    },
    {
     "name": "stderr",
     "output_type": "stream",
     "text": [
      "\n",
      "A value is trying to be set on a copy of a slice from a DataFrame.\n",
      "Try using .loc[row_indexer,col_indexer] = value instead\n",
      "\n",
      "See the caveats in the documentation: https://pandas.pydata.org/pandas-docs/stable/user_guide/indexing.html#returning-a-view-versus-a-copy\n",
      "\n",
      "A value is trying to be set on a copy of a slice from a DataFrame.\n",
      "Try using .loc[row_indexer,col_indexer] = value instead\n",
      "\n",
      "See the caveats in the documentation: https://pandas.pydata.org/pandas-docs/stable/user_guide/indexing.html#returning-a-view-versus-a-copy\n",
      "\n",
      "A value is trying to be set on a copy of a slice from a DataFrame.\n",
      "Try using .loc[row_indexer,col_indexer] = value instead\n",
      "\n",
      "See the caveats in the documentation: https://pandas.pydata.org/pandas-docs/stable/user_guide/indexing.html#returning-a-view-versus-a-copy\n",
      "\n",
      "A value is trying to be set on a copy of a slice from a DataFrame.\n",
      "Try using .loc[row_indexer,col_indexer] = value instead\n",
      "\n",
      "See the caveats in the documentation: https://pandas.pydata.org/pandas-docs/stable/user_guide/indexing.html#returning-a-view-versus-a-copy\n"
     ]
    },
    {
     "name": "stdout",
     "output_type": "stream",
     "text": [
      "Historical Bias\n",
      "0.15384615384615385 0.3870967741935484\n",
      "0.7333333333333333 0.8283582089552238\n",
      "reweighing for Historical Bias\n",
      "0.0 0.35294117647058826\n",
      "0.6 0.8592592592592593\n",
      "disparate impact remover for Historical Bias\n",
      "0.18181818181818182 0.35294117647058826\n",
      "0.6666666666666666 0.8345323741007195\n",
      "learning fair representations for Historical Bias\n"
     ]
    },
    {
     "name": "stderr",
     "output_type": "stream",
     "text": [
      "\n",
      "A value is trying to be set on a copy of a slice from a DataFrame.\n",
      "Try using .loc[row_indexer,col_indexer] = value instead\n",
      "\n",
      "See the caveats in the documentation: https://pandas.pydata.org/pandas-docs/stable/user_guide/indexing.html#returning-a-view-versus-a-copy\n",
      "\n",
      "A value is trying to be set on a copy of a slice from a DataFrame.\n",
      "Try using .loc[row_indexer,col_indexer] = value instead\n",
      "\n",
      "See the caveats in the documentation: https://pandas.pydata.org/pandas-docs/stable/user_guide/indexing.html#returning-a-view-versus-a-copy\n",
      "\n",
      "A value is trying to be set on a copy of a slice from a DataFrame.\n",
      "Try using .loc[row_indexer,col_indexer] = value instead\n",
      "\n",
      "See the caveats in the documentation: https://pandas.pydata.org/pandas-docs/stable/user_guide/indexing.html#returning-a-view-versus-a-copy\n",
      "\n",
      "A value is trying to be set on a copy of a slice from a DataFrame.\n",
      "Try using .loc[row_indexer,col_indexer] = value instead\n",
      "\n",
      "See the caveats in the documentation: https://pandas.pydata.org/pandas-docs/stable/user_guide/indexing.html#returning-a-view-versus-a-copy\n",
      "invalid value encountered in double_scalars\n",
      "invalid value encountered in double_scalars\n",
      "invalid value encountered in double_scalars\n",
      "\n",
      "A value is trying to be set on a copy of a slice from a DataFrame.\n",
      "Try using .loc[row_indexer,col_indexer] = value instead\n",
      "\n",
      "See the caveats in the documentation: https://pandas.pydata.org/pandas-docs/stable/user_guide/indexing.html#returning-a-view-versus-a-copy\n",
      "\n",
      "A value is trying to be set on a copy of a slice from a DataFrame.\n",
      "Try using .loc[row_indexer,col_indexer] = value instead\n",
      "\n",
      "See the caveats in the documentation: https://pandas.pydata.org/pandas-docs/stable/user_guide/indexing.html#returning-a-view-versus-a-copy\n",
      "\n",
      "A value is trying to be set on a copy of a slice from a DataFrame.\n",
      "Try using .loc[row_indexer,col_indexer] = value instead\n",
      "\n",
      "See the caveats in the documentation: https://pandas.pydata.org/pandas-docs/stable/user_guide/indexing.html#returning-a-view-versus-a-copy\n",
      "\n",
      "A value is trying to be set on a copy of a slice from a DataFrame.\n",
      "Try using .loc[row_indexer,col_indexer] = value instead\n",
      "\n",
      "See the caveats in the documentation: https://pandas.pydata.org/pandas-docs/stable/user_guide/indexing.html#returning-a-view-versus-a-copy\n",
      "\n",
      "A value is trying to be set on a copy of a slice from a DataFrame.\n",
      "Try using .loc[row_indexer,col_indexer] = value instead\n",
      "\n",
      "See the caveats in the documentation: https://pandas.pydata.org/pandas-docs/stable/user_guide/indexing.html#returning-a-view-versus-a-copy\n",
      "invalid value encountered in double_scalars\n",
      "invalid value encountered in double_scalars\n",
      "\n",
      "A value is trying to be set on a copy of a slice from a DataFrame.\n",
      "Try using .loc[row_indexer,col_indexer] = value instead\n",
      "\n",
      "See the caveats in the documentation: https://pandas.pydata.org/pandas-docs/stable/user_guide/indexing.html#returning-a-view-versus-a-copy\n",
      "\n",
      "A value is trying to be set on a copy of a slice from a DataFrame.\n",
      "Try using .loc[row_indexer,col_indexer] = value instead\n",
      "\n",
      "See the caveats in the documentation: https://pandas.pydata.org/pandas-docs/stable/user_guide/indexing.html#returning-a-view-versus-a-copy\n"
     ]
    },
    {
     "name": "stdout",
     "output_type": "stream",
     "text": [
      "0.35294117647058826 0.7386363636363636\n",
      "nan nan\n",
      "Calibrated Equal Odds Postprocessor for Historical Bias\n",
      "0.3333333333333333 nan\n",
      "0.5833333333333334 0.7441860465116279\n",
      "Equal Odds Postprocessor for Historical Bias\n"
     ]
    },
    {
     "name": "stderr",
     "output_type": "stream",
     "text": [
      "\n",
      "A value is trying to be set on a copy of a slice from a DataFrame.\n",
      "Try using .loc[row_indexer,col_indexer] = value instead\n",
      "\n",
      "See the caveats in the documentation: https://pandas.pydata.org/pandas-docs/stable/user_guide/indexing.html#returning-a-view-versus-a-copy\n",
      "\n",
      "A value is trying to be set on a copy of a slice from a DataFrame.\n",
      "Try using .loc[row_indexer,col_indexer] = value instead\n",
      "\n",
      "See the caveats in the documentation: https://pandas.pydata.org/pandas-docs/stable/user_guide/indexing.html#returning-a-view-versus-a-copy\n",
      "\n",
      "A value is trying to be set on a copy of a slice from a DataFrame.\n",
      "Try using .loc[row_indexer,col_indexer] = value instead\n",
      "\n",
      "See the caveats in the documentation: https://pandas.pydata.org/pandas-docs/stable/user_guide/indexing.html#returning-a-view-versus-a-copy\n",
      "\n",
      "A value is trying to be set on a copy of a slice from a DataFrame.\n",
      "Try using .loc[row_indexer,col_indexer] = value instead\n",
      "\n",
      "See the caveats in the documentation: https://pandas.pydata.org/pandas-docs/stable/user_guide/indexing.html#returning-a-view-versus-a-copy\n",
      "\n",
      "A value is trying to be set on a copy of a slice from a DataFrame.\n",
      "Try using .loc[row_indexer,col_indexer] = value instead\n",
      "\n",
      "See the caveats in the documentation: https://pandas.pydata.org/pandas-docs/stable/user_guide/indexing.html#returning-a-view-versus-a-copy\n"
     ]
    },
    {
     "name": "stdout",
     "output_type": "stream",
     "text": [
      "0.21428571428571427 0.48484848484848486\n",
      "0.6 0.7862595419847328\n",
      "Reject Option Classification for Historical Bias\n",
      "0.125 0.34375\n",
      "0.7647058823529411 0.8382352941176471\n"
     ]
    },
    {
     "name": "stderr",
     "output_type": "stream",
     "text": [
      "Unable to satisy fairness constraints\n",
      "\n",
      "A value is trying to be set on a copy of a slice from a DataFrame.\n",
      "Try using .loc[row_indexer,col_indexer] = value instead\n",
      "\n",
      "See the caveats in the documentation: https://pandas.pydata.org/pandas-docs/stable/user_guide/indexing.html#returning-a-view-versus-a-copy\n",
      "\n",
      "A value is trying to be set on a copy of a slice from a DataFrame.\n",
      "Try using .loc[row_indexer,col_indexer] = value instead\n",
      "\n",
      "See the caveats in the documentation: https://pandas.pydata.org/pandas-docs/stable/user_guide/indexing.html#returning-a-view-versus-a-copy\n"
     ]
    },
    {
     "data": {
      "text/markdown": [
       "# Re-De-Biasing with Representation Bias"
      ],
      "text/plain": [
       "<IPython.core.display.Markdown object>"
      ]
     },
     "metadata": {},
     "output_type": "display_data"
    },
    {
     "name": "stderr",
     "output_type": "stream",
     "text": [
      "\n",
      "A value is trying to be set on a copy of a slice from a DataFrame.\n",
      "Try using .loc[row_indexer,col_indexer] = value instead\n",
      "\n",
      "See the caveats in the documentation: https://pandas.pydata.org/pandas-docs/stable/user_guide/indexing.html#returning-a-view-versus-a-copy\n",
      "\n",
      "A value is trying to be set on a copy of a slice from a DataFrame.\n",
      "Try using .loc[row_indexer,col_indexer] = value instead\n",
      "\n",
      "See the caveats in the documentation: https://pandas.pydata.org/pandas-docs/stable/user_guide/indexing.html#returning-a-view-versus-a-copy\n",
      "\n",
      "A value is trying to be set on a copy of a slice from a DataFrame.\n",
      "Try using .loc[row_indexer,col_indexer] = value instead\n",
      "\n",
      "See the caveats in the documentation: https://pandas.pydata.org/pandas-docs/stable/user_guide/indexing.html#returning-a-view-versus-a-copy\n",
      "\n",
      "A value is trying to be set on a copy of a slice from a DataFrame.\n",
      "Try using .loc[row_indexer,col_indexer] = value instead\n",
      "\n",
      "See the caveats in the documentation: https://pandas.pydata.org/pandas-docs/stable/user_guide/indexing.html#returning-a-view-versus-a-copy\n"
     ]
    },
    {
     "name": "stdout",
     "output_type": "stream",
     "text": [
      "Representation Bias\n",
      "0.25 0.2\n",
      "0.625 0.8368794326241135\n",
      "reweighing for Representation Bias\n"
     ]
    },
    {
     "name": "stderr",
     "output_type": "stream",
     "text": [
      "invalid value encountered in double_scalars\n",
      "invalid value encountered in double_scalars\n",
      "\n",
      "A value is trying to be set on a copy of a slice from a DataFrame.\n",
      "Try using .loc[row_indexer,col_indexer] = value instead\n",
      "\n",
      "See the caveats in the documentation: https://pandas.pydata.org/pandas-docs/stable/user_guide/indexing.html#returning-a-view-versus-a-copy\n",
      "\n",
      "A value is trying to be set on a copy of a slice from a DataFrame.\n",
      "Try using .loc[row_indexer,col_indexer] = value instead\n",
      "\n",
      "See the caveats in the documentation: https://pandas.pydata.org/pandas-docs/stable/user_guide/indexing.html#returning-a-view-versus-a-copy\n",
      "\n",
      "A value is trying to be set on a copy of a slice from a DataFrame.\n",
      "Try using .loc[row_indexer,col_indexer] = value instead\n",
      "\n",
      "See the caveats in the documentation: https://pandas.pydata.org/pandas-docs/stable/user_guide/indexing.html#returning-a-view-versus-a-copy\n",
      "\n",
      "A value is trying to be set on a copy of a slice from a DataFrame.\n",
      "Try using .loc[row_indexer,col_indexer] = value instead\n",
      "\n",
      "See the caveats in the documentation: https://pandas.pydata.org/pandas-docs/stable/user_guide/indexing.html#returning-a-view-versus-a-copy\n"
     ]
    },
    {
     "name": "stdout",
     "output_type": "stream",
     "text": [
      "nan 0.23333333333333334\n",
      "0.6666666666666666 0.8137931034482758\n",
      "disparate impact remover for Representation Bias\n",
      "1.0 0.3076923076923077\n",
      "0.7142857142857143 0.8041958041958042\n",
      "learning fair representations for Representation Bias\n",
      "1.0 0.7777777777777778\n",
      "1.0 0.6976744186046512\n",
      "Calibrated Equal Odds Postprocessor for Representation Bias\n",
      "0.5 nan\n",
      "0.8 0.7251461988304093\n",
      "Equal Odds Postprocessor for Representation Bias\n"
     ]
    },
    {
     "name": "stderr",
     "output_type": "stream",
     "text": [
      "\n",
      "A value is trying to be set on a copy of a slice from a DataFrame.\n",
      "Try using .loc[row_indexer,col_indexer] = value instead\n",
      "\n",
      "See the caveats in the documentation: https://pandas.pydata.org/pandas-docs/stable/user_guide/indexing.html#returning-a-view-versus-a-copy\n",
      "\n",
      "A value is trying to be set on a copy of a slice from a DataFrame.\n",
      "Try using .loc[row_indexer,col_indexer] = value instead\n",
      "\n",
      "See the caveats in the documentation: https://pandas.pydata.org/pandas-docs/stable/user_guide/indexing.html#returning-a-view-versus-a-copy\n",
      "\n",
      "A value is trying to be set on a copy of a slice from a DataFrame.\n",
      "Try using .loc[row_indexer,col_indexer] = value instead\n",
      "\n",
      "See the caveats in the documentation: https://pandas.pydata.org/pandas-docs/stable/user_guide/indexing.html#returning-a-view-versus-a-copy\n",
      "\n",
      "A value is trying to be set on a copy of a slice from a DataFrame.\n",
      "Try using .loc[row_indexer,col_indexer] = value instead\n",
      "\n",
      "See the caveats in the documentation: https://pandas.pydata.org/pandas-docs/stable/user_guide/indexing.html#returning-a-view-versus-a-copy\n",
      "\n",
      "A value is trying to be set on a copy of a slice from a DataFrame.\n",
      "Try using .loc[row_indexer,col_indexer] = value instead\n",
      "\n",
      "See the caveats in the documentation: https://pandas.pydata.org/pandas-docs/stable/user_guide/indexing.html#returning-a-view-versus-a-copy\n",
      "invalid value encountered in double_scalars\n",
      "invalid value encountered in double_scalars\n",
      "\n",
      "A value is trying to be set on a copy of a slice from a DataFrame.\n",
      "Try using .loc[row_indexer,col_indexer] = value instead\n",
      "\n",
      "See the caveats in the documentation: https://pandas.pydata.org/pandas-docs/stable/user_guide/indexing.html#returning-a-view-versus-a-copy\n",
      "\n",
      "A value is trying to be set on a copy of a slice from a DataFrame.\n",
      "Try using .loc[row_indexer,col_indexer] = value instead\n",
      "\n",
      "See the caveats in the documentation: https://pandas.pydata.org/pandas-docs/stable/user_guide/indexing.html#returning-a-view-versus-a-copy\n",
      "\n",
      "A value is trying to be set on a copy of a slice from a DataFrame.\n",
      "Try using .loc[row_indexer,col_indexer] = value instead\n",
      "\n",
      "See the caveats in the documentation: https://pandas.pydata.org/pandas-docs/stable/user_guide/indexing.html#returning-a-view-versus-a-copy\n",
      "\n",
      "A value is trying to be set on a copy of a slice from a DataFrame.\n",
      "Try using .loc[row_indexer,col_indexer] = value instead\n",
      "\n",
      "See the caveats in the documentation: https://pandas.pydata.org/pandas-docs/stable/user_guide/indexing.html#returning-a-view-versus-a-copy\n",
      "\n",
      "A value is trying to be set on a copy of a slice from a DataFrame.\n",
      "Try using .loc[row_indexer,col_indexer] = value instead\n",
      "\n",
      "See the caveats in the documentation: https://pandas.pydata.org/pandas-docs/stable/user_guide/indexing.html#returning-a-view-versus-a-copy\n",
      "\n",
      "A value is trying to be set on a copy of a slice from a DataFrame.\n",
      "Try using .loc[row_indexer,col_indexer] = value instead\n",
      "\n",
      "See the caveats in the documentation: https://pandas.pydata.org/pandas-docs/stable/user_guide/indexing.html#returning-a-view-versus-a-copy\n",
      "\n",
      "A value is trying to be set on a copy of a slice from a DataFrame.\n",
      "Try using .loc[row_indexer,col_indexer] = value instead\n",
      "\n",
      "See the caveats in the documentation: https://pandas.pydata.org/pandas-docs/stable/user_guide/indexing.html#returning-a-view-versus-a-copy\n"
     ]
    },
    {
     "name": "stdout",
     "output_type": "stream",
     "text": [
      "0.0 0.3225806451612903\n",
      "0.6666666666666666 0.7985611510791367\n",
      "Reject Option Classification for Representation Bias\n",
      "0.0 0.32\n",
      "0.4 0.7465753424657534\n"
     ]
    },
    {
     "name": "stderr",
     "output_type": "stream",
     "text": [
      "Unable to satisy fairness constraints\n",
      "\n",
      "A value is trying to be set on a copy of a slice from a DataFrame.\n",
      "Try using .loc[row_indexer,col_indexer] = value instead\n",
      "\n",
      "See the caveats in the documentation: https://pandas.pydata.org/pandas-docs/stable/user_guide/indexing.html#returning-a-view-versus-a-copy\n",
      "\n",
      "A value is trying to be set on a copy of a slice from a DataFrame.\n",
      "Try using .loc[row_indexer,col_indexer] = value instead\n",
      "\n",
      "See the caveats in the documentation: https://pandas.pydata.org/pandas-docs/stable/user_guide/indexing.html#returning-a-view-versus-a-copy\n"
     ]
    },
    {
     "data": {
      "text/markdown": [
       "# Re-De-Biasing with Measurement Bias"
      ],
      "text/plain": [
       "<IPython.core.display.Markdown object>"
      ]
     },
     "metadata": {},
     "output_type": "display_data"
    },
    {
     "name": "stderr",
     "output_type": "stream",
     "text": [
      "\n",
      "A value is trying to be set on a copy of a slice from a DataFrame.\n",
      "Try using .loc[row_indexer,col_indexer] = value instead\n",
      "\n",
      "See the caveats in the documentation: https://pandas.pydata.org/pandas-docs/stable/user_guide/indexing.html#returning-a-view-versus-a-copy\n",
      "\n",
      "A value is trying to be set on a copy of a slice from a DataFrame.\n",
      "Try using .loc[row_indexer,col_indexer] = value instead\n",
      "\n",
      "See the caveats in the documentation: https://pandas.pydata.org/pandas-docs/stable/user_guide/indexing.html#returning-a-view-versus-a-copy\n",
      "\n",
      "A value is trying to be set on a copy of a slice from a DataFrame.\n",
      "Try using .loc[row_indexer,col_indexer] = value instead\n",
      "\n",
      "See the caveats in the documentation: https://pandas.pydata.org/pandas-docs/stable/user_guide/indexing.html#returning-a-view-versus-a-copy\n",
      "\n",
      "A value is trying to be set on a copy of a slice from a DataFrame.\n",
      "Try using .loc[row_indexer,col_indexer] = value instead\n",
      "\n",
      "See the caveats in the documentation: https://pandas.pydata.org/pandas-docs/stable/user_guide/indexing.html#returning-a-view-versus-a-copy\n"
     ]
    },
    {
     "name": "stdout",
     "output_type": "stream",
     "text": [
      "Measurement Bias\n",
      "0.35714285714285715 0.15384615384615385\n",
      "0.68 0.837037037037037\n",
      "reweighing for Measurement Bias\n",
      "0.25 0.34375\n",
      "0.7391304347826086 0.8248175182481752\n",
      "disparate impact remover for Measurement Bias\n",
      "0.375 0.4\n",
      "0.7857142857142857 0.8507462686567164\n",
      "learning fair representations for Measurement Bias\n"
     ]
    },
    {
     "name": "stderr",
     "output_type": "stream",
     "text": [
      "\n",
      "A value is trying to be set on a copy of a slice from a DataFrame.\n",
      "Try using .loc[row_indexer,col_indexer] = value instead\n",
      "\n",
      "See the caveats in the documentation: https://pandas.pydata.org/pandas-docs/stable/user_guide/indexing.html#returning-a-view-versus-a-copy\n",
      "\n",
      "A value is trying to be set on a copy of a slice from a DataFrame.\n",
      "Try using .loc[row_indexer,col_indexer] = value instead\n",
      "\n",
      "See the caveats in the documentation: https://pandas.pydata.org/pandas-docs/stable/user_guide/indexing.html#returning-a-view-versus-a-copy\n",
      "\n",
      "A value is trying to be set on a copy of a slice from a DataFrame.\n",
      "Try using .loc[row_indexer,col_indexer] = value instead\n",
      "\n",
      "See the caveats in the documentation: https://pandas.pydata.org/pandas-docs/stable/user_guide/indexing.html#returning-a-view-versus-a-copy\n",
      "\n",
      "A value is trying to be set on a copy of a slice from a DataFrame.\n",
      "Try using .loc[row_indexer,col_indexer] = value instead\n",
      "\n",
      "See the caveats in the documentation: https://pandas.pydata.org/pandas-docs/stable/user_guide/indexing.html#returning-a-view-versus-a-copy\n",
      "invalid value encountered in double_scalars\n",
      "invalid value encountered in double_scalars\n",
      "invalid value encountered in double_scalars\n",
      "\n",
      "A value is trying to be set on a copy of a slice from a DataFrame.\n",
      "Try using .loc[row_indexer,col_indexer] = value instead\n",
      "\n",
      "See the caveats in the documentation: https://pandas.pydata.org/pandas-docs/stable/user_guide/indexing.html#returning-a-view-versus-a-copy\n",
      "\n",
      "A value is trying to be set on a copy of a slice from a DataFrame.\n",
      "Try using .loc[row_indexer,col_indexer] = value instead\n",
      "\n",
      "See the caveats in the documentation: https://pandas.pydata.org/pandas-docs/stable/user_guide/indexing.html#returning-a-view-versus-a-copy\n",
      "\n",
      "A value is trying to be set on a copy of a slice from a DataFrame.\n",
      "Try using .loc[row_indexer,col_indexer] = value instead\n",
      "\n",
      "See the caveats in the documentation: https://pandas.pydata.org/pandas-docs/stable/user_guide/indexing.html#returning-a-view-versus-a-copy\n",
      "\n",
      "A value is trying to be set on a copy of a slice from a DataFrame.\n",
      "Try using .loc[row_indexer,col_indexer] = value instead\n",
      "\n",
      "See the caveats in the documentation: https://pandas.pydata.org/pandas-docs/stable/user_guide/indexing.html#returning-a-view-versus-a-copy\n",
      "\n",
      "A value is trying to be set on a copy of a slice from a DataFrame.\n",
      "Try using .loc[row_indexer,col_indexer] = value instead\n",
      "\n",
      "See the caveats in the documentation: https://pandas.pydata.org/pandas-docs/stable/user_guide/indexing.html#returning-a-view-versus-a-copy\n",
      "invalid value encountered in double_scalars\n",
      "invalid value encountered in double_scalars\n",
      "\n",
      "A value is trying to be set on a copy of a slice from a DataFrame.\n",
      "Try using .loc[row_indexer,col_indexer] = value instead\n",
      "\n",
      "See the caveats in the documentation: https://pandas.pydata.org/pandas-docs/stable/user_guide/indexing.html#returning-a-view-versus-a-copy\n",
      "\n",
      "A value is trying to be set on a copy of a slice from a DataFrame.\n",
      "Try using .loc[row_indexer,col_indexer] = value instead\n",
      "\n",
      "See the caveats in the documentation: https://pandas.pydata.org/pandas-docs/stable/user_guide/indexing.html#returning-a-view-versus-a-copy\n"
     ]
    },
    {
     "name": "stdout",
     "output_type": "stream",
     "text": [
      "0.6363636363636364 0.7784431137724551\n",
      "nan nan\n",
      "Calibrated Equal Odds Postprocessor for Measurement Bias\n",
      "0.14285714285714285 nan\n",
      "0.7037037037037037 0.7289156626506024\n",
      "Equal Odds Postprocessor for Measurement Bias\n"
     ]
    },
    {
     "name": "stderr",
     "output_type": "stream",
     "text": [
      "\n",
      "A value is trying to be set on a copy of a slice from a DataFrame.\n",
      "Try using .loc[row_indexer,col_indexer] = value instead\n",
      "\n",
      "See the caveats in the documentation: https://pandas.pydata.org/pandas-docs/stable/user_guide/indexing.html#returning-a-view-versus-a-copy\n",
      "\n",
      "A value is trying to be set on a copy of a slice from a DataFrame.\n",
      "Try using .loc[row_indexer,col_indexer] = value instead\n",
      "\n",
      "See the caveats in the documentation: https://pandas.pydata.org/pandas-docs/stable/user_guide/indexing.html#returning-a-view-versus-a-copy\n",
      "\n",
      "A value is trying to be set on a copy of a slice from a DataFrame.\n",
      "Try using .loc[row_indexer,col_indexer] = value instead\n",
      "\n",
      "See the caveats in the documentation: https://pandas.pydata.org/pandas-docs/stable/user_guide/indexing.html#returning-a-view-versus-a-copy\n",
      "\n",
      "A value is trying to be set on a copy of a slice from a DataFrame.\n",
      "Try using .loc[row_indexer,col_indexer] = value instead\n",
      "\n",
      "See the caveats in the documentation: https://pandas.pydata.org/pandas-docs/stable/user_guide/indexing.html#returning-a-view-versus-a-copy\n",
      "\n",
      "A value is trying to be set on a copy of a slice from a DataFrame.\n",
      "Try using .loc[row_indexer,col_indexer] = value instead\n",
      "\n",
      "See the caveats in the documentation: https://pandas.pydata.org/pandas-docs/stable/user_guide/indexing.html#returning-a-view-versus-a-copy\n"
     ]
    },
    {
     "name": "stdout",
     "output_type": "stream",
     "text": [
      "0.25 0.32\n",
      "0.8235294117647058 0.7933333333333333\n",
      "Reject Option Classification for Measurement Bias\n",
      "0.42857142857142855 0.3181818181818182\n",
      "0.75 0.7350993377483444\n"
     ]
    },
    {
     "name": "stderr",
     "output_type": "stream",
     "text": [
      "Unable to satisy fairness constraints\n",
      "\n",
      "A value is trying to be set on a copy of a slice from a DataFrame.\n",
      "Try using .loc[row_indexer,col_indexer] = value instead\n",
      "\n",
      "See the caveats in the documentation: https://pandas.pydata.org/pandas-docs/stable/user_guide/indexing.html#returning-a-view-versus-a-copy\n",
      "\n",
      "A value is trying to be set on a copy of a slice from a DataFrame.\n",
      "Try using .loc[row_indexer,col_indexer] = value instead\n",
      "\n",
      "See the caveats in the documentation: https://pandas.pydata.org/pandas-docs/stable/user_guide/indexing.html#returning-a-view-versus-a-copy\n"
     ]
    },
    {
     "data": {
      "text/markdown": [
       "# Re-De-Biasing with Direct Bias"
      ],
      "text/plain": [
       "<IPython.core.display.Markdown object>"
      ]
     },
     "metadata": {},
     "output_type": "display_data"
    },
    {
     "name": "stderr",
     "output_type": "stream",
     "text": [
      "\n",
      "A value is trying to be set on a copy of a slice from a DataFrame.\n",
      "Try using .loc[row_indexer,col_indexer] = value instead\n",
      "\n",
      "See the caveats in the documentation: https://pandas.pydata.org/pandas-docs/stable/user_guide/indexing.html#returning-a-view-versus-a-copy\n",
      "\n",
      "A value is trying to be set on a copy of a slice from a DataFrame.\n",
      "Try using .loc[row_indexer,col_indexer] = value instead\n",
      "\n",
      "See the caveats in the documentation: https://pandas.pydata.org/pandas-docs/stable/user_guide/indexing.html#returning-a-view-versus-a-copy\n",
      "\n",
      "A value is trying to be set on a copy of a slice from a DataFrame.\n",
      "Try using .loc[row_indexer,col_indexer] = value instead\n",
      "\n",
      "See the caveats in the documentation: https://pandas.pydata.org/pandas-docs/stable/user_guide/indexing.html#returning-a-view-versus-a-copy\n",
      "\n",
      "A value is trying to be set on a copy of a slice from a DataFrame.\n",
      "Try using .loc[row_indexer,col_indexer] = value instead\n",
      "\n",
      "See the caveats in the documentation: https://pandas.pydata.org/pandas-docs/stable/user_guide/indexing.html#returning-a-view-versus-a-copy\n"
     ]
    },
    {
     "name": "stdout",
     "output_type": "stream",
     "text": [
      "Direct Bias\n",
      "0.2777777777777778 0.34615384615384615\n",
      "0.23076923076923078 0.8111888111888111\n",
      "reweighing for Direct Bias\n",
      "0.23529411764705882 0.37209302325581395\n",
      "0.5454545454545454 0.8217054263565892\n",
      "disparate impact remover for Direct Bias\n",
      "0.4375 0.3902439024390244\n",
      "0.4444444444444444 0.7835820895522388\n",
      "learning fair representations for Direct Bias\n"
     ]
    },
    {
     "name": "stderr",
     "output_type": "stream",
     "text": [
      "\n",
      "A value is trying to be set on a copy of a slice from a DataFrame.\n",
      "Try using .loc[row_indexer,col_indexer] = value instead\n",
      "\n",
      "See the caveats in the documentation: https://pandas.pydata.org/pandas-docs/stable/user_guide/indexing.html#returning-a-view-versus-a-copy\n",
      "\n",
      "A value is trying to be set on a copy of a slice from a DataFrame.\n",
      "Try using .loc[row_indexer,col_indexer] = value instead\n",
      "\n",
      "See the caveats in the documentation: https://pandas.pydata.org/pandas-docs/stable/user_guide/indexing.html#returning-a-view-versus-a-copy\n",
      "\n",
      "A value is trying to be set on a copy of a slice from a DataFrame.\n",
      "Try using .loc[row_indexer,col_indexer] = value instead\n",
      "\n",
      "See the caveats in the documentation: https://pandas.pydata.org/pandas-docs/stable/user_guide/indexing.html#returning-a-view-versus-a-copy\n",
      "\n",
      "A value is trying to be set on a copy of a slice from a DataFrame.\n",
      "Try using .loc[row_indexer,col_indexer] = value instead\n",
      "\n",
      "See the caveats in the documentation: https://pandas.pydata.org/pandas-docs/stable/user_guide/indexing.html#returning-a-view-versus-a-copy\n",
      "invalid value encountered in double_scalars\n",
      "invalid value encountered in double_scalars\n",
      "invalid value encountered in double_scalars\n",
      "\n",
      "A value is trying to be set on a copy of a slice from a DataFrame.\n",
      "Try using .loc[row_indexer,col_indexer] = value instead\n",
      "\n",
      "See the caveats in the documentation: https://pandas.pydata.org/pandas-docs/stable/user_guide/indexing.html#returning-a-view-versus-a-copy\n",
      "\n",
      "A value is trying to be set on a copy of a slice from a DataFrame.\n",
      "Try using .loc[row_indexer,col_indexer] = value instead\n",
      "\n",
      "See the caveats in the documentation: https://pandas.pydata.org/pandas-docs/stable/user_guide/indexing.html#returning-a-view-versus-a-copy\n",
      "\n",
      "A value is trying to be set on a copy of a slice from a DataFrame.\n",
      "Try using .loc[row_indexer,col_indexer] = value instead\n",
      "\n",
      "See the caveats in the documentation: https://pandas.pydata.org/pandas-docs/stable/user_guide/indexing.html#returning-a-view-versus-a-copy\n",
      "\n",
      "A value is trying to be set on a copy of a slice from a DataFrame.\n",
      "Try using .loc[row_indexer,col_indexer] = value instead\n",
      "\n",
      "See the caveats in the documentation: https://pandas.pydata.org/pandas-docs/stable/user_guide/indexing.html#returning-a-view-versus-a-copy\n",
      "\n",
      "A value is trying to be set on a copy of a slice from a DataFrame.\n",
      "Try using .loc[row_indexer,col_indexer] = value instead\n",
      "\n",
      "See the caveats in the documentation: https://pandas.pydata.org/pandas-docs/stable/user_guide/indexing.html#returning-a-view-versus-a-copy\n",
      "invalid value encountered in double_scalars\n",
      "invalid value encountered in double_scalars\n",
      "\n",
      "A value is trying to be set on a copy of a slice from a DataFrame.\n",
      "Try using .loc[row_indexer,col_indexer] = value instead\n",
      "\n",
      "See the caveats in the documentation: https://pandas.pydata.org/pandas-docs/stable/user_guide/indexing.html#returning-a-view-versus-a-copy\n",
      "\n",
      "A value is trying to be set on a copy of a slice from a DataFrame.\n",
      "Try using .loc[row_indexer,col_indexer] = value instead\n",
      "\n",
      "See the caveats in the documentation: https://pandas.pydata.org/pandas-docs/stable/user_guide/indexing.html#returning-a-view-versus-a-copy\n"
     ]
    },
    {
     "name": "stdout",
     "output_type": "stream",
     "text": [
      "0.4 0.7294117647058823\n",
      "nan nan\n",
      "Calibrated Equal Odds Postprocessor for Direct Bias\n",
      "0.25 nan\n",
      "0.4444444444444444 0.7289156626506024\n",
      "Equal Odds Postprocessor for Direct Bias\n"
     ]
    },
    {
     "name": "stderr",
     "output_type": "stream",
     "text": [
      "\n",
      "A value is trying to be set on a copy of a slice from a DataFrame.\n",
      "Try using .loc[row_indexer,col_indexer] = value instead\n",
      "\n",
      "See the caveats in the documentation: https://pandas.pydata.org/pandas-docs/stable/user_guide/indexing.html#returning-a-view-versus-a-copy\n",
      "\n",
      "A value is trying to be set on a copy of a slice from a DataFrame.\n",
      "Try using .loc[row_indexer,col_indexer] = value instead\n",
      "\n",
      "See the caveats in the documentation: https://pandas.pydata.org/pandas-docs/stable/user_guide/indexing.html#returning-a-view-versus-a-copy\n",
      "\n",
      "A value is trying to be set on a copy of a slice from a DataFrame.\n",
      "Try using .loc[row_indexer,col_indexer] = value instead\n",
      "\n",
      "See the caveats in the documentation: https://pandas.pydata.org/pandas-docs/stable/user_guide/indexing.html#returning-a-view-versus-a-copy\n",
      "\n",
      "A value is trying to be set on a copy of a slice from a DataFrame.\n",
      "Try using .loc[row_indexer,col_indexer] = value instead\n",
      "\n",
      "See the caveats in the documentation: https://pandas.pydata.org/pandas-docs/stable/user_guide/indexing.html#returning-a-view-versus-a-copy\n",
      "\n",
      "A value is trying to be set on a copy of a slice from a DataFrame.\n",
      "Try using .loc[row_indexer,col_indexer] = value instead\n",
      "\n",
      "See the caveats in the documentation: https://pandas.pydata.org/pandas-docs/stable/user_guide/indexing.html#returning-a-view-versus-a-copy\n"
     ]
    },
    {
     "name": "stdout",
     "output_type": "stream",
     "text": [
      "0.4117647058823529 0.36363636363636365\n",
      "0.625 0.8098591549295775\n",
      "Reject Option Classification for Direct Bias\n",
      "0.3181818181818182 0.45714285714285713\n",
      "0.5 0.8120300751879699\n"
     ]
    },
    {
     "name": "stderr",
     "output_type": "stream",
     "text": [
      "Unable to satisy fairness constraints\n",
      "\n",
      "A value is trying to be set on a copy of a slice from a DataFrame.\n",
      "Try using .loc[row_indexer,col_indexer] = value instead\n",
      "\n",
      "See the caveats in the documentation: https://pandas.pydata.org/pandas-docs/stable/user_guide/indexing.html#returning-a-view-versus-a-copy\n",
      "\n",
      "A value is trying to be set on a copy of a slice from a DataFrame.\n",
      "Try using .loc[row_indexer,col_indexer] = value instead\n",
      "\n",
      "See the caveats in the documentation: https://pandas.pydata.org/pandas-docs/stable/user_guide/indexing.html#returning-a-view-versus-a-copy\n"
     ]
    },
    {
     "data": {
      "text/markdown": [
       "# Re-De-Biasing with Omitted Variable Bias"
      ],
      "text/plain": [
       "<IPython.core.display.Markdown object>"
      ]
     },
     "metadata": {},
     "output_type": "display_data"
    },
    {
     "name": "stderr",
     "output_type": "stream",
     "text": [
      "\n",
      "A value is trying to be set on a copy of a slice from a DataFrame.\n",
      "Try using .loc[row_indexer,col_indexer] = value instead\n",
      "\n",
      "See the caveats in the documentation: https://pandas.pydata.org/pandas-docs/stable/user_guide/indexing.html#returning-a-view-versus-a-copy\n",
      "\n",
      "A value is trying to be set on a copy of a slice from a DataFrame.\n",
      "Try using .loc[row_indexer,col_indexer] = value instead\n",
      "\n",
      "See the caveats in the documentation: https://pandas.pydata.org/pandas-docs/stable/user_guide/indexing.html#returning-a-view-versus-a-copy\n",
      "\n",
      "A value is trying to be set on a copy of a slice from a DataFrame.\n",
      "Try using .loc[row_indexer,col_indexer] = value instead\n",
      "\n",
      "See the caveats in the documentation: https://pandas.pydata.org/pandas-docs/stable/user_guide/indexing.html#returning-a-view-versus-a-copy\n",
      "\n",
      "A value is trying to be set on a copy of a slice from a DataFrame.\n",
      "Try using .loc[row_indexer,col_indexer] = value instead\n",
      "\n",
      "See the caveats in the documentation: https://pandas.pydata.org/pandas-docs/stable/user_guide/indexing.html#returning-a-view-versus-a-copy\n"
     ]
    },
    {
     "name": "stdout",
     "output_type": "stream",
     "text": [
      "Omitted Variable Bias\n",
      "0.4166666666666667 0.4230769230769231\n",
      "0.8214285714285714 0.7761194029850746\n",
      "reweighing for Omitted Variable Bias\n",
      "0.3 0.2\n",
      "0.8235294117647058 0.8040540540540541\n",
      "disparate impact remover for Omitted Variable Bias\n",
      "0.3333333333333333 0.4\n",
      "0.7083333333333334 0.7664233576642335\n",
      "learning fair representations for Omitted Variable Bias\n"
     ]
    },
    {
     "name": "stderr",
     "output_type": "stream",
     "text": [
      "\n",
      "A value is trying to be set on a copy of a slice from a DataFrame.\n",
      "Try using .loc[row_indexer,col_indexer] = value instead\n",
      "\n",
      "See the caveats in the documentation: https://pandas.pydata.org/pandas-docs/stable/user_guide/indexing.html#returning-a-view-versus-a-copy\n",
      "\n",
      "A value is trying to be set on a copy of a slice from a DataFrame.\n",
      "Try using .loc[row_indexer,col_indexer] = value instead\n",
      "\n",
      "See the caveats in the documentation: https://pandas.pydata.org/pandas-docs/stable/user_guide/indexing.html#returning-a-view-versus-a-copy\n",
      "\n",
      "A value is trying to be set on a copy of a slice from a DataFrame.\n",
      "Try using .loc[row_indexer,col_indexer] = value instead\n",
      "\n",
      "See the caveats in the documentation: https://pandas.pydata.org/pandas-docs/stable/user_guide/indexing.html#returning-a-view-versus-a-copy\n",
      "\n",
      "A value is trying to be set on a copy of a slice from a DataFrame.\n",
      "Try using .loc[row_indexer,col_indexer] = value instead\n",
      "\n",
      "See the caveats in the documentation: https://pandas.pydata.org/pandas-docs/stable/user_guide/indexing.html#returning-a-view-versus-a-copy\n"
     ]
    },
    {
     "name": "stdout",
     "output_type": "stream",
     "text": [
      "0.6666666666666666 0.7094594594594594\n",
      "0.5 0.8125\n",
      "Calibrated Equal Odds Postprocessor for Omitted Variable Bias\n",
      "0.14285714285714285 nan\n",
      "0.7037037037037037 0.7289156626506024\n",
      "Equal Odds Postprocessor for Omitted Variable Bias\n"
     ]
    },
    {
     "name": "stderr",
     "output_type": "stream",
     "text": [
      "\n",
      "A value is trying to be set on a copy of a slice from a DataFrame.\n",
      "Try using .loc[row_indexer,col_indexer] = value instead\n",
      "\n",
      "See the caveats in the documentation: https://pandas.pydata.org/pandas-docs/stable/user_guide/indexing.html#returning-a-view-versus-a-copy\n",
      "\n",
      "A value is trying to be set on a copy of a slice from a DataFrame.\n",
      "Try using .loc[row_indexer,col_indexer] = value instead\n",
      "\n",
      "See the caveats in the documentation: https://pandas.pydata.org/pandas-docs/stable/user_guide/indexing.html#returning-a-view-versus-a-copy\n",
      "\n",
      "A value is trying to be set on a copy of a slice from a DataFrame.\n",
      "Try using .loc[row_indexer,col_indexer] = value instead\n",
      "\n",
      "See the caveats in the documentation: https://pandas.pydata.org/pandas-docs/stable/user_guide/indexing.html#returning-a-view-versus-a-copy\n",
      "\n",
      "A value is trying to be set on a copy of a slice from a DataFrame.\n",
      "Try using .loc[row_indexer,col_indexer] = value instead\n",
      "\n",
      "See the caveats in the documentation: https://pandas.pydata.org/pandas-docs/stable/user_guide/indexing.html#returning-a-view-versus-a-copy\n",
      "\n",
      "A value is trying to be set on a copy of a slice from a DataFrame.\n",
      "Try using .loc[row_indexer,col_indexer] = value instead\n",
      "\n",
      "See the caveats in the documentation: https://pandas.pydata.org/pandas-docs/stable/user_guide/indexing.html#returning-a-view-versus-a-copy\n",
      "invalid value encountered in double_scalars\n",
      "invalid value encountered in double_scalars\n",
      "\n",
      "A value is trying to be set on a copy of a slice from a DataFrame.\n",
      "Try using .loc[row_indexer,col_indexer] = value instead\n",
      "\n",
      "See the caveats in the documentation: https://pandas.pydata.org/pandas-docs/stable/user_guide/indexing.html#returning-a-view-versus-a-copy\n",
      "\n",
      "A value is trying to be set on a copy of a slice from a DataFrame.\n",
      "Try using .loc[row_indexer,col_indexer] = value instead\n",
      "\n",
      "See the caveats in the documentation: https://pandas.pydata.org/pandas-docs/stable/user_guide/indexing.html#returning-a-view-versus-a-copy\n",
      "\n",
      "A value is trying to be set on a copy of a slice from a DataFrame.\n",
      "Try using .loc[row_indexer,col_indexer] = value instead\n",
      "\n",
      "See the caveats in the documentation: https://pandas.pydata.org/pandas-docs/stable/user_guide/indexing.html#returning-a-view-versus-a-copy\n",
      "\n",
      "A value is trying to be set on a copy of a slice from a DataFrame.\n",
      "Try using .loc[row_indexer,col_indexer] = value instead\n",
      "\n",
      "See the caveats in the documentation: https://pandas.pydata.org/pandas-docs/stable/user_guide/indexing.html#returning-a-view-versus-a-copy\n",
      "\n",
      "A value is trying to be set on a copy of a slice from a DataFrame.\n",
      "Try using .loc[row_indexer,col_indexer] = value instead\n",
      "\n",
      "See the caveats in the documentation: https://pandas.pydata.org/pandas-docs/stable/user_guide/indexing.html#returning-a-view-versus-a-copy\n",
      "\n",
      "A value is trying to be set on a copy of a slice from a DataFrame.\n",
      "Try using .loc[row_indexer,col_indexer] = value instead\n",
      "\n",
      "See the caveats in the documentation: https://pandas.pydata.org/pandas-docs/stable/user_guide/indexing.html#returning-a-view-versus-a-copy\n",
      "\n",
      "A value is trying to be set on a copy of a slice from a DataFrame.\n",
      "Try using .loc[row_indexer,col_indexer] = value instead\n",
      "\n",
      "See the caveats in the documentation: https://pandas.pydata.org/pandas-docs/stable/user_guide/indexing.html#returning-a-view-versus-a-copy\n"
     ]
    },
    {
     "name": "stdout",
     "output_type": "stream",
     "text": [
      "0.14285714285714285 0.47619047619047616\n",
      "0.8333333333333334 0.7597402597402597\n",
      "Reject Option Classification for Omitted Variable Bias\n",
      "0.6 0.3888888888888889\n",
      "0.7619047619047619 0.7564102564102564\n"
     ]
    },
    {
     "name": "stderr",
     "output_type": "stream",
     "text": [
      "Unable to satisy fairness constraints\n",
      "\n",
      "A value is trying to be set on a copy of a slice from a DataFrame.\n",
      "Try using .loc[row_indexer,col_indexer] = value instead\n",
      "\n",
      "See the caveats in the documentation: https://pandas.pydata.org/pandas-docs/stable/user_guide/indexing.html#returning-a-view-versus-a-copy\n",
      "\n",
      "A value is trying to be set on a copy of a slice from a DataFrame.\n",
      "Try using .loc[row_indexer,col_indexer] = value instead\n",
      "\n",
      "See the caveats in the documentation: https://pandas.pydata.org/pandas-docs/stable/user_guide/indexing.html#returning-a-view-versus-a-copy\n"
     ]
    }
   ],
   "source": [
    "def evaluate_german_age():\n",
    "    dataset_transf, dataset_orig = create_semi_german_age()\n",
    "\n",
    "    scores = dict()\n",
    "    \n",
    "    scores[\"Original\"] = redebias(\"Original\", dataset_orig)\n",
    "    \n",
    "    scores[\"Base\"] = redebias(\"Base\", dataset_transf)\n",
    "    \n",
    "    # Historical Bias\n",
    "    # less A=0, Y=1\n",
    "    scores[\"Historical Bias\"] = redebias(\"Historical Bias\", Bias.SamplingBiasGenerator(parameter=\"age\", \n",
    "                                                           parameter_value=0,\n",
    "                                                           weight={\n",
    "                                                               \"credit\": {0:0 , 1:1}\n",
    "                                                           },\n",
    "                                                           bias_strength=0.4).apply(dataset_transf))\n",
    "    \n",
    "    # Representation Bias\n",
    "    scores[\"Representation Bias\"] = redebias(\"Representation Bias\", Bias.SamplingBiasGenerator(parameter=\"age\",\n",
    "                                                              parameter_value=0,\n",
    "                                                              weight={\n",
    "                                                                  \"skill_level=A174\": {0:0, 1:1}\n",
    "                                                              },\n",
    "                                                              bias_strength=0.7).apply(\n",
    "                                    Bias.SamplingBiasGenerator(parameter=\"age\",\n",
    "                                                              parameter_value=0,\n",
    "                                                              weight={\n",
    "                                                                  \"skill_level=A173\": {0:0, 1:1}\n",
    "                                                              },\n",
    "                                                              bias_strength=0.7).apply(\n",
    "                                    Bias.SamplingBiasGenerator(parameter=\"age\",\n",
    "                                                              parameter_value=0,\n",
    "                                                              weight={\n",
    "                                                                  \"property=A121\": {0:0, 1:1}\n",
    "                                                              },\n",
    "                                                              bias_strength=0.7).apply(\n",
    "                                    Bias.SamplingBiasGenerator(parameter=\"age\",\n",
    "                                                              parameter_value=0,\n",
    "                                                              weight={\n",
    "                                                                  \"housing=A152\": {0:0, 1:1}\n",
    "                                                              },\n",
    "                                                              bias_strength=0.7).apply(dataset_transf)\n",
    "    ))))\n",
    "    \n",
    "    # Measurement Bias\n",
    "    scores[\"Measurement Bias\"] = redebias(\"Measurement Bias\", Bias.MeasurementBiasGenerator(parameter=\"age\", \n",
    "                                                           parameter_value=0,\n",
    "                                                          measurement=\"housing=A153\").apply(\n",
    "                                                    Bias.MeasurementBiasGenerator(parameter=\"age\", \n",
    "                                                           parameter_value=0,\n",
    "                                                          measurement=\"housing=A153\").apply(\n",
    "                                                    Bias.MeasurementBiasGenerator(parameter=\"age\", \n",
    "                                                           parameter_value=0,\n",
    "                                                          measurement=\"savings=A61\").apply(\n",
    "                                                    Bias.MeasurementBiasGenerator(parameter=\"age\", \n",
    "                                                           parameter_value=0,\n",
    "                                                          measurement=\"savings=A63\").apply(\n",
    "                                                    Bias.MeasurementBiasGenerator(parameter=\"age\", \n",
    "                                                           parameter_value=0,\n",
    "                                                          measurement=\"savings=A64\").apply(\n",
    "                                                    Bias.MeasurementBiasGenerator(parameter=\"age\", \n",
    "                                                           parameter_value=0,\n",
    "                                                          measurement=\"savings=A65\").apply(\n",
    "                                                    Bias.MeasurementBiasGenerator(parameter=\"age\", \n",
    "                                                           parameter_value=0,\n",
    "                                                          measurement=\"other_debtors=A101\").apply(\n",
    "                                                    Bias.MeasurementBiasGenerator(parameter=\"age\", \n",
    "                                                           parameter_value=0,\n",
    "                                                          measurement=\"other_debtors=A103\").apply(dataset_transf)))))))))\n",
    "    # Direct Bias\n",
    "    scores[\"Direct Bias\"] = redebias(\"Direct Bias\", Bias.MeasurementBiasGenerator(parameter=\"age\", \n",
    "                                                           parameter_value=0,\n",
    "                                                          measurement=\"credit\",\n",
    "                                                           weight={\n",
    "                                                               \"invalid_ratio\": 0,\n",
    "                                                               \"measurement_error\": [1, 0]\n",
    "                                                           },\n",
    "                                                           bias_strength=0.4).apply(dataset_transf))\n",
    "    \n",
    "    # Omitted Variable Bias\n",
    "    scores[\"Omitted Variable Bias\"] = redebias(\"Omitted Variable Bias\", Bias.OmittedVariableBiasGenerator(parameter_to_omit=\"housing=A151\"\n",
    "                                                                       ).apply(\n",
    "                                      Bias.OmittedVariableBiasGenerator(parameter_to_omit=\"housing=A153\"\n",
    "                                                                       ).apply(\n",
    "                                      Bias.OmittedVariableBiasGenerator(parameter_to_omit=\"savings=A61\"\n",
    "                                                                       ).apply(\n",
    "                                      Bias.OmittedVariableBiasGenerator(parameter_to_omit=\"savings=A63\"\n",
    "                                                                       ).apply(\n",
    "                                      Bias.OmittedVariableBiasGenerator(parameter_to_omit=\"savings=A64\"\n",
    "                                                                       ).apply(\n",
    "                                      Bias.OmittedVariableBiasGenerator(parameter_to_omit=\"savings=A65\"\n",
    "                                                                       ).apply(\n",
    "                                      Bias.OmittedVariableBiasGenerator(parameter_to_omit=\"other_debtors=A101\"\n",
    "                                                                       ).apply(\n",
    "                                      Bias.OmittedVariableBiasGenerator(parameter_to_omit=\"other_debtors=A103\"\n",
    "                                                                       ).apply(dataset_transf)))))))))\n",
    "    \n",
    "    return scores\n",
    "\n",
    "german = evaluate_german_age()"
   ]
  },
  {
   "cell_type": "code",
   "execution_count": 6,
   "id": "ab4a2291",
   "metadata": {},
   "outputs": [
    {
     "name": "stdout",
     "output_type": "stream",
     "text": [
      "Original ~ & ~ & 0.745 & -0.1237 & 0.85238 & 0.797 & 35.0 & 165.0 & -0.045977 & -0.26\\\\\n",
      " ~ & reweighing & 0.745 & 0.060566 & 1.0811 & 0.756 & 49.0 & 151.0 & 0.54545 & -0.13187\\\\\n",
      " ~ & disparate impact remover & 0.785 & -0.20327 & 0.74253 & 0.716 & 48.0 & 152.0 & -0.027778 & -0.16819\\\\\n",
      " ~ & LFR & 0.285 & 0.0 & nan & 1.0 & 200.0 & 0.0 & -0.032738 & nan\\\\\n",
      "\\hline\n",
      "\n",
      "Base ~ & ~ & 0.75 & -0.15 & 0.82857 & 0.816 & 31.0 & 169.0 & -0.17727 & 0.10493\\\\\n",
      " ~ & reweighing & 0.785 & -0.14601 & 0.82817 & 0.79 & 34.0 & 166.0 & -0.019231 & -0.0064447\\\\\n",
      " ~ & disparate impact remover & 0.74 & -0.03248 & 0.96041 & 0.764 & 37.0 & 163.0 & -0.25714 & -0.035654\\\\\n",
      " ~ & LFR & 0.295 & 0.0 & nan & 1.0 & 200.0 & 0.0 & -0.080623 & nan\\\\\n",
      "\\hline\n",
      "\n",
      "Historical Bias ~ & ~ & 0.78756 & -0.27641 & 0.65965 & 0.72539 & 44.0 & 149.0 & -0.23325 & -0.095025\\\\\n",
      " ~ & reweighing & 0.80829 & -0.17382 & 0.78241 & 0.75959 & 43.0 & 150.0 & -0.35294 & -0.25926\\\\\n",
      " ~ & disparate impact remover & 0.79275 & -0.35347 & 0.56007 & 0.75233 & 45.0 & 148.0 & -0.17112 & -0.16787\\\\\n",
      " ~ & LFR & 0.29534 & 0.0 & nan & 1.0 & 193.0 & 0.0 & -0.3857 & nan\\\\\n",
      "\\hline\n",
      "\n",
      "Representation Bias ~ & ~ & 0.82022 & -0.18273 & 0.78487 & 0.77753 & 29.0 & 149.0 & 0.05 & -0.21188\\\\\n",
      " ~ & reweighing & 0.80337 & 0.17143 & 1.2069 & 0.81236 & 30.0 & 148.0 & nan & -0.14713\\\\\n",
      " ~ & disparate impact remover & 0.77528 & -0.068376 & 0.91919 & 0.80225 & 28.0 & 150.0 & 0.69231 & -0.08991\\\\\n",
      " ~ & LFR & 0.45506 & 0.011364 & 1.0233 & 0.60225 & 91.0 & 87.0 & 0.22222 & 0.30233\\\\\n",
      "\\hline\n",
      "\n",
      "Measurement Bias ~ & ~ & 0.805 & -0.19748 & 0.76448 & 0.72 & 40.0 & 160.0 & 0.2033 & -0.15704\\\\\n",
      " ~ & reweighing & 0.785 & -0.068715 & 0.91523 & 0.754 & 40.0 & 160.0 & -0.09375 & -0.085687\\\\\n",
      " ~ & disparate impact remover & 0.795 & -0.039295 & 0.95191 & 0.763 & 38.0 & 162.0 & -0.025 & -0.065032\\\\\n",
      " ~ & LFR & 0.245 & 0.0 & nan & 1.0 & 200.0 & 0.0 & -0.14208 & nan\\\\\n",
      "\\hline\n",
      "\n",
      "Direct Bias ~ & ~ & 0.745 & -0.4268 & 0.4956 & 0.751 & 44.0 & 156.0 & -0.068376 & -0.58042\\\\\n",
      " ~ & reweighing & 0.76 & -0.35714 & 0.52381 & 0.677 & 60.0 & 140.0 & -0.1368 & -0.27625\\\\\n",
      " ~ & disparate impact remover & 0.715 & -0.40571 & 0.47015 & 0.694 & 57.0 & 143.0 & 0.047256 & -0.33914\\\\\n",
      " ~ & LFR & 0.32 & 0.0 & nan & 1.0 & 200.0 & 0.0 & -0.32941 & nan\\\\\n",
      "\\hline\n",
      "\n",
      "Omitted Variable Bias ~ & ~ & 0.745 & -0.1375 & 0.83582 & 0.783 & 38.0 & 162.0 & -0.0064103 & 0.045309\\\\\n",
      " ~ & reweighing & 0.8 & -0.22586 & 0.73599 & 0.777 & 35.0 & 165.0 & 0.1 & 0.019475\\\\\n",
      " ~ & disparate impact remover & 0.73 & -0.093087 & 0.88653 & 0.748 & 39.0 & 161.0 & -0.066667 & -0.05809\\\\\n",
      " ~ & LFR & 0.345 & 0.069106 & 1.7083 & 0.842 & 178.0 & 22.0 & -0.042793 & -0.3125\\\\\n",
      "\\hline\n",
      "\n"
     ]
    }
   ],
   "source": [
    "for i in german:\n",
    "    print(i, end=\"\")\n",
    "    for j in [\"base\", \"reweighing\", \"disparate impact remover\", \"LFR\"]:\n",
    "        if german[i][j] is not None:\n",
    "            if j != \"base\":\n",
    "                print(f\" ~ & {j}\", end=\"\")\n",
    "            else:\n",
    "                print(f\" ~ & ~\", end=\"\")\n",
    "                \n",
    "            for m in german[i][j]:\n",
    "                if german[i][j][m] is not None:\n",
    "                    print(f\" & {german[i][j][m]:.5}\", end=\"\")\n",
    "            print(\"\\\\\\\\\")\n",
    "    print(\"\\hline\\n\")"
   ]
  },
  {
   "cell_type": "code",
   "execution_count": 7,
   "id": "d971711f",
   "metadata": {},
   "outputs": [
    {
     "name": "stdout",
     "output_type": "stream",
     "text": [
      "Original ~ & ~ & 0.745 & -0.1237 & 0.85238 & 0.797 & 35.0 & 165.0 & -0.045977 & -0.26\\\\\n",
      " ~ & Calibrated Equal Odds & 0.725 & -0.17647 & 0.82353 & 0.953 & 6.0 & 194.0 & nan & -0.050344\\\\\n",
      " ~ & Equal Odds & 0.755 & -0.19429 & 0.76712 & 0.748 & 38.0 & 162.0 & -0.08046 & 0.024829\\\\\n",
      " ~ & Reject Option Classification & 0.78 & -0.10579 & 0.86305 & 0.723 & 49.0 & 151.0 & 0.047847 & -0.15539\\\\\n",
      "\\hline\n",
      "\n",
      "Base ~ & ~ & 0.75 & -0.15 & 0.82857 & 0.816 & 31.0 & 169.0 & -0.17727 & 0.10493\\\\\n",
      " ~ & Calibrated Equal Odds & 0.725 & -0.17647 & 0.82353 & 0.953 & 6.0 & 194.0 & nan & -0.050344\\\\\n",
      " ~ & Equal Odds & 0.755 & -0.19429 & 0.76712 & 0.748 & 38.0 & 162.0 & -0.08046 & 0.024829\\\\\n",
      " ~ & Reject Option Classification & 0.78 & -0.10579 & 0.86305 & 0.723 & 49.0 & 151.0 & 0.047847 & -0.15539\\\\\n",
      "\\hline\n",
      "\n",
      "Historical Bias ~ & ~ & 0.78756 & -0.27641 & 0.65965 & 0.72539 & 44.0 & 149.0 & -0.23325 & -0.095025\\\\\n",
      " ~ & Calibrated Equal Odds & 0.73057 & -0.42857 & 0.57143 & 0.93472 & 9.0 & 184.0 & nan & -0.16085\\\\\n",
      " ~ & Equal Odds & 0.72539 & -0.28154 & 0.64754 & 0.73368 & 47.0 & 146.0 & -0.27056 & -0.18626\\\\\n",
      " ~ & Reject Option Classification & 0.80311 & -0.12952 & 0.84 & 0.74715 & 40.0 & 153.0 & -0.21875 & -0.073529\\\\\n",
      "\\hline\n",
      "\n",
      "Representation Bias ~ & ~ & 0.82022 & -0.18273 & 0.78487 & 0.77753 & 29.0 & 149.0 & 0.05 & -0.21188\\\\\n",
      " ~ & Calibrated Equal Odds & 0.72472 & -0.28571 & 0.71429 & 0.98202 & 2.0 & 176.0 & nan & 0.074854\\\\\n",
      " ~ & Equal Odds & 0.77528 & -0.067647 & 0.91727 & 0.79775 & 33.0 & 145.0 & -0.32258 & -0.13189\\\\\n",
      " ~ & Reject Option Classification & 0.73034 & -0.13952 & 0.83659 & 0.82584 & 27.0 & 151.0 & -0.32 & -0.34658\\\\\n",
      "\\hline\n",
      "\n",
      "Measurement Bias ~ & ~ & 0.805 & -0.19748 & 0.76448 & 0.72 & 40.0 & 160.0 & 0.2033 & -0.15704\\\\\n",
      " ~ & Calibrated Equal Odds & 0.73 & -0.20588 & 0.79412 & 0.949 & 7.0 & 193.0 & nan & -0.025212\\\\\n",
      " ~ & Equal Odds & 0.78 & -0.17714 & 0.79333 & 0.777 & 33.0 & 167.0 & -0.07 & 0.030196\\\\\n",
      " ~ & Reject Option Classification & 0.725 & -0.13209 & 0.84866 & 0.776 & 29.0 & 171.0 & 0.11039 & 0.014901\\\\\n",
      "\\hline\n",
      "\n",
      "Direct Bias ~ & ~ & 0.745 & -0.4268 & 0.4956 & 0.751 & 44.0 & 156.0 & -0.068376 & -0.58042\\\\\n",
      " ~ & Calibrated Equal Odds & 0.705 & -0.47059 & 0.52941 & 0.887 & 16.0 & 184.0 & nan & -0.28447\\\\\n",
      " ~ & Equal Odds & 0.755 & -0.49143 & 0.39437 & 0.682 & 50.0 & 150.0 & 0.048128 & -0.18486\\\\\n",
      " ~ & Reject Option Classification & 0.735 & -0.47917 & 0.39474 & 0.661 & 57.0 & 143.0 & -0.13896 & -0.31203\\\\\n",
      "\\hline\n",
      "\n",
      "Omitted Variable Bias ~ & ~ & 0.745 & -0.1375 & 0.83582 & 0.783 & 38.0 & 162.0 & -0.0064103 & 0.045309\\\\\n",
      " ~ & Calibrated Equal Odds & 0.73 & -0.20588 & 0.79412 & 0.946 & 7.0 & 193.0 & nan & -0.025212\\\\\n",
      " ~ & Equal Odds & 0.745 & -0.16 & 0.81818 & 0.807 & 28.0 & 172.0 & -0.33333 & 0.073593\\\\\n",
      " ~ & Reject Option Classification & 0.735 & -0.088859 & 0.90089 & 0.842 & 23.0 & 177.0 & 0.21111 & 0.0054945\\\\\n",
      "\\hline\n",
      "\n"
     ]
    }
   ],
   "source": [
    "for i in german:\n",
    "    print(i, end=\"\")\n",
    "    for j in [\"base\", \"Calibrated Equal Odds\", \"Equal Odds\", \"Reject Option Classification\"]:\n",
    "        if german[i][j] is not None:\n",
    "            if j != \"base\":\n",
    "                print(f\" ~ & {j}\", end=\"\")\n",
    "            else:\n",
    "                print(f\" ~ & ~\", end=\"\")\n",
    "                \n",
    "            for m in german[i][j]:\n",
    "                if german[i][j][m] is not None:\n",
    "                    print(f\" & {german[i][j][m]:.5}\", end=\"\")\n",
    "            print(\"\\\\\\\\\")\n",
    "    print(\"\\hline\\n\")"
   ]
  },
  {
   "cell_type": "code",
   "execution_count": 8,
   "id": "ba1f1e92",
   "metadata": {
    "scrolled": true
   },
   "outputs": [],
   "source": [
    "def create_semi_adult_sex():\n",
    "    # load data\n",
    "    single_protected = ['sex']\n",
    "    single_privileged = [['Male']]\n",
    "    ad = AdultDataset(protected_attribute_names=single_protected,\n",
    "        privileged_classes=single_privileged,\n",
    "        features_to_drop=['fnlwgt', \"race\", \"native-country\", \"relationship\", \"marital-status\"])\n",
    "    \n",
    "    # convert to custom object\n",
    "    dataset_orig = Data.fromAif(ad)\n",
    "    \n",
    "    # calculate mean difference\n",
    "    display(Markdown(\"#### Original training dataset\"))\n",
    "    print(f\"Difference in mean outcomes between unprivileged and privileged groups = {dataset_orig.metrics().mean_difference()}\")\n",
    "    \n",
    "    # fit reweighing\n",
    "    RW = Reweighing(unprivileged_groups=[dataset_orig.unprivilegedGroups()],\n",
    "                    privileged_groups=[dataset_orig.privilegedGroups()])\n",
    "    dataset_transf = Data.fromAif(RW.fit_transform(dataset_orig.aif()))\n",
    "    \n",
    "    \n",
    "    # test reweighing\n",
    "    display(Markdown(\"#### Transformed training dataset\"))\n",
    "    print(\"Difference in mean outcomes between unprivileged and privileged groups = %f\" % dataset_transf.metrics().mean_difference())\n",
    "    return dataset_transf, dataset_orig"
   ]
  },
  {
   "cell_type": "code",
   "execution_count": 9,
   "id": "5b0502e0",
   "metadata": {
    "scrolled": true
   },
   "outputs": [
    {
     "name": "stderr",
     "output_type": "stream",
     "text": [
      "WARNING:root:Missing Data: 2809 rows removed from AdultDataset.\n"
     ]
    },
    {
     "data": {
      "text/markdown": [
       "#### Original training dataset"
      ],
      "text/plain": [
       "<IPython.core.display.Markdown object>"
      ]
     },
     "metadata": {},
     "output_type": "display_data"
    },
    {
     "name": "stdout",
     "output_type": "stream",
     "text": [
      "Difference in mean outcomes between unprivileged and privileged groups = -0.19911019753072282\n"
     ]
    },
    {
     "data": {
      "text/markdown": [
       "#### Transformed training dataset"
      ],
      "text/plain": [
       "<IPython.core.display.Markdown object>"
      ]
     },
     "metadata": {},
     "output_type": "display_data"
    },
    {
     "name": "stdout",
     "output_type": "stream",
     "text": [
      "Difference in mean outcomes between unprivileged and privileged groups = 0.000000\n"
     ]
    },
    {
     "data": {
      "text/markdown": [
       "# Re-De-Biasing with Original"
      ],
      "text/plain": [
       "<IPython.core.display.Markdown object>"
      ]
     },
     "metadata": {},
     "output_type": "display_data"
    },
    {
     "name": "stdout",
     "output_type": "stream",
     "text": [
      "Original\n"
     ]
    },
    {
     "name": "stderr",
     "output_type": "stream",
     "text": [
      "\n",
      "A value is trying to be set on a copy of a slice from a DataFrame.\n",
      "Try using .loc[row_indexer,col_indexer] = value instead\n",
      "\n",
      "See the caveats in the documentation: https://pandas.pydata.org/pandas-docs/stable/user_guide/indexing.html#returning-a-view-versus-a-copy\n",
      "\n",
      "A value is trying to be set on a copy of a slice from a DataFrame.\n",
      "Try using .loc[row_indexer,col_indexer] = value instead\n",
      "\n",
      "See the caveats in the documentation: https://pandas.pydata.org/pandas-docs/stable/user_guide/indexing.html#returning-a-view-versus-a-copy\n"
     ]
    },
    {
     "name": "stdout",
     "output_type": "stream",
     "text": [
      "0.08105147864184009 0.17884187082405345\n",
      "0.6018099547511312 0.6835515082527035\n",
      "reweighing for Original\n"
     ]
    },
    {
     "name": "stderr",
     "output_type": "stream",
     "text": [
      "\n",
      "A value is trying to be set on a copy of a slice from a DataFrame.\n",
      "Try using .loc[row_indexer,col_indexer] = value instead\n",
      "\n",
      "See the caveats in the documentation: https://pandas.pydata.org/pandas-docs/stable/user_guide/indexing.html#returning-a-view-versus-a-copy\n",
      "\n",
      "A value is trying to be set on a copy of a slice from a DataFrame.\n",
      "Try using .loc[row_indexer,col_indexer] = value instead\n",
      "\n",
      "See the caveats in the documentation: https://pandas.pydata.org/pandas-docs/stable/user_guide/indexing.html#returning-a-view-versus-a-copy\n"
     ]
    },
    {
     "name": "stdout",
     "output_type": "stream",
     "text": [
      "0.0712719298245614 0.18225841954655514\n",
      "0.5144927536231884 0.6846246973365617\n",
      "disparate impact remover for Original\n"
     ]
    },
    {
     "name": "stderr",
     "output_type": "stream",
     "text": [
      "\n",
      "A value is trying to be set on a copy of a slice from a DataFrame.\n",
      "Try using .loc[row_indexer,col_indexer] = value instead\n",
      "\n",
      "See the caveats in the documentation: https://pandas.pydata.org/pandas-docs/stable/user_guide/indexing.html#returning-a-view-versus-a-copy\n",
      "\n",
      "A value is trying to be set on a copy of a slice from a DataFrame.\n",
      "Try using .loc[row_indexer,col_indexer] = value instead\n",
      "\n",
      "See the caveats in the documentation: https://pandas.pydata.org/pandas-docs/stable/user_guide/indexing.html#returning-a-view-versus-a-copy\n"
     ]
    },
    {
     "name": "stdout",
     "output_type": "stream",
     "text": [
      "0.07751371115173675 0.17510917030567685\n",
      "0.5021459227467812 0.6726943942133815\n",
      "learning fair representations for Original\n"
     ]
    },
    {
     "name": "stderr",
     "output_type": "stream",
     "text": [
      "\n",
      "A value is trying to be set on a copy of a slice from a DataFrame.\n",
      "Try using .loc[row_indexer,col_indexer] = value instead\n",
      "\n",
      "See the caveats in the documentation: https://pandas.pydata.org/pandas-docs/stable/user_guide/indexing.html#returning-a-view-versus-a-copy\n",
      "\n",
      "A value is trying to be set on a copy of a slice from a DataFrame.\n",
      "Try using .loc[row_indexer,col_indexer] = value instead\n",
      "\n",
      "See the caveats in the documentation: https://pandas.pydata.org/pandas-docs/stable/user_guide/indexing.html#returning-a-view-versus-a-copy\n",
      "invalid value encountered in double_scalars\n",
      "invalid value encountered in double_scalars\n",
      "invalid value encountered in double_scalars\n",
      "\n",
      "A value is trying to be set on a copy of a slice from a DataFrame.\n",
      "Try using .loc[row_indexer,col_indexer] = value instead\n",
      "\n",
      "See the caveats in the documentation: https://pandas.pydata.org/pandas-docs/stable/user_guide/indexing.html#returning-a-view-versus-a-copy\n",
      "\n",
      "A value is trying to be set on a copy of a slice from a DataFrame.\n",
      "Try using .loc[row_indexer,col_indexer] = value instead\n",
      "\n",
      "See the caveats in the documentation: https://pandas.pydata.org/pandas-docs/stable/user_guide/indexing.html#returning-a-view-versus-a-copy\n"
     ]
    },
    {
     "name": "stdout",
     "output_type": "stream",
     "text": [
      "0.11218375499334221 0.31517007899403515\n",
      "nan nan\n",
      "Calibrated Equal Odds Postprocessor for Original\n"
     ]
    },
    {
     "name": "stderr",
     "output_type": "stream",
     "text": [
      "\n",
      "A value is trying to be set on a copy of a slice from a DataFrame.\n",
      "Try using .loc[row_indexer,col_indexer] = value instead\n",
      "\n",
      "See the caveats in the documentation: https://pandas.pydata.org/pandas-docs/stable/user_guide/indexing.html#returning-a-view-versus-a-copy\n",
      "\n",
      "A value is trying to be set on a copy of a slice from a DataFrame.\n",
      "Try using .loc[row_indexer,col_indexer] = value instead\n",
      "\n",
      "See the caveats in the documentation: https://pandas.pydata.org/pandas-docs/stable/user_guide/indexing.html#returning-a-view-versus-a-copy\n",
      "\n",
      "A value is trying to be set on a copy of a slice from a DataFrame.\n",
      "Try using .loc[row_indexer,col_indexer] = value instead\n",
      "\n",
      "See the caveats in the documentation: https://pandas.pydata.org/pandas-docs/stable/user_guide/indexing.html#returning-a-view-versus-a-copy\n",
      "invalid value encountered in double_scalars\n",
      "invalid value encountered in double_scalars\n",
      "\n",
      "A value is trying to be set on a copy of a slice from a DataFrame.\n",
      "Try using .loc[row_indexer,col_indexer] = value instead\n",
      "\n",
      "See the caveats in the documentation: https://pandas.pydata.org/pandas-docs/stable/user_guide/indexing.html#returning-a-view-versus-a-copy\n",
      "\n",
      "A value is trying to be set on a copy of a slice from a DataFrame.\n",
      "Try using .loc[row_indexer,col_indexer] = value instead\n",
      "\n",
      "See the caveats in the documentation: https://pandas.pydata.org/pandas-docs/stable/user_guide/indexing.html#returning-a-view-versus-a-copy\n"
     ]
    },
    {
     "name": "stdout",
     "output_type": "stream",
     "text": [
      "0.12017455521987244 0.18195785776997367\n",
      "nan 0.6698564593301436\n",
      "Equal Odds Postprocessor for Original\n"
     ]
    },
    {
     "name": "stderr",
     "output_type": "stream",
     "text": [
      "\n",
      "A value is trying to be set on a copy of a slice from a DataFrame.\n",
      "Try using .loc[row_indexer,col_indexer] = value instead\n",
      "\n",
      "See the caveats in the documentation: https://pandas.pydata.org/pandas-docs/stable/user_guide/indexing.html#returning-a-view-versus-a-copy\n",
      "\n",
      "A value is trying to be set on a copy of a slice from a DataFrame.\n",
      "Try using .loc[row_indexer,col_indexer] = value instead\n",
      "\n",
      "See the caveats in the documentation: https://pandas.pydata.org/pandas-docs/stable/user_guide/indexing.html#returning-a-view-versus-a-copy\n",
      "\n",
      "A value is trying to be set on a copy of a slice from a DataFrame.\n",
      "Try using .loc[row_indexer,col_indexer] = value instead\n",
      "\n",
      "See the caveats in the documentation: https://pandas.pydata.org/pandas-docs/stable/user_guide/indexing.html#returning-a-view-versus-a-copy\n"
     ]
    },
    {
     "name": "stdout",
     "output_type": "stream",
     "text": [
      "0.07711803041274438 0.19072731267853218\n",
      "0.5918367346938775 0.6819787985865724\n",
      "Reject Option Classification for Original\n"
     ]
    },
    {
     "name": "stderr",
     "output_type": "stream",
     "text": [
      "\n",
      "A value is trying to be set on a copy of a slice from a DataFrame.\n",
      "Try using .loc[row_indexer,col_indexer] = value instead\n",
      "\n",
      "See the caveats in the documentation: https://pandas.pydata.org/pandas-docs/stable/user_guide/indexing.html#returning-a-view-versus-a-copy\n",
      "\n",
      "A value is trying to be set on a copy of a slice from a DataFrame.\n",
      "Try using .loc[row_indexer,col_indexer] = value instead\n",
      "\n",
      "See the caveats in the documentation: https://pandas.pydata.org/pandas-docs/stable/user_guide/indexing.html#returning-a-view-versus-a-copy\n",
      "Unable to satisy fairness constraints\n",
      "\n",
      "A value is trying to be set on a copy of a slice from a DataFrame.\n",
      "Try using .loc[row_indexer,col_indexer] = value instead\n",
      "\n",
      "See the caveats in the documentation: https://pandas.pydata.org/pandas-docs/stable/user_guide/indexing.html#returning-a-view-versus-a-copy\n",
      "\n",
      "A value is trying to be set on a copy of a slice from a DataFrame.\n",
      "Try using .loc[row_indexer,col_indexer] = value instead\n",
      "\n",
      "See the caveats in the documentation: https://pandas.pydata.org/pandas-docs/stable/user_guide/indexing.html#returning-a-view-versus-a-copy\n"
     ]
    },
    {
     "name": "stdout",
     "output_type": "stream",
     "text": [
      "0.07853211009174312 0.1780701754385965\n",
      "0.5327510917030568 0.6798582398109864\n"
     ]
    },
    {
     "data": {
      "text/markdown": [
       "# Re-De-Biasing with Base"
      ],
      "text/plain": [
       "<IPython.core.display.Markdown object>"
      ]
     },
     "metadata": {},
     "output_type": "display_data"
    },
    {
     "name": "stdout",
     "output_type": "stream",
     "text": [
      "Base\n"
     ]
    },
    {
     "name": "stderr",
     "output_type": "stream",
     "text": [
      "\n",
      "A value is trying to be set on a copy of a slice from a DataFrame.\n",
      "Try using .loc[row_indexer,col_indexer] = value instead\n",
      "\n",
      "See the caveats in the documentation: https://pandas.pydata.org/pandas-docs/stable/user_guide/indexing.html#returning-a-view-versus-a-copy\n",
      "\n",
      "A value is trying to be set on a copy of a slice from a DataFrame.\n",
      "Try using .loc[row_indexer,col_indexer] = value instead\n",
      "\n",
      "See the caveats in the documentation: https://pandas.pydata.org/pandas-docs/stable/user_guide/indexing.html#returning-a-view-versus-a-copy\n"
     ]
    },
    {
     "name": "stdout",
     "output_type": "stream",
     "text": [
      "0.07173601147776183 0.17441601779755284\n",
      "0.5414847161572053 0.6684365781710915\n",
      "reweighing for Base\n"
     ]
    },
    {
     "name": "stderr",
     "output_type": "stream",
     "text": [
      "\n",
      "A value is trying to be set on a copy of a slice from a DataFrame.\n",
      "Try using .loc[row_indexer,col_indexer] = value instead\n",
      "\n",
      "See the caveats in the documentation: https://pandas.pydata.org/pandas-docs/stable/user_guide/indexing.html#returning-a-view-versus-a-copy\n",
      "\n",
      "A value is trying to be set on a copy of a slice from a DataFrame.\n",
      "Try using .loc[row_indexer,col_indexer] = value instead\n",
      "\n",
      "See the caveats in the documentation: https://pandas.pydata.org/pandas-docs/stable/user_guide/indexing.html#returning-a-view-versus-a-copy\n"
     ]
    },
    {
     "name": "stdout",
     "output_type": "stream",
     "text": [
      "0.07292048369366068 0.18420486335270067\n",
      "0.4632352941176471 0.6805644644002565\n",
      "disparate impact remover for Base\n"
     ]
    },
    {
     "name": "stderr",
     "output_type": "stream",
     "text": [
      "\n",
      "A value is trying to be set on a copy of a slice from a DataFrame.\n",
      "Try using .loc[row_indexer,col_indexer] = value instead\n",
      "\n",
      "See the caveats in the documentation: https://pandas.pydata.org/pandas-docs/stable/user_guide/indexing.html#returning-a-view-versus-a-copy\n",
      "\n",
      "A value is trying to be set on a copy of a slice from a DataFrame.\n",
      "Try using .loc[row_indexer,col_indexer] = value instead\n",
      "\n",
      "See the caveats in the documentation: https://pandas.pydata.org/pandas-docs/stable/user_guide/indexing.html#returning-a-view-versus-a-copy\n"
     ]
    },
    {
     "name": "stdout",
     "output_type": "stream",
     "text": [
      "0.06983655274888559 0.16535786403410366\n",
      "0.5224489795918368 0.6541643684500827\n",
      "learning fair representations for Base\n"
     ]
    },
    {
     "name": "stderr",
     "output_type": "stream",
     "text": [
      "\n",
      "A value is trying to be set on a copy of a slice from a DataFrame.\n",
      "Try using .loc[row_indexer,col_indexer] = value instead\n",
      "\n",
      "See the caveats in the documentation: https://pandas.pydata.org/pandas-docs/stable/user_guide/indexing.html#returning-a-view-versus-a-copy\n",
      "\n",
      "A value is trying to be set on a copy of a slice from a DataFrame.\n",
      "Try using .loc[row_indexer,col_indexer] = value instead\n",
      "\n",
      "See the caveats in the documentation: https://pandas.pydata.org/pandas-docs/stable/user_guide/indexing.html#returning-a-view-versus-a-copy\n",
      "invalid value encountered in double_scalars\n",
      "invalid value encountered in double_scalars\n",
      "invalid value encountered in double_scalars\n",
      "\n",
      "A value is trying to be set on a copy of a slice from a DataFrame.\n",
      "Try using .loc[row_indexer,col_indexer] = value instead\n",
      "\n",
      "See the caveats in the documentation: https://pandas.pydata.org/pandas-docs/stable/user_guide/indexing.html#returning-a-view-versus-a-copy\n",
      "\n",
      "A value is trying to be set on a copy of a slice from a DataFrame.\n",
      "Try using .loc[row_indexer,col_indexer] = value instead\n",
      "\n",
      "See the caveats in the documentation: https://pandas.pydata.org/pandas-docs/stable/user_guide/indexing.html#returning-a-view-versus-a-copy\n"
     ]
    },
    {
     "name": "stdout",
     "output_type": "stream",
     "text": [
      "0.11173553719008264 0.3170494985441605\n",
      "nan nan\n",
      "Calibrated Equal Odds Postprocessor for Base\n"
     ]
    },
    {
     "name": "stderr",
     "output_type": "stream",
     "text": [
      "\n",
      "A value is trying to be set on a copy of a slice from a DataFrame.\n",
      "Try using .loc[row_indexer,col_indexer] = value instead\n",
      "\n",
      "See the caveats in the documentation: https://pandas.pydata.org/pandas-docs/stable/user_guide/indexing.html#returning-a-view-versus-a-copy\n",
      "\n",
      "A value is trying to be set on a copy of a slice from a DataFrame.\n",
      "Try using .loc[row_indexer,col_indexer] = value instead\n",
      "\n",
      "See the caveats in the documentation: https://pandas.pydata.org/pandas-docs/stable/user_guide/indexing.html#returning-a-view-versus-a-copy\n",
      "\n",
      "A value is trying to be set on a copy of a slice from a DataFrame.\n",
      "Try using .loc[row_indexer,col_indexer] = value instead\n",
      "\n",
      "See the caveats in the documentation: https://pandas.pydata.org/pandas-docs/stable/user_guide/indexing.html#returning-a-view-versus-a-copy\n",
      "invalid value encountered in double_scalars\n",
      "invalid value encountered in double_scalars\n",
      "\n",
      "A value is trying to be set on a copy of a slice from a DataFrame.\n",
      "Try using .loc[row_indexer,col_indexer] = value instead\n",
      "\n",
      "See the caveats in the documentation: https://pandas.pydata.org/pandas-docs/stable/user_guide/indexing.html#returning-a-view-versus-a-copy\n",
      "\n",
      "A value is trying to be set on a copy of a slice from a DataFrame.\n",
      "Try using .loc[row_indexer,col_indexer] = value instead\n",
      "\n",
      "See the caveats in the documentation: https://pandas.pydata.org/pandas-docs/stable/user_guide/indexing.html#returning-a-view-versus-a-copy\n"
     ]
    },
    {
     "name": "stdout",
     "output_type": "stream",
     "text": [
      "0.12017455521987244 0.18195785776997367\n",
      "nan 0.6698564593301436\n",
      "Equal Odds Postprocessor for Base\n"
     ]
    },
    {
     "name": "stderr",
     "output_type": "stream",
     "text": [
      "\n",
      "A value is trying to be set on a copy of a slice from a DataFrame.\n",
      "Try using .loc[row_indexer,col_indexer] = value instead\n",
      "\n",
      "See the caveats in the documentation: https://pandas.pydata.org/pandas-docs/stable/user_guide/indexing.html#returning-a-view-versus-a-copy\n",
      "\n",
      "A value is trying to be set on a copy of a slice from a DataFrame.\n",
      "Try using .loc[row_indexer,col_indexer] = value instead\n",
      "\n",
      "See the caveats in the documentation: https://pandas.pydata.org/pandas-docs/stable/user_guide/indexing.html#returning-a-view-versus-a-copy\n",
      "\n",
      "A value is trying to be set on a copy of a slice from a DataFrame.\n",
      "Try using .loc[row_indexer,col_indexer] = value instead\n",
      "\n",
      "See the caveats in the documentation: https://pandas.pydata.org/pandas-docs/stable/user_guide/indexing.html#returning-a-view-versus-a-copy\n"
     ]
    },
    {
     "name": "stdout",
     "output_type": "stream",
     "text": [
      "0.07711803041274438 0.19072731267853218\n",
      "0.5918367346938775 0.6819787985865724\n",
      "Reject Option Classification for Base\n"
     ]
    },
    {
     "name": "stderr",
     "output_type": "stream",
     "text": [
      "\n",
      "A value is trying to be set on a copy of a slice from a DataFrame.\n",
      "Try using .loc[row_indexer,col_indexer] = value instead\n",
      "\n",
      "See the caveats in the documentation: https://pandas.pydata.org/pandas-docs/stable/user_guide/indexing.html#returning-a-view-versus-a-copy\n",
      "\n",
      "A value is trying to be set on a copy of a slice from a DataFrame.\n",
      "Try using .loc[row_indexer,col_indexer] = value instead\n",
      "\n",
      "See the caveats in the documentation: https://pandas.pydata.org/pandas-docs/stable/user_guide/indexing.html#returning-a-view-versus-a-copy\n",
      "Unable to satisy fairness constraints\n",
      "\n",
      "A value is trying to be set on a copy of a slice from a DataFrame.\n",
      "Try using .loc[row_indexer,col_indexer] = value instead\n",
      "\n",
      "See the caveats in the documentation: https://pandas.pydata.org/pandas-docs/stable/user_guide/indexing.html#returning-a-view-versus-a-copy\n",
      "\n",
      "A value is trying to be set on a copy of a slice from a DataFrame.\n",
      "Try using .loc[row_indexer,col_indexer] = value instead\n",
      "\n",
      "See the caveats in the documentation: https://pandas.pydata.org/pandas-docs/stable/user_guide/indexing.html#returning-a-view-versus-a-copy\n"
     ]
    },
    {
     "name": "stdout",
     "output_type": "stream",
     "text": [
      "0.07853211009174312 0.1780701754385965\n",
      "0.5327510917030568 0.6798582398109864\n"
     ]
    },
    {
     "data": {
      "text/markdown": [
       "# Re-De-Biasing with Historical Bias"
      ],
      "text/plain": [
       "<IPython.core.display.Markdown object>"
      ]
     },
     "metadata": {},
     "output_type": "display_data"
    },
    {
     "name": "stdout",
     "output_type": "stream",
     "text": [
      "Historical Bias\n"
     ]
    },
    {
     "name": "stderr",
     "output_type": "stream",
     "text": [
      "\n",
      "A value is trying to be set on a copy of a slice from a DataFrame.\n",
      "Try using .loc[row_indexer,col_indexer] = value instead\n",
      "\n",
      "See the caveats in the documentation: https://pandas.pydata.org/pandas-docs/stable/user_guide/indexing.html#returning-a-view-versus-a-copy\n",
      "\n",
      "A value is trying to be set on a copy of a slice from a DataFrame.\n",
      "Try using .loc[row_indexer,col_indexer] = value instead\n",
      "\n",
      "See the caveats in the documentation: https://pandas.pydata.org/pandas-docs/stable/user_guide/indexing.html#returning-a-view-versus-a-copy\n"
     ]
    },
    {
     "name": "stdout",
     "output_type": "stream",
     "text": [
      "0.030414071088310738 0.1814560743527329\n",
      "0.6388888888888888 0.6625148279952551\n",
      "reweighing for Historical Bias\n"
     ]
    },
    {
     "name": "stderr",
     "output_type": "stream",
     "text": [
      "\n",
      "A value is trying to be set on a copy of a slice from a DataFrame.\n",
      "Try using .loc[row_indexer,col_indexer] = value instead\n",
      "\n",
      "See the caveats in the documentation: https://pandas.pydata.org/pandas-docs/stable/user_guide/indexing.html#returning-a-view-versus-a-copy\n",
      "\n",
      "A value is trying to be set on a copy of a slice from a DataFrame.\n",
      "Try using .loc[row_indexer,col_indexer] = value instead\n",
      "\n",
      "See the caveats in the documentation: https://pandas.pydata.org/pandas-docs/stable/user_guide/indexing.html#returning-a-view-versus-a-copy\n"
     ]
    },
    {
     "name": "stdout",
     "output_type": "stream",
     "text": [
      "0.0256797583081571 0.17736339982653945\n",
      "0.35802469135802467 0.6826273787599755\n",
      "disparate impact remover for Historical Bias\n"
     ]
    },
    {
     "name": "stderr",
     "output_type": "stream",
     "text": [
      "\n",
      "A value is trying to be set on a copy of a slice from a DataFrame.\n",
      "Try using .loc[row_indexer,col_indexer] = value instead\n",
      "\n",
      "See the caveats in the documentation: https://pandas.pydata.org/pandas-docs/stable/user_guide/indexing.html#returning-a-view-versus-a-copy\n",
      "\n",
      "A value is trying to be set on a copy of a slice from a DataFrame.\n",
      "Try using .loc[row_indexer,col_indexer] = value instead\n",
      "\n",
      "See the caveats in the documentation: https://pandas.pydata.org/pandas-docs/stable/user_guide/indexing.html#returning-a-view-versus-a-copy\n"
     ]
    },
    {
     "name": "stdout",
     "output_type": "stream",
     "text": [
      "0.024799416484318017 0.17433688506007708\n",
      "0.54 0.6451612903225806\n",
      "learning fair representations for Historical Bias\n"
     ]
    },
    {
     "name": "stderr",
     "output_type": "stream",
     "text": [
      "\n",
      "A value is trying to be set on a copy of a slice from a DataFrame.\n",
      "Try using .loc[row_indexer,col_indexer] = value instead\n",
      "\n",
      "See the caveats in the documentation: https://pandas.pydata.org/pandas-docs/stable/user_guide/indexing.html#returning-a-view-versus-a-copy\n",
      "\n",
      "A value is trying to be set on a copy of a slice from a DataFrame.\n",
      "Try using .loc[row_indexer,col_indexer] = value instead\n",
      "\n",
      "See the caveats in the documentation: https://pandas.pydata.org/pandas-docs/stable/user_guide/indexing.html#returning-a-view-versus-a-copy\n",
      "invalid value encountered in double_scalars\n",
      "invalid value encountered in double_scalars\n",
      "\n",
      "A value is trying to be set on a copy of a slice from a DataFrame.\n",
      "Try using .loc[row_indexer,col_indexer] = value instead\n",
      "\n",
      "See the caveats in the documentation: https://pandas.pydata.org/pandas-docs/stable/user_guide/indexing.html#returning-a-view-versus-a-copy\n",
      "\n",
      "A value is trying to be set on a copy of a slice from a DataFrame.\n",
      "Try using .loc[row_indexer,col_indexer] = value instead\n",
      "\n",
      "See the caveats in the documentation: https://pandas.pydata.org/pandas-docs/stable/user_guide/indexing.html#returning-a-view-versus-a-copy\n"
     ]
    },
    {
     "name": "stdout",
     "output_type": "stream",
     "text": [
      "nan nan\n",
      "0.036431226765799254 0.3154458598726115\n",
      "Calibrated Equal Odds Postprocessor for Historical Bias\n"
     ]
    },
    {
     "name": "stderr",
     "output_type": "stream",
     "text": [
      "\n",
      "A value is trying to be set on a copy of a slice from a DataFrame.\n",
      "Try using .loc[row_indexer,col_indexer] = value instead\n",
      "\n",
      "See the caveats in the documentation: https://pandas.pydata.org/pandas-docs/stable/user_guide/indexing.html#returning-a-view-versus-a-copy\n",
      "\n",
      "A value is trying to be set on a copy of a slice from a DataFrame.\n",
      "Try using .loc[row_indexer,col_indexer] = value instead\n",
      "\n",
      "See the caveats in the documentation: https://pandas.pydata.org/pandas-docs/stable/user_guide/indexing.html#returning-a-view-versus-a-copy\n",
      "\n",
      "A value is trying to be set on a copy of a slice from a DataFrame.\n",
      "Try using .loc[row_indexer,col_indexer] = value instead\n",
      "\n",
      "See the caveats in the documentation: https://pandas.pydata.org/pandas-docs/stable/user_guide/indexing.html#returning-a-view-versus-a-copy\n",
      "invalid value encountered in double_scalars\n",
      "invalid value encountered in double_scalars\n",
      "\n",
      "A value is trying to be set on a copy of a slice from a DataFrame.\n",
      "Try using .loc[row_indexer,col_indexer] = value instead\n",
      "\n",
      "See the caveats in the documentation: https://pandas.pydata.org/pandas-docs/stable/user_guide/indexing.html#returning-a-view-versus-a-copy\n",
      "\n",
      "A value is trying to be set on a copy of a slice from a DataFrame.\n",
      "Try using .loc[row_indexer,col_indexer] = value instead\n",
      "\n",
      "See the caveats in the documentation: https://pandas.pydata.org/pandas-docs/stable/user_guide/indexing.html#returning-a-view-versus-a-copy\n"
     ]
    },
    {
     "name": "stdout",
     "output_type": "stream",
     "text": [
      "0.04471101417666303 0.1797777777777778\n",
      "nan 0.6870273414776032\n",
      "Equal Odds Postprocessor for Historical Bias\n"
     ]
    },
    {
     "name": "stderr",
     "output_type": "stream",
     "text": [
      "\n",
      "A value is trying to be set on a copy of a slice from a DataFrame.\n",
      "Try using .loc[row_indexer,col_indexer] = value instead\n",
      "\n",
      "See the caveats in the documentation: https://pandas.pydata.org/pandas-docs/stable/user_guide/indexing.html#returning-a-view-versus-a-copy\n",
      "\n",
      "A value is trying to be set on a copy of a slice from a DataFrame.\n",
      "Try using .loc[row_indexer,col_indexer] = value instead\n",
      "\n",
      "See the caveats in the documentation: https://pandas.pydata.org/pandas-docs/stable/user_guide/indexing.html#returning-a-view-versus-a-copy\n",
      "\n",
      "A value is trying to be set on a copy of a slice from a DataFrame.\n",
      "Try using .loc[row_indexer,col_indexer] = value instead\n",
      "\n",
      "See the caveats in the documentation: https://pandas.pydata.org/pandas-docs/stable/user_guide/indexing.html#returning-a-view-versus-a-copy\n"
     ]
    },
    {
     "name": "stdout",
     "output_type": "stream",
     "text": [
      "0.030003797949107482 0.17587939698492464\n",
      "0.5869565217391305 0.6487747957992999\n",
      "Reject Option Classification for Historical Bias\n"
     ]
    },
    {
     "name": "stderr",
     "output_type": "stream",
     "text": [
      "\n",
      "A value is trying to be set on a copy of a slice from a DataFrame.\n",
      "Try using .loc[row_indexer,col_indexer] = value instead\n",
      "\n",
      "See the caveats in the documentation: https://pandas.pydata.org/pandas-docs/stable/user_guide/indexing.html#returning-a-view-versus-a-copy\n",
      "\n",
      "A value is trying to be set on a copy of a slice from a DataFrame.\n",
      "Try using .loc[row_indexer,col_indexer] = value instead\n",
      "\n",
      "See the caveats in the documentation: https://pandas.pydata.org/pandas-docs/stable/user_guide/indexing.html#returning-a-view-versus-a-copy\n",
      "\n",
      "A value is trying to be set on a copy of a slice from a DataFrame.\n",
      "Try using .loc[row_indexer,col_indexer] = value instead\n",
      "\n",
      "See the caveats in the documentation: https://pandas.pydata.org/pandas-docs/stable/user_guide/indexing.html#returning-a-view-versus-a-copy\n",
      "\n",
      "A value is trying to be set on a copy of a slice from a DataFrame.\n",
      "Try using .loc[row_indexer,col_indexer] = value instead\n",
      "\n",
      "See the caveats in the documentation: https://pandas.pydata.org/pandas-docs/stable/user_guide/indexing.html#returning-a-view-versus-a-copy\n",
      "divide by zero encountered in double_scalars\n"
     ]
    },
    {
     "name": "stdout",
     "output_type": "stream",
     "text": [
      "0.02540156892043332 0.29812770043206915\n",
      "0.6136363636363636 nan\n"
     ]
    },
    {
     "name": "stderr",
     "output_type": "stream",
     "text": [
      "invalid value encountered in double_scalars\n",
      "invalid value encountered in double_scalars\n"
     ]
    },
    {
     "data": {
      "text/markdown": [
       "# Re-De-Biasing with Representation Bias"
      ],
      "text/plain": [
       "<IPython.core.display.Markdown object>"
      ]
     },
     "metadata": {},
     "output_type": "display_data"
    },
    {
     "name": "stderr",
     "output_type": "stream",
     "text": [
      "\n",
      "A value is trying to be set on a copy of a slice from a DataFrame.\n",
      "Try using .loc[row_indexer,col_indexer] = value instead\n",
      "\n",
      "See the caveats in the documentation: https://pandas.pydata.org/pandas-docs/stable/user_guide/indexing.html#returning-a-view-versus-a-copy\n",
      "\n",
      "A value is trying to be set on a copy of a slice from a DataFrame.\n",
      "Try using .loc[row_indexer,col_indexer] = value instead\n",
      "\n",
      "See the caveats in the documentation: https://pandas.pydata.org/pandas-docs/stable/user_guide/indexing.html#returning-a-view-versus-a-copy\n"
     ]
    },
    {
     "name": "stdout",
     "output_type": "stream",
     "text": [
      "Representation Bias\n",
      "0.07897435897435898 0.17843784378437844\n",
      "0.5466666666666666 0.6780544296467863\n",
      "reweighing for Representation Bias\n"
     ]
    },
    {
     "name": "stderr",
     "output_type": "stream",
     "text": [
      "\n",
      "A value is trying to be set on a copy of a slice from a DataFrame.\n",
      "Try using .loc[row_indexer,col_indexer] = value instead\n",
      "\n",
      "See the caveats in the documentation: https://pandas.pydata.org/pandas-docs/stable/user_guide/indexing.html#returning-a-view-versus-a-copy\n",
      "\n",
      "A value is trying to be set on a copy of a slice from a DataFrame.\n",
      "Try using .loc[row_indexer,col_indexer] = value instead\n",
      "\n",
      "See the caveats in the documentation: https://pandas.pydata.org/pandas-docs/stable/user_guide/indexing.html#returning-a-view-versus-a-copy\n"
     ]
    },
    {
     "name": "stdout",
     "output_type": "stream",
     "text": [
      "0.07931726907630522 0.181637607592143\n",
      "0.5289256198347108 0.6816009557945042\n",
      "disparate impact remover for Representation Bias\n"
     ]
    },
    {
     "name": "stderr",
     "output_type": "stream",
     "text": [
      "\n",
      "A value is trying to be set on a copy of a slice from a DataFrame.\n",
      "Try using .loc[row_indexer,col_indexer] = value instead\n",
      "\n",
      "See the caveats in the documentation: https://pandas.pydata.org/pandas-docs/stable/user_guide/indexing.html#returning-a-view-versus-a-copy\n",
      "\n",
      "A value is trying to be set on a copy of a slice from a DataFrame.\n",
      "Try using .loc[row_indexer,col_indexer] = value instead\n",
      "\n",
      "See the caveats in the documentation: https://pandas.pydata.org/pandas-docs/stable/user_guide/indexing.html#returning-a-view-versus-a-copy\n"
     ]
    },
    {
     "name": "stdout",
     "output_type": "stream",
     "text": [
      "0.08130081300813008 0.17307249712313003\n",
      "0.45454545454545453 0.6383089770354906\n",
      "learning fair representations for Representation Bias\n"
     ]
    },
    {
     "name": "stderr",
     "output_type": "stream",
     "text": [
      "\n",
      "A value is trying to be set on a copy of a slice from a DataFrame.\n",
      "Try using .loc[row_indexer,col_indexer] = value instead\n",
      "\n",
      "See the caveats in the documentation: https://pandas.pydata.org/pandas-docs/stable/user_guide/indexing.html#returning-a-view-versus-a-copy\n",
      "\n",
      "A value is trying to be set on a copy of a slice from a DataFrame.\n",
      "Try using .loc[row_indexer,col_indexer] = value instead\n",
      "\n",
      "See the caveats in the documentation: https://pandas.pydata.org/pandas-docs/stable/user_guide/indexing.html#returning-a-view-versus-a-copy\n",
      "invalid value encountered in double_scalars\n",
      "invalid value encountered in double_scalars\n",
      "\n",
      "A value is trying to be set on a copy of a slice from a DataFrame.\n",
      "Try using .loc[row_indexer,col_indexer] = value instead\n",
      "\n",
      "See the caveats in the documentation: https://pandas.pydata.org/pandas-docs/stable/user_guide/indexing.html#returning-a-view-versus-a-copy\n",
      "\n",
      "A value is trying to be set on a copy of a slice from a DataFrame.\n",
      "Try using .loc[row_indexer,col_indexer] = value instead\n",
      "\n",
      "See the caveats in the documentation: https://pandas.pydata.org/pandas-docs/stable/user_guide/indexing.html#returning-a-view-versus-a-copy\n"
     ]
    },
    {
     "name": "stdout",
     "output_type": "stream",
     "text": [
      "nan nan\n",
      "0.13556174558960074 0.3090472377902322\n",
      "Calibrated Equal Odds Postprocessor for Representation Bias\n"
     ]
    },
    {
     "name": "stderr",
     "output_type": "stream",
     "text": [
      "\n",
      "A value is trying to be set on a copy of a slice from a DataFrame.\n",
      "Try using .loc[row_indexer,col_indexer] = value instead\n",
      "\n",
      "See the caveats in the documentation: https://pandas.pydata.org/pandas-docs/stable/user_guide/indexing.html#returning-a-view-versus-a-copy\n",
      "\n",
      "A value is trying to be set on a copy of a slice from a DataFrame.\n",
      "Try using .loc[row_indexer,col_indexer] = value instead\n",
      "\n",
      "See the caveats in the documentation: https://pandas.pydata.org/pandas-docs/stable/user_guide/indexing.html#returning-a-view-versus-a-copy\n",
      "\n",
      "A value is trying to be set on a copy of a slice from a DataFrame.\n",
      "Try using .loc[row_indexer,col_indexer] = value instead\n",
      "\n",
      "See the caveats in the documentation: https://pandas.pydata.org/pandas-docs/stable/user_guide/indexing.html#returning-a-view-versus-a-copy\n",
      "invalid value encountered in double_scalars\n",
      "invalid value encountered in double_scalars\n",
      "\n",
      "A value is trying to be set on a copy of a slice from a DataFrame.\n",
      "Try using .loc[row_indexer,col_indexer] = value instead\n",
      "\n",
      "See the caveats in the documentation: https://pandas.pydata.org/pandas-docs/stable/user_guide/indexing.html#returning-a-view-versus-a-copy\n",
      "\n",
      "A value is trying to be set on a copy of a slice from a DataFrame.\n",
      "Try using .loc[row_indexer,col_indexer] = value instead\n",
      "\n",
      "See the caveats in the documentation: https://pandas.pydata.org/pandas-docs/stable/user_guide/indexing.html#returning-a-view-versus-a-copy\n"
     ]
    },
    {
     "name": "stdout",
     "output_type": "stream",
     "text": [
      "0.1137218045112782 0.18304347826086956\n",
      "nan 0.6881785283474066\n",
      "Equal Odds Postprocessor for Representation Bias\n"
     ]
    },
    {
     "name": "stderr",
     "output_type": "stream",
     "text": [
      "\n",
      "A value is trying to be set on a copy of a slice from a DataFrame.\n",
      "Try using .loc[row_indexer,col_indexer] = value instead\n",
      "\n",
      "See the caveats in the documentation: https://pandas.pydata.org/pandas-docs/stable/user_guide/indexing.html#returning-a-view-versus-a-copy\n",
      "\n",
      "A value is trying to be set on a copy of a slice from a DataFrame.\n",
      "Try using .loc[row_indexer,col_indexer] = value instead\n",
      "\n",
      "See the caveats in the documentation: https://pandas.pydata.org/pandas-docs/stable/user_guide/indexing.html#returning-a-view-versus-a-copy\n",
      "\n",
      "A value is trying to be set on a copy of a slice from a DataFrame.\n",
      "Try using .loc[row_indexer,col_indexer] = value instead\n",
      "\n",
      "See the caveats in the documentation: https://pandas.pydata.org/pandas-docs/stable/user_guide/indexing.html#returning-a-view-versus-a-copy\n"
     ]
    },
    {
     "name": "stdout",
     "output_type": "stream",
     "text": [
      "0.08620689655172414 0.17812219227313567\n",
      "0.52 0.6487721302113079\n",
      "Reject Option Classification for Representation Bias\n"
     ]
    },
    {
     "name": "stderr",
     "output_type": "stream",
     "text": [
      "\n",
      "A value is trying to be set on a copy of a slice from a DataFrame.\n",
      "Try using .loc[row_indexer,col_indexer] = value instead\n",
      "\n",
      "See the caveats in the documentation: https://pandas.pydata.org/pandas-docs/stable/user_guide/indexing.html#returning-a-view-versus-a-copy\n",
      "\n",
      "A value is trying to be set on a copy of a slice from a DataFrame.\n",
      "Try using .loc[row_indexer,col_indexer] = value instead\n",
      "\n",
      "See the caveats in the documentation: https://pandas.pydata.org/pandas-docs/stable/user_guide/indexing.html#returning-a-view-versus-a-copy\n",
      "Unable to satisy fairness constraints\n",
      "\n",
      "A value is trying to be set on a copy of a slice from a DataFrame.\n",
      "Try using .loc[row_indexer,col_indexer] = value instead\n",
      "\n",
      "See the caveats in the documentation: https://pandas.pydata.org/pandas-docs/stable/user_guide/indexing.html#returning-a-view-versus-a-copy\n",
      "\n",
      "A value is trying to be set on a copy of a slice from a DataFrame.\n",
      "Try using .loc[row_indexer,col_indexer] = value instead\n",
      "\n",
      "See the caveats in the documentation: https://pandas.pydata.org/pandas-docs/stable/user_guide/indexing.html#returning-a-view-versus-a-copy\n"
     ]
    },
    {
     "name": "stdout",
     "output_type": "stream",
     "text": [
      "0.08302583025830258 0.17693882192403912\n",
      "0.4367816091954023 0.6470923603192702\n"
     ]
    },
    {
     "data": {
      "text/markdown": [
       "# Re-De-Biasing with Measurement Bias"
      ],
      "text/plain": [
       "<IPython.core.display.Markdown object>"
      ]
     },
     "metadata": {},
     "output_type": "display_data"
    },
    {
     "name": "stdout",
     "output_type": "stream",
     "text": [
      "Measurement Bias\n"
     ]
    },
    {
     "name": "stderr",
     "output_type": "stream",
     "text": [
      "\n",
      "A value is trying to be set on a copy of a slice from a DataFrame.\n",
      "Try using .loc[row_indexer,col_indexer] = value instead\n",
      "\n",
      "See the caveats in the documentation: https://pandas.pydata.org/pandas-docs/stable/user_guide/indexing.html#returning-a-view-versus-a-copy\n",
      "\n",
      "A value is trying to be set on a copy of a slice from a DataFrame.\n",
      "Try using .loc[row_indexer,col_indexer] = value instead\n",
      "\n",
      "See the caveats in the documentation: https://pandas.pydata.org/pandas-docs/stable/user_guide/indexing.html#returning-a-view-versus-a-copy\n"
     ]
    },
    {
     "name": "stdout",
     "output_type": "stream",
     "text": [
      "0.08046817849305048 0.1810004387889425\n",
      "0.5242718446601942 0.6781743709771796\n",
      "reweighing for Measurement Bias\n"
     ]
    },
    {
     "name": "stderr",
     "output_type": "stream",
     "text": [
      "\n",
      "A value is trying to be set on a copy of a slice from a DataFrame.\n",
      "Try using .loc[row_indexer,col_indexer] = value instead\n",
      "\n",
      "See the caveats in the documentation: https://pandas.pydata.org/pandas-docs/stable/user_guide/indexing.html#returning-a-view-versus-a-copy\n",
      "\n",
      "A value is trying to be set on a copy of a slice from a DataFrame.\n",
      "Try using .loc[row_indexer,col_indexer] = value instead\n",
      "\n",
      "See the caveats in the documentation: https://pandas.pydata.org/pandas-docs/stable/user_guide/indexing.html#returning-a-view-versus-a-copy\n"
     ]
    },
    {
     "name": "stdout",
     "output_type": "stream",
     "text": [
      "0.07823252444766389 0.18317797528723173\n",
      "0.5340909090909091 0.6998087954110899\n",
      "disparate impact remover for Measurement Bias\n"
     ]
    },
    {
     "name": "stderr",
     "output_type": "stream",
     "text": [
      "\n",
      "A value is trying to be set on a copy of a slice from a DataFrame.\n",
      "Try using .loc[row_indexer,col_indexer] = value instead\n",
      "\n",
      "See the caveats in the documentation: https://pandas.pydata.org/pandas-docs/stable/user_guide/indexing.html#returning-a-view-versus-a-copy\n",
      "\n",
      "A value is trying to be set on a copy of a slice from a DataFrame.\n",
      "Try using .loc[row_indexer,col_indexer] = value instead\n",
      "\n",
      "See the caveats in the documentation: https://pandas.pydata.org/pandas-docs/stable/user_guide/indexing.html#returning-a-view-versus-a-copy\n"
     ]
    },
    {
     "name": "stdout",
     "output_type": "stream",
     "text": [
      "0.0779550398839739 0.1833068000909711\n",
      "0.5244444444444445 0.6568144499178982\n",
      "learning fair representations for Measurement Bias\n"
     ]
    },
    {
     "name": "stderr",
     "output_type": "stream",
     "text": [
      "\n",
      "A value is trying to be set on a copy of a slice from a DataFrame.\n",
      "Try using .loc[row_indexer,col_indexer] = value instead\n",
      "\n",
      "See the caveats in the documentation: https://pandas.pydata.org/pandas-docs/stable/user_guide/indexing.html#returning-a-view-versus-a-copy\n",
      "\n",
      "A value is trying to be set on a copy of a slice from a DataFrame.\n",
      "Try using .loc[row_indexer,col_indexer] = value instead\n",
      "\n",
      "See the caveats in the documentation: https://pandas.pydata.org/pandas-docs/stable/user_guide/indexing.html#returning-a-view-versus-a-copy\n"
     ]
    },
    {
     "name": "stdout",
     "output_type": "stream",
     "text": [
      "0.10029498525073746 0.2731240906256496\n",
      "0.22676579925650558 0.4282685512367491\n",
      "Calibrated Equal Odds Postprocessor for Measurement Bias\n"
     ]
    },
    {
     "name": "stderr",
     "output_type": "stream",
     "text": [
      "\n",
      "A value is trying to be set on a copy of a slice from a DataFrame.\n",
      "Try using .loc[row_indexer,col_indexer] = value instead\n",
      "\n",
      "See the caveats in the documentation: https://pandas.pydata.org/pandas-docs/stable/user_guide/indexing.html#returning-a-view-versus-a-copy\n",
      "\n",
      "A value is trying to be set on a copy of a slice from a DataFrame.\n",
      "Try using .loc[row_indexer,col_indexer] = value instead\n",
      "\n",
      "See the caveats in the documentation: https://pandas.pydata.org/pandas-docs/stable/user_guide/indexing.html#returning-a-view-versus-a-copy\n",
      "\n",
      "A value is trying to be set on a copy of a slice from a DataFrame.\n",
      "Try using .loc[row_indexer,col_indexer] = value instead\n",
      "\n",
      "See the caveats in the documentation: https://pandas.pydata.org/pandas-docs/stable/user_guide/indexing.html#returning-a-view-versus-a-copy\n",
      "\n",
      "A value is trying to be set on a copy of a slice from a DataFrame.\n",
      "Try using .loc[row_indexer,col_indexer] = value instead\n",
      "\n",
      "See the caveats in the documentation: https://pandas.pydata.org/pandas-docs/stable/user_guide/indexing.html#returning-a-view-versus-a-copy\n",
      "\n",
      "A value is trying to be set on a copy of a slice from a DataFrame.\n",
      "Try using .loc[row_indexer,col_indexer] = value instead\n",
      "\n",
      "See the caveats in the documentation: https://pandas.pydata.org/pandas-docs/stable/user_guide/indexing.html#returning-a-view-versus-a-copy\n",
      "invalid value encountered in double_scalars\n",
      "invalid value encountered in double_scalars\n",
      "\n",
      "A value is trying to be set on a copy of a slice from a DataFrame.\n",
      "Try using .loc[row_indexer,col_indexer] = value instead\n",
      "\n",
      "See the caveats in the documentation: https://pandas.pydata.org/pandas-docs/stable/user_guide/indexing.html#returning-a-view-versus-a-copy\n",
      "\n",
      "A value is trying to be set on a copy of a slice from a DataFrame.\n",
      "Try using .loc[row_indexer,col_indexer] = value instead\n",
      "\n",
      "See the caveats in the documentation: https://pandas.pydata.org/pandas-docs/stable/user_guide/indexing.html#returning-a-view-versus-a-copy\n"
     ]
    },
    {
     "name": "stdout",
     "output_type": "stream",
     "text": [
      "0.12017455521987244 0.1795774647887324\n",
      "nan 0.6728028503562945\n",
      "Equal Odds Postprocessor for Measurement Bias\n"
     ]
    },
    {
     "name": "stderr",
     "output_type": "stream",
     "text": [
      "\n",
      "A value is trying to be set on a copy of a slice from a DataFrame.\n",
      "Try using .loc[row_indexer,col_indexer] = value instead\n",
      "\n",
      "See the caveats in the documentation: https://pandas.pydata.org/pandas-docs/stable/user_guide/indexing.html#returning-a-view-versus-a-copy\n",
      "\n",
      "A value is trying to be set on a copy of a slice from a DataFrame.\n",
      "Try using .loc[row_indexer,col_indexer] = value instead\n",
      "\n",
      "See the caveats in the documentation: https://pandas.pydata.org/pandas-docs/stable/user_guide/indexing.html#returning-a-view-versus-a-copy\n",
      "\n",
      "A value is trying to be set on a copy of a slice from a DataFrame.\n",
      "Try using .loc[row_indexer,col_indexer] = value instead\n",
      "\n",
      "See the caveats in the documentation: https://pandas.pydata.org/pandas-docs/stable/user_guide/indexing.html#returning-a-view-versus-a-copy\n"
     ]
    },
    {
     "name": "stdout",
     "output_type": "stream",
     "text": [
      "0.07672727272727273 0.19131197893813076\n",
      "0.5673076923076923 0.6824364281490243\n",
      "Reject Option Classification for Measurement Bias\n"
     ]
    },
    {
     "name": "stderr",
     "output_type": "stream",
     "text": [
      "\n",
      "A value is trying to be set on a copy of a slice from a DataFrame.\n",
      "Try using .loc[row_indexer,col_indexer] = value instead\n",
      "\n",
      "See the caveats in the documentation: https://pandas.pydata.org/pandas-docs/stable/user_guide/indexing.html#returning-a-view-versus-a-copy\n",
      "\n",
      "A value is trying to be set on a copy of a slice from a DataFrame.\n",
      "Try using .loc[row_indexer,col_indexer] = value instead\n",
      "\n",
      "See the caveats in the documentation: https://pandas.pydata.org/pandas-docs/stable/user_guide/indexing.html#returning-a-view-versus-a-copy\n",
      "Unable to satisy fairness constraints\n",
      "\n",
      "A value is trying to be set on a copy of a slice from a DataFrame.\n",
      "Try using .loc[row_indexer,col_indexer] = value instead\n",
      "\n",
      "See the caveats in the documentation: https://pandas.pydata.org/pandas-docs/stable/user_guide/indexing.html#returning-a-view-versus-a-copy\n",
      "\n",
      "A value is trying to be set on a copy of a slice from a DataFrame.\n",
      "Try using .loc[row_indexer,col_indexer] = value instead\n",
      "\n",
      "See the caveats in the documentation: https://pandas.pydata.org/pandas-docs/stable/user_guide/indexing.html#returning-a-view-versus-a-copy\n"
     ]
    },
    {
     "name": "stdout",
     "output_type": "stream",
     "text": [
      "0.0799423838674829 0.17806111233238076\n",
      "0.5619469026548672 0.6942598187311179\n"
     ]
    },
    {
     "data": {
      "text/markdown": [
       "# Re-De-Biasing with Direct Bias"
      ],
      "text/plain": [
       "<IPython.core.display.Markdown object>"
      ]
     },
     "metadata": {},
     "output_type": "display_data"
    },
    {
     "name": "stdout",
     "output_type": "stream",
     "text": [
      "Direct Bias\n"
     ]
    },
    {
     "name": "stderr",
     "output_type": "stream",
     "text": [
      "\n",
      "A value is trying to be set on a copy of a slice from a DataFrame.\n",
      "Try using .loc[row_indexer,col_indexer] = value instead\n",
      "\n",
      "See the caveats in the documentation: https://pandas.pydata.org/pandas-docs/stable/user_guide/indexing.html#returning-a-view-versus-a-copy\n",
      "\n",
      "A value is trying to be set on a copy of a slice from a DataFrame.\n",
      "Try using .loc[row_indexer,col_indexer] = value instead\n",
      "\n",
      "See the caveats in the documentation: https://pandas.pydata.org/pandas-docs/stable/user_guide/indexing.html#returning-a-view-versus-a-copy\n"
     ]
    },
    {
     "name": "stdout",
     "output_type": "stream",
     "text": [
      "0.030243261012491782 0.17698519515477792\n",
      "0.3333333333333333 0.6595238095238095\n",
      "reweighing for Direct Bias\n"
     ]
    },
    {
     "name": "stderr",
     "output_type": "stream",
     "text": [
      "\n",
      "A value is trying to be set on a copy of a slice from a DataFrame.\n",
      "Try using .loc[row_indexer,col_indexer] = value instead\n",
      "\n",
      "See the caveats in the documentation: https://pandas.pydata.org/pandas-docs/stable/user_guide/indexing.html#returning-a-view-versus-a-copy\n",
      "\n",
      "A value is trying to be set on a copy of a slice from a DataFrame.\n",
      "Try using .loc[row_indexer,col_indexer] = value instead\n",
      "\n",
      "See the caveats in the documentation: https://pandas.pydata.org/pandas-docs/stable/user_guide/indexing.html#returning-a-view-versus-a-copy\n"
     ]
    },
    {
     "name": "stdout",
     "output_type": "stream",
     "text": [
      "0.03549276361130255 0.17858690940615518\n",
      "0.15625 0.686539643515673\n",
      "disparate impact remover for Direct Bias\n"
     ]
    },
    {
     "name": "stderr",
     "output_type": "stream",
     "text": [
      "\n",
      "A value is trying to be set on a copy of a slice from a DataFrame.\n",
      "Try using .loc[row_indexer,col_indexer] = value instead\n",
      "\n",
      "See the caveats in the documentation: https://pandas.pydata.org/pandas-docs/stable/user_guide/indexing.html#returning-a-view-versus-a-copy\n",
      "\n",
      "A value is trying to be set on a copy of a slice from a DataFrame.\n",
      "Try using .loc[row_indexer,col_indexer] = value instead\n",
      "\n",
      "See the caveats in the documentation: https://pandas.pydata.org/pandas-docs/stable/user_guide/indexing.html#returning-a-view-versus-a-copy\n"
     ]
    },
    {
     "name": "stdout",
     "output_type": "stream",
     "text": [
      "0.03273709078636517 0.1828750279454505\n",
      "0.1724137931034483 0.669345579793341\n",
      "learning fair representations for Direct Bias\n"
     ]
    },
    {
     "name": "stderr",
     "output_type": "stream",
     "text": [
      "\n",
      "A value is trying to be set on a copy of a slice from a DataFrame.\n",
      "Try using .loc[row_indexer,col_indexer] = value instead\n",
      "\n",
      "See the caveats in the documentation: https://pandas.pydata.org/pandas-docs/stable/user_guide/indexing.html#returning-a-view-versus-a-copy\n",
      "\n",
      "A value is trying to be set on a copy of a slice from a DataFrame.\n",
      "Try using .loc[row_indexer,col_indexer] = value instead\n",
      "\n",
      "See the caveats in the documentation: https://pandas.pydata.org/pandas-docs/stable/user_guide/indexing.html#returning-a-view-versus-a-copy\n",
      "invalid value encountered in double_scalars\n",
      "invalid value encountered in double_scalars\n",
      "invalid value encountered in double_scalars\n",
      "\n",
      "A value is trying to be set on a copy of a slice from a DataFrame.\n",
      "Try using .loc[row_indexer,col_indexer] = value instead\n",
      "\n",
      "See the caveats in the documentation: https://pandas.pydata.org/pandas-docs/stable/user_guide/indexing.html#returning-a-view-versus-a-copy\n",
      "\n",
      "A value is trying to be set on a copy of a slice from a DataFrame.\n",
      "Try using .loc[row_indexer,col_indexer] = value instead\n",
      "\n",
      "See the caveats in the documentation: https://pandas.pydata.org/pandas-docs/stable/user_guide/indexing.html#returning-a-view-versus-a-copy\n"
     ]
    },
    {
     "name": "stdout",
     "output_type": "stream",
     "text": [
      "0.035356904603068715 0.30391367369946853\n",
      "nan nan\n",
      "Calibrated Equal Odds Postprocessor for Direct Bias\n"
     ]
    },
    {
     "name": "stderr",
     "output_type": "stream",
     "text": [
      "\n",
      "A value is trying to be set on a copy of a slice from a DataFrame.\n",
      "Try using .loc[row_indexer,col_indexer] = value instead\n",
      "\n",
      "See the caveats in the documentation: https://pandas.pydata.org/pandas-docs/stable/user_guide/indexing.html#returning-a-view-versus-a-copy\n",
      "\n",
      "A value is trying to be set on a copy of a slice from a DataFrame.\n",
      "Try using .loc[row_indexer,col_indexer] = value instead\n",
      "\n",
      "See the caveats in the documentation: https://pandas.pydata.org/pandas-docs/stable/user_guide/indexing.html#returning-a-view-versus-a-copy\n",
      "\n",
      "A value is trying to be set on a copy of a slice from a DataFrame.\n",
      "Try using .loc[row_indexer,col_indexer] = value instead\n",
      "\n",
      "See the caveats in the documentation: https://pandas.pydata.org/pandas-docs/stable/user_guide/indexing.html#returning-a-view-versus-a-copy\n"
     ]
    },
    {
     "name": "stdout",
     "output_type": "stream",
     "text": [
      "0.033071939993181046 0.18095657923738154\n",
      "0.15217391304347827 0.6670609107037256\n",
      "Equal Odds Postprocessor for Direct Bias\n"
     ]
    },
    {
     "name": "stderr",
     "output_type": "stream",
     "text": [
      "\n",
      "A value is trying to be set on a copy of a slice from a DataFrame.\n",
      "Try using .loc[row_indexer,col_indexer] = value instead\n",
      "\n",
      "See the caveats in the documentation: https://pandas.pydata.org/pandas-docs/stable/user_guide/indexing.html#returning-a-view-versus-a-copy\n",
      "\n",
      "A value is trying to be set on a copy of a slice from a DataFrame.\n",
      "Try using .loc[row_indexer,col_indexer] = value instead\n",
      "\n",
      "See the caveats in the documentation: https://pandas.pydata.org/pandas-docs/stable/user_guide/indexing.html#returning-a-view-versus-a-copy\n",
      "\n",
      "A value is trying to be set on a copy of a slice from a DataFrame.\n",
      "Try using .loc[row_indexer,col_indexer] = value instead\n",
      "\n",
      "See the caveats in the documentation: https://pandas.pydata.org/pandas-docs/stable/user_guide/indexing.html#returning-a-view-versus-a-copy\n",
      "\n",
      "A value is trying to be set on a copy of a slice from a DataFrame.\n",
      "Try using .loc[row_indexer,col_indexer] = value instead\n",
      "\n",
      "See the caveats in the documentation: https://pandas.pydata.org/pandas-docs/stable/user_guide/indexing.html#returning-a-view-versus-a-copy\n",
      "\n",
      "A value is trying to be set on a copy of a slice from a DataFrame.\n",
      "Try using .loc[row_indexer,col_indexer] = value instead\n",
      "\n",
      "See the caveats in the documentation: https://pandas.pydata.org/pandas-docs/stable/user_guide/indexing.html#returning-a-view-versus-a-copy\n"
     ]
    },
    {
     "name": "stdout",
     "output_type": "stream",
     "text": [
      "0.028737598357851522 0.19066403681788296\n",
      "0.2 0.6856465005931198\n",
      "Reject Option Classification for Direct Bias\n"
     ]
    },
    {
     "name": "stderr",
     "output_type": "stream",
     "text": [
      "\n",
      "A value is trying to be set on a copy of a slice from a DataFrame.\n",
      "Try using .loc[row_indexer,col_indexer] = value instead\n",
      "\n",
      "See the caveats in the documentation: https://pandas.pydata.org/pandas-docs/stable/user_guide/indexing.html#returning-a-view-versus-a-copy\n",
      "\n",
      "A value is trying to be set on a copy of a slice from a DataFrame.\n",
      "Try using .loc[row_indexer,col_indexer] = value instead\n",
      "\n",
      "See the caveats in the documentation: https://pandas.pydata.org/pandas-docs/stable/user_guide/indexing.html#returning-a-view-versus-a-copy\n",
      "\n",
      "A value is trying to be set on a copy of a slice from a DataFrame.\n",
      "Try using .loc[row_indexer,col_indexer] = value instead\n",
      "\n",
      "See the caveats in the documentation: https://pandas.pydata.org/pandas-docs/stable/user_guide/indexing.html#returning-a-view-versus-a-copy\n",
      "\n",
      "A value is trying to be set on a copy of a slice from a DataFrame.\n",
      "Try using .loc[row_indexer,col_indexer] = value instead\n",
      "\n",
      "See the caveats in the documentation: https://pandas.pydata.org/pandas-docs/stable/user_guide/indexing.html#returning-a-view-versus-a-copy\n",
      "divide by zero encountered in double_scalars\n"
     ]
    },
    {
     "name": "stdout",
     "output_type": "stream",
     "text": [
      "0.03182751540041068 0.31392931392931395\n",
      "0.15625 nan\n"
     ]
    },
    {
     "name": "stderr",
     "output_type": "stream",
     "text": [
      "invalid value encountered in double_scalars\n",
      "invalid value encountered in double_scalars\n"
     ]
    },
    {
     "data": {
      "text/markdown": [
       "# Re-De-Biasing with Omitted Variable Bias"
      ],
      "text/plain": [
       "<IPython.core.display.Markdown object>"
      ]
     },
     "metadata": {},
     "output_type": "display_data"
    },
    {
     "name": "stderr",
     "output_type": "stream",
     "text": [
      "\n",
      "A value is trying to be set on a copy of a slice from a DataFrame.\n",
      "Try using .loc[row_indexer,col_indexer] = value instead\n",
      "\n",
      "See the caveats in the documentation: https://pandas.pydata.org/pandas-docs/stable/user_guide/indexing.html#returning-a-view-versus-a-copy\n",
      "\n",
      "A value is trying to be set on a copy of a slice from a DataFrame.\n",
      "Try using .loc[row_indexer,col_indexer] = value instead\n",
      "\n",
      "See the caveats in the documentation: https://pandas.pydata.org/pandas-docs/stable/user_guide/indexing.html#returning-a-view-versus-a-copy\n"
     ]
    },
    {
     "name": "stdout",
     "output_type": "stream",
     "text": [
      "Omitted Variable Bias\n",
      "0.07920110192837465 0.19339144536793026\n",
      "0.831858407079646 0.766109785202864\n",
      "reweighing for Omitted Variable Bias\n"
     ]
    },
    {
     "name": "stderr",
     "output_type": "stream",
     "text": [
      "\n",
      "A value is trying to be set on a copy of a slice from a DataFrame.\n",
      "Try using .loc[row_indexer,col_indexer] = value instead\n",
      "\n",
      "See the caveats in the documentation: https://pandas.pydata.org/pandas-docs/stable/user_guide/indexing.html#returning-a-view-versus-a-copy\n",
      "\n",
      "A value is trying to be set on a copy of a slice from a DataFrame.\n",
      "Try using .loc[row_indexer,col_indexer] = value instead\n",
      "\n",
      "See the caveats in the documentation: https://pandas.pydata.org/pandas-docs/stable/user_guide/indexing.html#returning-a-view-versus-a-copy\n"
     ]
    },
    {
     "name": "stdout",
     "output_type": "stream",
     "text": [
      "0.07577903682719547 0.22360717658168083\n",
      "0.6271186440677966 0.8046103183315039\n",
      "disparate impact remover for Omitted Variable Bias\n"
     ]
    },
    {
     "name": "stderr",
     "output_type": "stream",
     "text": [
      "\n",
      "A value is trying to be set on a copy of a slice from a DataFrame.\n",
      "Try using .loc[row_indexer,col_indexer] = value instead\n",
      "\n",
      "See the caveats in the documentation: https://pandas.pydata.org/pandas-docs/stable/user_guide/indexing.html#returning-a-view-versus-a-copy\n",
      "\n",
      "A value is trying to be set on a copy of a slice from a DataFrame.\n",
      "Try using .loc[row_indexer,col_indexer] = value instead\n",
      "\n",
      "See the caveats in the documentation: https://pandas.pydata.org/pandas-docs/stable/user_guide/indexing.html#returning-a-view-versus-a-copy\n"
     ]
    },
    {
     "name": "stdout",
     "output_type": "stream",
     "text": [
      "0.07808022922636103 0.19068825910931175\n",
      "0.6758620689655173 0.737593984962406\n",
      "learning fair representations for Omitted Variable Bias\n"
     ]
    },
    {
     "name": "stderr",
     "output_type": "stream",
     "text": [
      "\n",
      "A value is trying to be set on a copy of a slice from a DataFrame.\n",
      "Try using .loc[row_indexer,col_indexer] = value instead\n",
      "\n",
      "See the caveats in the documentation: https://pandas.pydata.org/pandas-docs/stable/user_guide/indexing.html#returning-a-view-versus-a-copy\n",
      "\n",
      "A value is trying to be set on a copy of a slice from a DataFrame.\n",
      "Try using .loc[row_indexer,col_indexer] = value instead\n",
      "\n",
      "See the caveats in the documentation: https://pandas.pydata.org/pandas-docs/stable/user_guide/indexing.html#returning-a-view-versus-a-copy\n",
      "invalid value encountered in double_scalars\n",
      "invalid value encountered in double_scalars\n",
      "invalid value encountered in double_scalars\n",
      "\n",
      "A value is trying to be set on a copy of a slice from a DataFrame.\n",
      "Try using .loc[row_indexer,col_indexer] = value instead\n",
      "\n",
      "See the caveats in the documentation: https://pandas.pydata.org/pandas-docs/stable/user_guide/indexing.html#returning-a-view-versus-a-copy\n",
      "\n",
      "A value is trying to be set on a copy of a slice from a DataFrame.\n",
      "Try using .loc[row_indexer,col_indexer] = value instead\n",
      "\n",
      "See the caveats in the documentation: https://pandas.pydata.org/pandas-docs/stable/user_guide/indexing.html#returning-a-view-versus-a-copy\n"
     ]
    },
    {
     "name": "stdout",
     "output_type": "stream",
     "text": [
      "0.11173553719008264 0.3170494985441605\n",
      "nan nan\n",
      "Calibrated Equal Odds Postprocessor for Omitted Variable Bias\n"
     ]
    },
    {
     "name": "stderr",
     "output_type": "stream",
     "text": [
      "\n",
      "A value is trying to be set on a copy of a slice from a DataFrame.\n",
      "Try using .loc[row_indexer,col_indexer] = value instead\n",
      "\n",
      "See the caveats in the documentation: https://pandas.pydata.org/pandas-docs/stable/user_guide/indexing.html#returning-a-view-versus-a-copy\n",
      "\n",
      "A value is trying to be set on a copy of a slice from a DataFrame.\n",
      "Try using .loc[row_indexer,col_indexer] = value instead\n",
      "\n",
      "See the caveats in the documentation: https://pandas.pydata.org/pandas-docs/stable/user_guide/indexing.html#returning-a-view-versus-a-copy\n",
      "\n",
      "A value is trying to be set on a copy of a slice from a DataFrame.\n",
      "Try using .loc[row_indexer,col_indexer] = value instead\n",
      "\n",
      "See the caveats in the documentation: https://pandas.pydata.org/pandas-docs/stable/user_guide/indexing.html#returning-a-view-versus-a-copy\n",
      "invalid value encountered in double_scalars\n",
      "invalid value encountered in double_scalars\n",
      "\n",
      "A value is trying to be set on a copy of a slice from a DataFrame.\n",
      "Try using .loc[row_indexer,col_indexer] = value instead\n",
      "\n",
      "See the caveats in the documentation: https://pandas.pydata.org/pandas-docs/stable/user_guide/indexing.html#returning-a-view-versus-a-copy\n",
      "\n",
      "A value is trying to be set on a copy of a slice from a DataFrame.\n",
      "Try using .loc[row_indexer,col_indexer] = value instead\n",
      "\n",
      "See the caveats in the documentation: https://pandas.pydata.org/pandas-docs/stable/user_guide/indexing.html#returning-a-view-versus-a-copy\n"
     ]
    },
    {
     "name": "stdout",
     "output_type": "stream",
     "text": [
      "0.12017455521987244 0.2036888532477947\n",
      "nan 0.7524193548387097\n",
      "Equal Odds Postprocessor for Omitted Variable Bias\n"
     ]
    },
    {
     "name": "stderr",
     "output_type": "stream",
     "text": [
      "\n",
      "A value is trying to be set on a copy of a slice from a DataFrame.\n",
      "Try using .loc[row_indexer,col_indexer] = value instead\n",
      "\n",
      "See the caveats in the documentation: https://pandas.pydata.org/pandas-docs/stable/user_guide/indexing.html#returning-a-view-versus-a-copy\n",
      "\n",
      "A value is trying to be set on a copy of a slice from a DataFrame.\n",
      "Try using .loc[row_indexer,col_indexer] = value instead\n",
      "\n",
      "See the caveats in the documentation: https://pandas.pydata.org/pandas-docs/stable/user_guide/indexing.html#returning-a-view-versus-a-copy\n",
      "\n",
      "A value is trying to be set on a copy of a slice from a DataFrame.\n",
      "Try using .loc[row_indexer,col_indexer] = value instead\n",
      "\n",
      "See the caveats in the documentation: https://pandas.pydata.org/pandas-docs/stable/user_guide/indexing.html#returning-a-view-versus-a-copy\n"
     ]
    },
    {
     "name": "stdout",
     "output_type": "stream",
     "text": [
      "0.0826271186440678 0.2099737532808399\n",
      "0.753968253968254 0.7608024691358025\n",
      "Reject Option Classification for Omitted Variable Bias\n"
     ]
    },
    {
     "name": "stderr",
     "output_type": "stream",
     "text": [
      "\n",
      "A value is trying to be set on a copy of a slice from a DataFrame.\n",
      "Try using .loc[row_indexer,col_indexer] = value instead\n",
      "\n",
      "See the caveats in the documentation: https://pandas.pydata.org/pandas-docs/stable/user_guide/indexing.html#returning-a-view-versus-a-copy\n",
      "\n",
      "A value is trying to be set on a copy of a slice from a DataFrame.\n",
      "Try using .loc[row_indexer,col_indexer] = value instead\n",
      "\n",
      "See the caveats in the documentation: https://pandas.pydata.org/pandas-docs/stable/user_guide/indexing.html#returning-a-view-versus-a-copy\n",
      "\n",
      "A value is trying to be set on a copy of a slice from a DataFrame.\n",
      "Try using .loc[row_indexer,col_indexer] = value instead\n",
      "\n",
      "See the caveats in the documentation: https://pandas.pydata.org/pandas-docs/stable/user_guide/indexing.html#returning-a-view-versus-a-copy\n",
      "\n",
      "A value is trying to be set on a copy of a slice from a DataFrame.\n",
      "Try using .loc[row_indexer,col_indexer] = value instead\n",
      "\n",
      "See the caveats in the documentation: https://pandas.pydata.org/pandas-docs/stable/user_guide/indexing.html#returning-a-view-versus-a-copy\n",
      "divide by zero encountered in double_scalars\n"
     ]
    },
    {
     "name": "stdout",
     "output_type": "stream",
     "text": [
      "0.08735150244584207 0.3092518101367659\n",
      "0.7769230769230769 nan\n"
     ]
    },
    {
     "name": "stderr",
     "output_type": "stream",
     "text": [
      "invalid value encountered in double_scalars\n",
      "invalid value encountered in double_scalars\n"
     ]
    }
   ],
   "source": [
    "def evaluate_adult_sex():\n",
    "    dataset_transf, dataset_orig = create_semi_adult_sex()\n",
    "\n",
    "    scores = dict()\n",
    "    \n",
    "    scores[\"Original\"] = redebias(\"Original\", dataset_orig)\n",
    "    \n",
    "    scores[\"Base\"] = redebias(\"Base\", dataset_transf)\n",
    "    \n",
    "    # Historical Bias\n",
    "    # less A=0, Y=1\n",
    "    scores[\"Historical Bias\"] = redebias(\"Historical Bias\", Bias.SamplingBiasGenerator(parameter=\"sex\", \n",
    "                                                           parameter_value=0,\n",
    "                                                           weight={\n",
    "                                                               \"income-per-year\": {0:0 , 1:1}\n",
    "                                                           },\n",
    "                                                           bias_strength=0.7).apply(dataset_transf))\n",
    "    \n",
    "    # Representation Bias\n",
    "    scores[\"Representation Bias\"] = redebias(\"Representation Bias\", Bias.SamplingBiasGenerator(parameter=\"sex\",\n",
    "                                                              parameter_value=0,\n",
    "                                                              weight={\n",
    "                                                                  \"workclass=Private\": {0:0, 1:1}\n",
    "                                                              },\n",
    "                                                              bias_strength=0.7).apply(\n",
    "                                    Bias.SamplingBiasGenerator(parameter=\"sex\",\n",
    "                                                              parameter_value=0,\n",
    "                                                              weight={\n",
    "                                                                  \"occupation=Machine-op-inspct\": {0:0, 1:1}\n",
    "                                                              },\n",
    "                                                              bias_strength=0.7).apply(\n",
    "                                    Bias.SamplingBiasGenerator(parameter=\"sex\",\n",
    "                                                              parameter_value=0,\n",
    "                                                              weight={\n",
    "                                                                  \"occupation=Tech-support\": {0:0, 1:1}\n",
    "                                                              },\n",
    "                                                              bias_strength=0.7).apply(\n",
    "                                    Bias.SamplingBiasGenerator(parameter=\"sex\",\n",
    "                                                              parameter_value=0,\n",
    "                                                              weight={\n",
    "                                                                  \"occupation=Prof-specialty\": {0:0, 1:1}\n",
    "                                                              },\n",
    "                                                              bias_strength=0.7).apply(dataset_transf)\n",
    "    ))))\n",
    "    \n",
    "    # Measurement Bias\n",
    "    scores[\"Measurement Bias\"] = redebias(\"Measurement Bias\", Bias.MeasurementBiasGenerator(parameter=\"sex\", \n",
    "                                                           parameter_value=0,\n",
    "                                                          measurement=\"hours-per-week\").apply(\n",
    "                                                    Bias.MeasurementBiasGenerator(parameter=\"sex\", \n",
    "                                                           parameter_value=0,\n",
    "                                                          measurement=\"age\").apply(dataset_transf)))\n",
    "    # Direct Bias\n",
    "    scores[\"Direct Bias\"] = redebias(\"Direct Bias\", Bias.MeasurementBiasGenerator(parameter=\"sex\", \n",
    "                                                           parameter_value=0,\n",
    "                                                          measurement=\"income-per-year\",\n",
    "                                                           weight={\n",
    "                                                               \"invalid_ratio\": 0,\n",
    "                                                               \"measurement_error\": [1, 0]\n",
    "                                                           },\n",
    "                                                           bias_strength=0.7).apply(dataset_transf))\n",
    "    \n",
    "    # Omitted Variable Bias\n",
    "    scores[\"Omitted Variable Bias\"] = redebias(\"Omitted Variable Bias\", \n",
    "                                      Bias.OmittedVariableBiasGenerator(parameter_to_omit=\"hours-per-week\"\n",
    "                                                                       ).apply(\n",
    "                                      Bias.OmittedVariableBiasGenerator(parameter_to_omit=\"age\"\n",
    "                                                                       ).apply(dataset_transf)))\n",
    "    \n",
    "    return scores\n",
    "\n",
    "adult = evaluate_adult_sex()"
   ]
  },
  {
   "cell_type": "code",
   "execution_count": 10,
   "id": "2aefc4c0",
   "metadata": {},
   "outputs": [
    {
     "name": "stdout",
     "output_type": "stream",
     "text": [
      "Original ~ & ~ & 0.81872 & -0.20659 & 0.26546 & 0.8694 & 7229.0 & 1978.0 & -0.09779 & -0.081742\\\\\n",
      " ~ & reweighing & 0.81775 & -0.17503 & 0.34363 & 0.8805 & 7279.0 & 1928.0 & -0.11099 & -0.17013\\\\\n",
      " ~ & disparate impact remover & 0.81829 & -0.1874 & 0.29523 & 0.88398 & 7315.0 & 1892.0 & -0.097595 & -0.17055\\\\\n",
      " ~ & LFR & 0.75106 & 0.0 & nan & 1.0 & 9207.0 & 0.0 & -0.20299 & nan\\\\\n",
      "\\hline\n",
      "\n",
      "Base ~ & ~ & 0.82068 & -0.19793 & 0.27719 & 0.87334 & 7283.0 & 1924.0 & -0.10268 & -0.12695\\\\\n",
      " ~ & reweighing & 0.81547 & -0.16057 & 0.3608 & 0.87714 & 7376.0 & 1831.0 & -0.11128 & -0.21733\\\\\n",
      " ~ & disparate impact remover & 0.81872 & -0.20574 & 0.28849 & 0.8737 & 7149.0 & 2058.0 & -0.095521 & -0.13172\\\\\n",
      " ~ & LFR & 0.75041 & 0.0 & nan & 1.0 & 9207.0 & 0.0 & -0.20531 & nan\\\\\n",
      "\\hline\n",
      "\n",
      "Historical Bias ~ & ~ & 0.83445 & -0.2587 & 0.047917 & 0.8847 & 7248.0 & 1722.0 & -0.15104 & -0.023626\\\\\n",
      " ~ & reweighing & 0.83779 & -0.23133 & 0.11371 & 0.88566 & 7260.0 & 1710.0 & -0.15168 & -0.3246\\\\\n",
      " ~ & disparate impact remover & 0.83423 & -0.26811 & 0.062613 & 0.87918 & 7153.0 & 1817.0 & -0.14954 & -0.10516\\\\\n",
      " ~ & LFR & 0.23177 & 0.0 & 1.0 & 1.0 & 0.0 & 8970.0 & nan & -0.27901\\\\\n",
      "\\hline\n",
      "\n",
      "Representation Bias ~ & ~ & 0.79814 & -0.20392 & 0.25941 & 0.85998 & 5520.0 & 1802.0 & -0.099463 & -0.13139\\\\\n",
      " ~ & reweighing & 0.79623 & -0.16146 & 0.40153 & 0.86528 & 5527.0 & 1795.0 & -0.10232 & -0.15268\\\\\n",
      " ~ & disparate impact remover & 0.78599 & -0.23345 & 0.23715 & 0.85523 & 5329.0 & 1993.0 & -0.091772 & -0.18376\\\\\n",
      " ~ & LFR & 0.28353 & 0.0 & 1.0 & 1.0 & 0.0 & 7322.0 & nan & -0.17349\\\\\n",
      "\\hline\n",
      "\n",
      "Measurement Bias ~ & ~ & 0.81612 & -0.20263 & 0.25694 & 0.87668 & 7292.0 & 1915.0 & -0.10053 & -0.1539\\\\\n",
      " ~ & reweighing & 0.82025 & -0.16653 & 0.34386 & 0.88081 & 7374.0 & 1833.0 & -0.10495 & -0.16572\\\\\n",
      " ~ & disparate impact remover & 0.80938 & -0.21811 & 0.25696 & 0.88 & 7155.0 & 2052.0 & -0.10535 & -0.13237\\\\\n",
      " ~ & LFR & 0.71728 & -0.13703 & 0.39705 & 0.98032 & 7523.0 & 1684.0 & -0.17283 & -0.2015\\\\\n",
      "\\hline\n",
      "\n",
      "Direct Bias ~ & ~ & 0.84023 & -0.26491 & 0.032143 & 0.86925 & 7500.0 & 1707.0 & -0.14674 & -0.32619\\\\\n",
      " ~ & reweighing & 0.83806 & -0.23912 & 0.08277 & 0.8789 & 7516.0 & 1691.0 & -0.14309 & -0.53029\\\\\n",
      " ~ & disparate impact remover & 0.83545 & -0.2706 & 0.03458 & 0.87868 & 7436.0 & 1771.0 & -0.15014 & -0.49693\\\\\n",
      " ~ & LFR & 0.78353 & 0.0 & nan & 1.0 & 9207.0 & 0.0 & -0.26856 & nan\\\\\n",
      "\\hline\n",
      "\n",
      "Omitted Variable Bias ~ & ~ & 0.83741 & -0.16562 & 0.18444 & 0.98093 & 7837.0 & 1370.0 & -0.11419 & 0.065749\\\\\n",
      " ~ & reweighing & 0.82166 & -0.087813 & 0.40179 & 0.98217 & 8119.0 & 1088.0 & -0.14783 & -0.17749\\\\\n",
      " ~ & disparate impact remover & 0.831 & -0.16275 & 0.23274 & 0.97656 & 7732.0 & 1475.0 & -0.11261 & -0.061732\\\\\n",
      " ~ & LFR & 0.75041 & 0.0 & nan & 1.0 & 9207.0 & 0.0 & -0.20531 & nan\\\\\n",
      "\\hline\n",
      "\n"
     ]
    },
    {
     "name": "stderr",
     "output_type": "stream",
     "text": [
      "\"is not\" with a literal. Did you mean \"!=\"?\n",
      "\"is not\" with a literal. Did you mean \"!=\"?\n",
      "\"is not\" with a literal. Did you mean \"!=\"?\n"
     ]
    }
   ],
   "source": [
    "for i in adult:\n",
    "    print(i, end=\"\")\n",
    "    for j in [\"base\", \"reweighing\", \"disparate impact remover\", \"LFR\"]:\n",
    "        if adult[i][j] is not None:\n",
    "            if j is not \"base\":\n",
    "                print(f\" ~ & {j}\", end=\"\")\n",
    "            else:\n",
    "                print(f\" ~ & ~\", end=\"\")\n",
    "                \n",
    "            for m in adult[i][j]:\n",
    "                if adult[i][j][m] is not None:\n",
    "                    print(f\" & {adult[i][j][m]:.5}\", end=\"\")\n",
    "            print(\"\\\\\\\\\")\n",
    "    print(\"\\hline\\n\")"
   ]
  },
  {
   "cell_type": "code",
   "execution_count": 11,
   "id": "5c7c3854",
   "metadata": {
    "scrolled": false
   },
   "outputs": [
    {
     "name": "stdout",
     "output_type": "stream",
     "text": [
      "Original ~ & ~ & 0.81872 & -0.20659 & 0.26546 & 0.8694 & 7229.0 & 1978.0 & -0.09779 & -0.081742\\\\\n",
      " ~ & Calibrated Equal Odds & 0.81112 & -0.26846 & 0.0 & 0.87527 & 7535.0 & 1672.0 & -0.061783 & nan\\\\\n",
      " ~ & Equal Odds & 0.81525 & -0.20546 & 0.24385 & 0.88013 & 7313.0 & 1894.0 & -0.11361 & -0.090142\\\\\n",
      " ~ & Reject Option Classification & 0.81807 & -0.19323 & 0.28632 & 0.87781 & 7285.0 & 1922.0 & -0.099538 & -0.14711\\\\\n",
      "\\hline\n",
      "\n",
      "Base ~ & ~ & 0.82068 & -0.19793 & 0.27719 & 0.87334 & 7283.0 & 1924.0 & -0.10268 & -0.12695\\\\\n",
      " ~ & Calibrated Equal Odds & 0.81112 & -0.26846 & 0.0 & 0.87527 & 7535.0 & 1672.0 & -0.061783 & nan\\\\\n",
      " ~ & Equal Odds & 0.81525 & -0.20546 & 0.24385 & 0.88013 & 7313.0 & 1894.0 & -0.11361 & -0.090142\\\\\n",
      " ~ & Reject Option Classification & 0.81807 & -0.19323 & 0.28632 & 0.87781 & 7285.0 & 1922.0 & -0.099538 & -0.14711\\\\\n",
      "\\hline\n",
      "\n",
      "Historical Bias ~ & ~ & 0.83445 & -0.2587 & 0.047917 & 0.8847 & 7248.0 & 1722.0 & -0.15104 & -0.023626\\\\\n",
      " ~ & Calibrated Equal Odds & 0.83612 & -0.27641 & 0.0 & 0.8821 & 7251.0 & 1719.0 & -0.13507 & nan\\\\\n",
      " ~ & Equal Odds & 0.83222 & -0.25528 & 0.063022 & 0.87873 & 7210.0 & 1760.0 & -0.14588 & -0.061818\\\\\n",
      " ~ & Reject Option Classification & 0.78283 & 0.016171 & inf & 0.9928 & 8926.0 & 44.0 & -0.27273 & nan\\\\\n",
      "\\hline\n",
      "\n",
      "Representation Bias ~ & ~ & 0.79814 & -0.20392 & 0.25941 & 0.85998 & 5520.0 & 1802.0 & -0.099463 & -0.13139\\\\\n",
      " ~ & Calibrated Equal Odds & 0.79787 & -0.26494 & 0.0 & 0.86203 & 5664.0 & 1658.0 & -0.069322 & nan\\\\\n",
      " ~ & Equal Odds & 0.79049 & -0.21526 & 0.23744 & 0.85905 & 5496.0 & 1826.0 & -0.091915 & -0.12877\\\\\n",
      " ~ & Reject Option Classification & 0.79022 & -0.21086 & 0.26054 & 0.86427 & 5481.0 & 1841.0 & -0.093913 & -0.21031\\\\\n",
      "\\hline\n",
      "\n",
      "Measurement Bias ~ & ~ & 0.81612 & -0.20263 & 0.25694 & 0.87668 & 7292.0 & 1915.0 & -0.10053 & -0.1539\\\\\n",
      " ~ & Calibrated Equal Odds & 0.81264 & -0.27039 & 0.0 & 0.87403 & 7523.0 & 1684.0 & -0.059403 & nan\\\\\n",
      " ~ & Equal Odds & 0.81427 & -0.20029 & 0.25986 & 0.87887 & 7308.0 & 1899.0 & -0.11458 & -0.11513\\\\\n",
      " ~ & Reject Option Classification & 0.8222 & -0.19151 & 0.28212 & 0.87753 & 7326.0 & 1881.0 & -0.098119 & -0.13231\\\\\n",
      "\\hline\n",
      "\n",
      "Direct Bias ~ & ~ & 0.84023 & -0.26491 & 0.032143 & 0.86925 & 7500.0 & 1707.0 & -0.14674 & -0.32619\\\\\n",
      " ~ & Calibrated Equal Odds & 0.83491 & -0.25607 & 0.056871 & 0.87229 & 7470.0 & 1737.0 & -0.14788 & -0.51489\\\\\n",
      " ~ & Equal Odds & 0.83578 & -0.25797 & 0.043855 & 0.88024 & 7486.0 & 1721.0 & -0.16193 & -0.48565\\\\\n",
      " ~ & Reject Option Classification & 0.77376 & 0.010833 & inf & 0.99524 & 9175.0 & 32.0 & -0.2821 & nan\\\\\n",
      "\\hline\n",
      "\n",
      "Omitted Variable Bias ~ & ~ & 0.83741 & -0.16562 & 0.18444 & 0.98093 & 7837.0 & 1370.0 & -0.11419 & 0.065749\\\\\n",
      " ~ & Calibrated Equal Odds & 0.81742 & -0.1991 & 0.0 & 0.97239 & 7967.0 & 1240.0 & -0.083514 & nan\\\\\n",
      " ~ & Equal Odds & 0.82459 & -0.1648 & 0.20539 & 0.98028 & 7785.0 & 1422.0 & -0.12735 & -0.0068342\\\\\n",
      " ~ & Reject Option Classification & 0.76094 & 0.043449 & inf & 0.98762 & 9077.0 & 130.0 & -0.2219 & nan\\\\\n",
      "\\hline\n",
      "\n"
     ]
    },
    {
     "name": "stderr",
     "output_type": "stream",
     "text": [
      "\"is not\" with a literal. Did you mean \"!=\"?\n",
      "\"is not\" with a literal. Did you mean \"!=\"?\n",
      "\"is not\" with a literal. Did you mean \"!=\"?\n"
     ]
    }
   ],
   "source": [
    "for i in adult:\n",
    "    print(i, end=\"\")\n",
    "    for j in [\"base\", \"Calibrated Equal Odds\", \"Equal Odds\", \"Reject Option Classification\"]:\n",
    "        if adult[i][j] is not None:\n",
    "            if j is not \"base\":\n",
    "                print(f\" ~ & {j}\", end=\"\")\n",
    "            else:\n",
    "                print(f\" ~ & ~\", end=\"\")\n",
    "                \n",
    "            for m in adult[i][j]:\n",
    "                if adult[i][j][m] is not None:\n",
    "                    print(f\" & {adult[i][j][m]:.5}\", end=\"\")\n",
    "            print(\"\\\\\\\\\")\n",
    "    print(\"\\hline\\n\")"
   ]
  },
  {
   "cell_type": "code",
   "execution_count": 17,
   "id": "ae7cd3ca",
   "metadata": {},
   "outputs": [
    {
     "name": "stdout",
     "output_type": "stream",
     "text": [
      "dict_keys(['accuracy', 'mean difference', 'disparate impact', 'consistency', 'num neg', 'num pos', 'predictive equality', 'equal opportunity'])\n"
     ]
    }
   ],
   "source": [
    "print(adult[\"Base\"][\"base\"].keys())"
   ]
  }
 ],
 "metadata": {
  "kernelspec": {
   "display_name": "Python 3",
   "language": "python",
   "name": "python3"
  },
  "language_info": {
   "codemirror_mode": {
    "name": "ipython",
    "version": 3
   },
   "file_extension": ".py",
   "mimetype": "text/x-python",
   "name": "python",
   "nbconvert_exporter": "python",
   "pygments_lexer": "ipython3",
   "version": "3.8.10"
  }
 },
 "nbformat": 4,
 "nbformat_minor": 5
}
