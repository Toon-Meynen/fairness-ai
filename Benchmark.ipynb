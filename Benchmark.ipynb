{
 "cells": [
  {
   "cell_type": "code",
   "execution_count": 1,
   "id": "34926bf8",
   "metadata": {},
   "outputs": [],
   "source": [
    "import numpy as np\n",
    "import pandas as pd\n",
    "from matplotlib import pyplot as plt\n",
    "import pickle"
   ]
  },
  {
   "cell_type": "code",
   "execution_count": 2,
   "id": "1346e7d8",
   "metadata": {},
   "outputs": [],
   "source": [
    "from IPython.display import Markdown, display"
   ]
  },
  {
   "cell_type": "code",
   "execution_count": 3,
   "id": "786bc92c",
   "metadata": {},
   "outputs": [],
   "source": [
    "from sklearn.model_selection import train_test_split\n",
    "from sklearn.linear_model import LogisticRegression\n",
    "from sklearn.metrics import accuracy_score"
   ]
  },
  {
   "cell_type": "code",
   "execution_count": 4,
   "id": "f5dcc107",
   "metadata": {},
   "outputs": [],
   "source": [
    "from aif360.datasets import AdultDataset, BankDataset, CompasDataset, GermanDataset, LawSchoolGPADataset\n",
    "from aif360.metrics import BinaryLabelDatasetMetric\n",
    "from aif360.algorithms.preprocessing import Reweighing"
   ]
  },
  {
   "cell_type": "code",
   "execution_count": 5,
   "id": "657863fc",
   "metadata": {},
   "outputs": [],
   "source": [
    "from BiasGenerator.TemporalBiasGenerator import TemporalBiasGenerator\n",
    "from BiasGenerator.CauseEffectBiasGenerator import CauseEffectBiasGenerator\n",
    "from BiasGenerator.SamplingBiasGenerator import SamplingBiasGenerator\n",
    "from BiasGenerator.MeasurementBiasGenerator import MeasurementBiasGenerator\n",
    "from BiasGenerator.OmittedVariableBiasGenerator import OmittedVariableBiasGenerator\n",
    "from BiasGenerator.SimpsonsParadoxGenerator import SimpsonsParadoxGenerator"
   ]
  },
  {
   "cell_type": "code",
   "execution_count": 6,
   "id": "1621b40f",
   "metadata": {},
   "outputs": [],
   "source": [
    "from Data import Data"
   ]
  },
  {
   "cell_type": "markdown",
   "id": "cbcefc3a",
   "metadata": {},
   "source": [
    "# Generic title"
   ]
  },
  {
   "cell_type": "code",
   "execution_count": 7,
   "id": "0988f956",
   "metadata": {},
   "outputs": [],
   "source": [
    "def plot(d):\n",
    "    print(d)\n",
    "    plt.ylabel(\"Accuracy\")\n",
    "    plt.xlabel(\"Bias\")\n",
    "    for i in d:\n",
    "        plt.plot(d[i][\"bias\"], d[i][\"accuracy\"], marker=\"o\", markersize=\"10\")\n",
    "        plt.annotate(i, (d[i][\"bias\"], d[i][\"accuracy\"]), textcoords=\"offset points\", xytext=(0,10), ha='center') \n",
    "    plt.show()"
   ]
  },
  {
   "cell_type": "code",
   "execution_count": 8,
   "id": "3028ca32",
   "metadata": {},
   "outputs": [],
   "source": [
    "def fromAif(data):\n",
    "    extracted_df = data.convert_to_dataframe()\n",
    "    df = extracted_df[0]\n",
    "    pa = extracted_df[1][\"protected_attribute_names\"]\n",
    "    l  = extracted_df[1][\"label_names\"]\n",
    "    w  = extracted_df[1][\"instance_weights\"]\n",
    "    return Data(df=df, protected_attributes=pa, labels=l, weights=w)"
   ]
  },
  {
   "cell_type": "code",
   "execution_count": 9,
   "id": "84eac3b0",
   "metadata": {},
   "outputs": [],
   "source": [
    "RANDOM_STATE = 42\n",
    "TRAIN_TEST_RATIO = 0.2\n",
    "\n",
    "np.random.seed(RANDOM_STATE)"
   ]
  },
  {
   "cell_type": "markdown",
   "id": "c170c10d",
   "metadata": {},
   "source": [
    "# Grades dataset"
   ]
  },
  {
   "cell_type": "markdown",
   "id": "e7622a92",
   "metadata": {},
   "source": [
    "### Loading data"
   ]
  },
  {
   "cell_type": "code",
   "execution_count": 10,
   "id": "28194ab4",
   "metadata": {},
   "outputs": [],
   "source": [
    "def load_grades():\n",
    "    return pd.read_csv(\"data/famous/CompleteDataAndBiases.csv\", index_col=\"index\")"
   ]
  },
  {
   "cell_type": "markdown",
   "id": "f9e6038d",
   "metadata": {},
   "source": [
    "### Preprocessing data"
   ]
  },
  {
   "cell_type": "code",
   "execution_count": 11,
   "id": "1533650a",
   "metadata": {},
   "outputs": [],
   "source": [
    "def preproc_grades():\n",
    "    data = load_grades()\n",
    "\n",
    "    # remove unwanted features\n",
    "    data = data.drop([\"ParticipantID\", \"name\", \"G3\", \"PredictedRank\", \"PredictedGrade\", \"StereotypeActivation\"], axis=1)\n",
    "    # binarize sex\n",
    "    data[\"sex\"] = data[\"sex\"].apply(lambda x: 1 if x == \"F\" else 0)\n",
    "    data[\"Pass\"] = data[\"Pass\"].apply(lambda x: 1 if x else 0)\n",
    "\n",
    "    # one hot encoding\n",
    "    one_hot = pd.get_dummies(data[[\"romantic\", \"reason\"]])\n",
    "    data = data.drop([\"romantic\", \"reason\"], axis=1)\n",
    "    data = data.join(one_hot)\n",
    "\n",
    "    fair_data = data.copy()\n",
    "    fair_data = fair_data.drop([\"Predicted_Pass_RankingStrategy\", \"Predicted_Pass_PassFailStrategy\"], axis=1)\n",
    "\n",
    "    biased_data = data.drop([\"Pass\",  \"Predicted_Pass_PassFailStrategy\"], axis=1)\n",
    "    biased_data = biased_data.rename(columns={\"Predicted_Pass_RankingStrategy\": \"Pass\"})\n",
    "    biased_data[\"Pass\"] = biased_data[\"Pass\"].apply(lambda x: 1 if x else 0)\n",
    "\n",
    "    return fair_data, biased_data"
   ]
  },
  {
   "cell_type": "code",
   "execution_count": 12,
   "id": "be44a3d0",
   "metadata": {},
   "outputs": [],
   "source": [
    "def split_grades():\n",
    "    fair, biased = preproc_grades()\n",
    "    biased_train, biased_test, fair_train, fair_test = train_test_split(biased, fair, test_size=TRAIN_TEST_RATIO, random_state=RANDOM_STATE)\n",
    "    \n",
    "    biased_data_train = Data(biased_train, [\"sex\"], [\"Pass\"])\n",
    "    biased_data_test = Data(biased_test, [\"sex\"], [\"Pass\"])\n",
    "\n",
    "    fair_data_train = Data(fair_train, [\"sex\"], [\"Pass\"])\n",
    "    fair_data_test = Data(fair_test, [\"sex\"], [\"Pass\"])\n",
    "    \n",
    "    return biased_data_train, biased_data_test, fair_data_train, fair_data_test"
   ]
  },
  {
   "cell_type": "markdown",
   "id": "a55f62c0",
   "metadata": {},
   "source": [
    "### Rebiasing using our method"
   ]
  },
  {
   "cell_type": "code",
   "execution_count": 13,
   "id": "ab3d3a37",
   "metadata": {},
   "outputs": [
    {
     "name": "stderr",
     "output_type": "stream",
     "text": [
      "\n",
      "A value is trying to be set on a copy of a slice from a DataFrame.\n",
      "Try using .loc[row_indexer,col_indexer] = value instead\n",
      "\n",
      "See the caveats in the documentation: https://pandas.pydata.org/pandas-docs/stable/user_guide/indexing.html#returning-a-view-versus-a-copy\n",
      "\n",
      "A value is trying to be set on a copy of a slice from a DataFrame.\n",
      "Try using .loc[row_indexer,col_indexer] = value instead\n",
      "\n",
      "See the caveats in the documentation: https://pandas.pydata.org/pandas-docs/stable/user_guide/indexing.html#returning-a-view-versus-a-copy\n",
      "\n",
      "A value is trying to be set on a copy of a slice from a DataFrame.\n",
      "Try using .loc[row_indexer,col_indexer] = value instead\n",
      "\n",
      "See the caveats in the documentation: https://pandas.pydata.org/pandas-docs/stable/user_guide/indexing.html#returning-a-view-versus-a-copy\n",
      "\n",
      "A value is trying to be set on a copy of a slice from a DataFrame.\n",
      "Try using .loc[row_indexer,col_indexer] = value instead\n",
      "\n",
      "See the caveats in the documentation: https://pandas.pydata.org/pandas-docs/stable/user_guide/indexing.html#returning-a-view-versus-a-copy\n"
     ]
    },
    {
     "name": "stdout",
     "output_type": "stream",
     "text": [
      "Testing unfair baseline...\n",
      "Testing fair baseline...\n",
      "Testing measurement...\n",
      "Testing measurement Y...\n",
      "Testing measurement A...\n",
      "Testing Omitted (bias)...\n",
      "Testing Omitted (fair)...\n",
      "Testing Sampling (men)...\n",
      "Testing Sampling (women)...\n",
      "Testing Sampling (forced)...\n",
      "{'unfair baseline': {'accuracy': 0.75, 'bias': -0.2116325204364332}, 'fair baseline': {'accuracy': 0.8372093023255814, 'bias': -0.04268563806136061}, 'measurement': {'accuracy': 0.8372093023255814, 'bias': -0.04268563806136061}, 'measurement Y': {'accuracy': 0.813953488372093, 'bias': -0.22319321407805182}, 'measurement A': {'accuracy': 0.8313953488372093, 'bias': -0.001054222159749818}, 'Omitted (bias)': {'accuracy': 0.8313953488372093, 'bias': -0.2116325204364332}, 'Omitted (fair)': {'accuracy': 0.8313953488372093, 'bias': -0.04268563806136061}, 'Sampling (men)': {'accuracy': 0.8313953488372093, 'bias': -0.06170154933405814}, 'Sampling (women)': {'accuracy': 0.8372093023255814, 'bias': -0.026241936835050717}, 'Sampling (forced)': {'accuracy': 0.8372093023255814, 'bias': -0.22687152664269372}}\n"
     ]
    },
    {
     "data": {
      "image/png": "[encoded data removed]",
      "text/plain": [
       "<Figure size 432x288 with 1 Axes>"
      ]
     },
     "metadata": {
      "needs_background": "light"
     },
     "output_type": "display_data"
    }
   ],
   "source": [
    "class GradesDatasetTester:\n",
    "    def __init__(self):\n",
    "        btr, bte, ftr, fte = split_grades()\n",
    "        self.biased_train = btr\n",
    "        self.biased_test = bte\n",
    "        self.fair_train = ftr\n",
    "        self.fair_test = fte\n",
    "    \n",
    "    def test_all(self, params):\n",
    "        results = dict()\n",
    "        results.update(self.basic_unfair())\n",
    "        results.update(self.basic_fair())\n",
    "        results.update(self.basic_measurement(params[\"measurement\"], params[\"a\"]))\n",
    "        results.update(self.y_measurement(params[\"y\"], params[\"a\"]))\n",
    "        results.update(self.a_measurement(params[\"a\"]))\n",
    "        results.update(self.omit_bias(params[\"omit\"]))\n",
    "        results.update(self.omit_fair(params[\"omit\"]))\n",
    "        results.update(self.sampling_men(params[\"y\"], params[\"a\"]))\n",
    "        results.update(self.sampling_women(params[\"y\"], params[\"a\"]))\n",
    "        results.update(self.sampling_forced(params[\"y\"], params[\"a\"]))\n",
    "        return results\n",
    "        \n",
    "    def test_data(self, data, omit=None):\n",
    "        X_train = data.X()\n",
    "        y_train = data.y()\n",
    "        X_test = self.biased_test.X().copy()\n",
    "        \n",
    "        if omit is not None:\n",
    "            X_test = Data(X_test, [], [])\n",
    "            for i in omit:\n",
    "                X_test = OmittedVariableBiasGenerator(parameter_to_omit=i).apply(X_test)\n",
    "                \n",
    "            X_test = X_test.df(False)\n",
    "        model = LogisticRegression(max_iter=200)\n",
    "        model.fit(X_train, y_train)\n",
    "        \n",
    "        preds = model.predict(X_test)\n",
    "        proba = model.predict_proba(X_test)\n",
    "        return {\"preds\": preds, \"proba\": proba}\n",
    "    \n",
    "    def evaluate_results(self, results, data):\n",
    "        preds = results[\"preds\"]\n",
    "        proba = results[\"proba\"]\n",
    "        ground_truth = self.fair_test.y()\n",
    "        \n",
    "        accuracy = accuracy_score(ground_truth, preds)\n",
    "        bias = data.metrics().mean_difference()\n",
    "        \n",
    "        return {\"accuracy\": accuracy, \"bias\": bias}\n",
    "    \n",
    "    def basic_unfair(self):\n",
    "        name = \"unfair baseline\"\n",
    "        print(f\"Testing {name}...\")\n",
    "        \n",
    "        train = self.biased_train\n",
    "        return {name: self.evaluate_results(self.test_data(train), train)}\n",
    "        \n",
    "    def basic_fair(self):\n",
    "        name = \"fair baseline\"\n",
    "        print(f\"Testing {name}...\")\n",
    "        \n",
    "        train = self.fair_train\n",
    "        return {name: self.evaluate_results(self.test_data(train), train)}\n",
    "     \n",
    "    def basic_measurement(self, measurement, A):\n",
    "        name = \"measurement\"\n",
    "        print(f\"Testing {name}...\")\n",
    "        train = self.fair_train.copy() \n",
    "        \n",
    "        for l in measurement:\n",
    "            train = MeasurementBiasGenerator(parameter=A, parameter_value=1, measurement=l, bias_strength=1).apply(train)\n",
    "            \n",
    "        return {name: self.evaluate_results(self.test_data(train), train)}\n",
    "    \n",
    "    def y_measurement(self, y, A):\n",
    "        name = \"measurement Y\"\n",
    "        print(f\"Testing {name}...\")\n",
    "        train = self.fair_train.copy() \n",
    "        \n",
    "        # add new direct bias for females\n",
    "        train = MeasurementBiasGenerator(parameter=A, parameter_value=1, \n",
    "                                         measurement=y, bias_strength=0.08,\n",
    "                                         weight = {\"invalid_ratio\": 0,\n",
    "                                                   \"measurement_error\": [1, 0]}).apply(train)\n",
    "        # add new direct bias for males\n",
    "        train = MeasurementBiasGenerator(parameter=A, parameter_value=0, \n",
    "                                         measurement=y, bias_strength=0.315,\n",
    "                                         weight = {\"invalid_ratio\": 0,\n",
    "                                                   \"measurement_error\": [1, 0]}).apply(train)\n",
    "        \n",
    "        return {name: self.evaluate_results(self.test_data(train), train)}\n",
    "    \n",
    "    def a_measurement(self, A):\n",
    "        name = \"measurement A\"\n",
    "        print(f\"Testing {name}...\")\n",
    "        train = self.fair_train.copy() \n",
    "        \n",
    "        train = MeasurementBiasGenerator(parameter=A, parameter_value=1, \n",
    "                                         measurement=A, bias_strength=0.3,\n",
    "                                         weight = {\"invalid_ratio\": 0,\n",
    "                                                   \"measurement_error\": [0.5, 0.5]}).apply(train)\n",
    "        \n",
    "        return {name: self.evaluate_results(self.test_data(train), train)}\n",
    "    \n",
    "    def omit_bias(self, omit):\n",
    "        name = \"Omitted (bias)\"\n",
    "        print(f\"Testing {name}...\")\n",
    "        train = self.biased_train.copy() \n",
    "        \n",
    "        for i in omit:\n",
    "            train = OmittedVariableBiasGenerator(parameter_to_omit=i).apply(train)\n",
    "        \n",
    "        return {name: self.evaluate_results(self.test_data(train, omit=omit), train)}\n",
    "     \n",
    "    def omit_fair(self, omit):\n",
    "        name = \"Omitted (fair)\"\n",
    "        print(f\"Testing {name}...\")\n",
    "        train = self.fair_train.copy() \n",
    "        \n",
    "        for i in omit:\n",
    "            train = OmittedVariableBiasGenerator(parameter_to_omit=i).apply(train)\n",
    "        \n",
    "        return {name: self.evaluate_results(self.test_data(train, omit=omit), train)}\n",
    "    \n",
    "    def sampling_men(self, Y, A):\n",
    "        name = \"Sampling (men)\"\n",
    "        print(f\"Testing {name}...\")\n",
    "        train = self.fair_train.copy() \n",
    "        \n",
    "        train = SamplingBiasGenerator(parameter=A, parameter_value=0, weight={Y: {0:0.5, 1:1}}, bias_strength=0.3).apply(train)\n",
    "        \n",
    "        return {name: self.evaluate_results(self.test_data(train), train)}\n",
    "    \n",
    "    def sampling_women(self, Y, A):\n",
    "        name = \"Sampling (women)\"\n",
    "        print(f\"Testing {name}...\")\n",
    "        train = self.fair_train.copy() \n",
    "        \n",
    "        train = SamplingBiasGenerator(parameter=A, parameter_value=1, weight={Y: {0:0.5, 1:1}}, bias_strength=0.3).apply(train)\n",
    "        \n",
    "        return {name: self.evaluate_results(self.test_data(train), train)}\n",
    "    \n",
    "    def sampling_forced(self, Y, A):\n",
    "        name = \"Sampling (forced)\"\n",
    "        print(f\"Testing {name}...\")\n",
    "        train = self.fair_train.copy() \n",
    "        \n",
    "        train = SamplingBiasGenerator(parameter=A, parameter_value=0, weight={Y: {0:0, 1:1}}, bias_strength=2/3).apply(train)\n",
    "        train = SamplingBiasGenerator(parameter=A, parameter_value=1, weight={Y: {0:0, 1:1}}, bias_strength=1/4).apply(train)\n",
    "        \n",
    "        return {name: self.evaluate_results(self.test_data(train), train)}\n",
    "        \n",
    "grades = GradesDatasetTester()\n",
    "params = {\"measurement\": [\"studytime\", \"freetime\", \"Walc\", \"goout\", \"Parents_edu\", \"absences\"],\n",
    "         \"a\": \"sex\",\n",
    "         \"y\": \"Pass\",\n",
    "         \"omit\": [\"studytime\", \"freetime\", \"Parents_edu\", \"absences\", \"Walc\", \"goout\", \"romantic_no\", \"romantic_yes\", \"reason_course\", \"reason_home\", \"reason_reputation\", \"reason_other\"]}\n",
    "\n",
    "plot(grades.test_all(params))"
   ]
  },
  {
   "cell_type": "markdown",
   "id": "d63a81fb",
   "metadata": {},
   "source": [
    "# Synthetic dataset"
   ]
  },
  {
   "cell_type": "code",
   "execution_count": 14,
   "id": "c1261cce",
   "metadata": {},
   "outputs": [],
   "source": [
    "def synth(num):\n",
    "    with open(f\"data/synthetic/{num}_x.p\", \"rb\") as f:\n",
    "        data = pickle.load(f)\n",
    "    \n",
    "    train, test = data.split(0.2)\n",
    "    \n",
    "    grades = GradesDatasetTester()\n",
    "    grades.biased_train = train\n",
    "    grades.fair_train = train\n",
    "    grades.biased_test = test\n",
    "    grades.fair_test = test\n",
    "    \n",
    "    params = {\"measurement\": [f\"X{i}\" for i in range(num)],\n",
    "         \"a\": \"A\",\n",
    "         \"y\": \"Y\",\n",
    "         \"omit\": [[f\"X{i}\" for i in range(num)]]}\n",
    "    \n",
    "    plot(grades.test_all(params))"
   ]
  },
  {
   "cell_type": "markdown",
   "id": "01c616b1",
   "metadata": {},
   "source": [
    "### size = 5"
   ]
  },
  {
   "cell_type": "code",
   "execution_count": 15,
   "id": "6ff50a5f",
   "metadata": {},
   "outputs": [
    {
     "name": "stderr",
     "output_type": "stream",
     "text": [
      "\n",
      "A value is trying to be set on a copy of a slice from a DataFrame.\n",
      "Try using .loc[row_indexer,col_indexer] = value instead\n",
      "\n",
      "See the caveats in the documentation: https://pandas.pydata.org/pandas-docs/stable/user_guide/indexing.html#returning-a-view-versus-a-copy\n",
      "\n",
      "A value is trying to be set on a copy of a slice from a DataFrame.\n",
      "Try using .loc[row_indexer,col_indexer] = value instead\n",
      "\n",
      "See the caveats in the documentation: https://pandas.pydata.org/pandas-docs/stable/user_guide/indexing.html#returning-a-view-versus-a-copy\n",
      "\n",
      "A value is trying to be set on a copy of a slice from a DataFrame.\n",
      "Try using .loc[row_indexer,col_indexer] = value instead\n",
      "\n",
      "See the caveats in the documentation: https://pandas.pydata.org/pandas-docs/stable/user_guide/indexing.html#returning-a-view-versus-a-copy\n",
      "\n",
      "A value is trying to be set on a copy of a slice from a DataFrame.\n",
      "Try using .loc[row_indexer,col_indexer] = value instead\n",
      "\n",
      "See the caveats in the documentation: https://pandas.pydata.org/pandas-docs/stable/user_guide/indexing.html#returning-a-view-versus-a-copy\n",
      "\n",
      "A value is trying to be set on a copy of a slice from a DataFrame.\n",
      "Try using .loc[row_indexer,col_indexer] = value instead\n",
      "\n",
      "See the caveats in the documentation: https://pandas.pydata.org/pandas-docs/stable/user_guide/indexing.html#returning-a-view-versus-a-copy\n",
      "\n",
      "A value is trying to be set on a copy of a slice from a DataFrame.\n",
      "Try using .loc[row_indexer,col_indexer] = value instead\n",
      "\n",
      "See the caveats in the documentation: https://pandas.pydata.org/pandas-docs/stable/user_guide/indexing.html#returning-a-view-versus-a-copy\n"
     ]
    },
    {
     "name": "stdout",
     "output_type": "stream",
     "text": [
      "Testing unfair baseline...\n",
      "Testing fair baseline...\n",
      "Testing measurement...\n",
      "Testing measurement Y...\n",
      "Testing measurement A...\n",
      "Testing Omitted (bias)...\n",
      "Testing Omitted (fair)...\n",
      "Testing Sampling (men)...\n",
      "Testing Sampling (women)...\n",
      "Testing Sampling (forced)...\n",
      "{'unfair baseline': {'accuracy': 0.6996, 'bias': 0.006165610026242552}, 'fair baseline': {'accuracy': 0.6996, 'bias': 0.006165610026242552}, 'measurement': {'accuracy': 0.69235, 'bias': 0.006165610026242552}, 'measurement Y': {'accuracy': 0.66765, 'bias': -0.09010763576761904}, 'measurement A': {'accuracy': 0.6996, 'bias': 0.007431615843236206}, 'Omitted (bias)': {'accuracy': 0.6007, 'bias': 0.006165610026242552}, 'Omitted (fair)': {'accuracy': 0.6007, 'bias': 0.006165610026242552}, 'Sampling (men)': {'accuracy': 0.6994, 'bias': -0.02179620898955925}, 'Sampling (women)': {'accuracy': 0.6993, 'bias': 0.0339710724664099}, 'Sampling (forced)': {'accuracy': 0.65875, 'bias': -0.14646417026999506}}\n"
     ]
    },
    {
     "data": {
      "image/png": "[encoded data removed]",
      "text/plain": [
       "<Figure size 432x288 with 1 Axes>"
      ]
     },
     "metadata": {
      "needs_background": "light"
     },
     "output_type": "display_data"
    }
   ],
   "source": [
    "synth(5)"
   ]
  },
  {
   "cell_type": "markdown",
   "id": "55a0c628",
   "metadata": {},
   "source": [
    "### size = 10"
   ]
  },
  {
   "cell_type": "code",
   "execution_count": 16,
   "id": "f82bbba8",
   "metadata": {},
   "outputs": [
    {
     "name": "stderr",
     "output_type": "stream",
     "text": [
      "\n",
      "A value is trying to be set on a copy of a slice from a DataFrame.\n",
      "Try using .loc[row_indexer,col_indexer] = value instead\n",
      "\n",
      "See the caveats in the documentation: https://pandas.pydata.org/pandas-docs/stable/user_guide/indexing.html#returning-a-view-versus-a-copy\n",
      "\n",
      "A value is trying to be set on a copy of a slice from a DataFrame.\n",
      "Try using .loc[row_indexer,col_indexer] = value instead\n",
      "\n",
      "See the caveats in the documentation: https://pandas.pydata.org/pandas-docs/stable/user_guide/indexing.html#returning-a-view-versus-a-copy\n",
      "\n",
      "A value is trying to be set on a copy of a slice from a DataFrame.\n",
      "Try using .loc[row_indexer,col_indexer] = value instead\n",
      "\n",
      "See the caveats in the documentation: https://pandas.pydata.org/pandas-docs/stable/user_guide/indexing.html#returning-a-view-versus-a-copy\n",
      "\n",
      "A value is trying to be set on a copy of a slice from a DataFrame.\n",
      "Try using .loc[row_indexer,col_indexer] = value instead\n",
      "\n",
      "See the caveats in the documentation: https://pandas.pydata.org/pandas-docs/stable/user_guide/indexing.html#returning-a-view-versus-a-copy\n",
      "\n",
      "A value is trying to be set on a copy of a slice from a DataFrame.\n",
      "Try using .loc[row_indexer,col_indexer] = value instead\n",
      "\n",
      "See the caveats in the documentation: https://pandas.pydata.org/pandas-docs/stable/user_guide/indexing.html#returning-a-view-versus-a-copy\n",
      "\n",
      "A value is trying to be set on a copy of a slice from a DataFrame.\n",
      "Try using .loc[row_indexer,col_indexer] = value instead\n",
      "\n",
      "See the caveats in the documentation: https://pandas.pydata.org/pandas-docs/stable/user_guide/indexing.html#returning-a-view-versus-a-copy\n"
     ]
    },
    {
     "name": "stdout",
     "output_type": "stream",
     "text": [
      "Testing unfair baseline...\n",
      "Testing fair baseline...\n",
      "Testing measurement...\n",
      "Testing measurement Y...\n",
      "Testing measurement A...\n",
      "Testing Omitted (bias)...\n",
      "Testing Omitted (fair)...\n",
      "Testing Sampling (men)...\n",
      "Testing Sampling (women)...\n",
      "Testing Sampling (forced)...\n",
      "{'unfair baseline': {'accuracy': 0.7497, 'bias': -0.00018697863822980665}, 'fair baseline': {'accuracy': 0.7497, 'bias': -0.00018697863822980665}, 'measurement': {'accuracy': 0.72465, 'bias': -0.00018697863822980665}, 'measurement Y': {'accuracy': 0.7217, 'bias': -0.09348901973308055}, 'measurement A': {'accuracy': 0.7491, 'bias': -0.0015439929621981485}, 'Omitted (bias)': {'accuracy': 0.5966, 'bias': -0.00018697863822980665}, 'Omitted (fair)': {'accuracy': 0.5966, 'bias': -0.00018697863822980665}, 'Sampling (men)': {'accuracy': 0.7477, 'bias': -0.02814549075885342}, 'Sampling (women)': {'accuracy': 0.7494, 'bias': 0.02776300517689878}, 'Sampling (forced)': {'accuracy': 0.72075, 'bias': -0.15222712342423864}}\n"
     ]
    },
    {
     "data": {
      "image/png": "[encoded data removed]",
      "text/plain": [
       "<Figure size 432x288 with 1 Axes>"
      ]
     },
     "metadata": {
      "needs_background": "light"
     },
     "output_type": "display_data"
    }
   ],
   "source": [
    "synth(10)"
   ]
  },
  {
   "cell_type": "markdown",
   "id": "87b5b905",
   "metadata": {},
   "source": [
    "### size = 20"
   ]
  },
  {
   "cell_type": "code",
   "execution_count": 17,
   "id": "57a6f5ae",
   "metadata": {},
   "outputs": [
    {
     "name": "stdout",
     "output_type": "stream",
     "text": [
      "Testing unfair baseline...\n"
     ]
    },
    {
     "name": "stderr",
     "output_type": "stream",
     "text": [
      "\n",
      "A value is trying to be set on a copy of a slice from a DataFrame.\n",
      "Try using .loc[row_indexer,col_indexer] = value instead\n",
      "\n",
      "See the caveats in the documentation: https://pandas.pydata.org/pandas-docs/stable/user_guide/indexing.html#returning-a-view-versus-a-copy\n",
      "\n",
      "A value is trying to be set on a copy of a slice from a DataFrame.\n",
      "Try using .loc[row_indexer,col_indexer] = value instead\n",
      "\n",
      "See the caveats in the documentation: https://pandas.pydata.org/pandas-docs/stable/user_guide/indexing.html#returning-a-view-versus-a-copy\n",
      "\n",
      "A value is trying to be set on a copy of a slice from a DataFrame.\n",
      "Try using .loc[row_indexer,col_indexer] = value instead\n",
      "\n",
      "See the caveats in the documentation: https://pandas.pydata.org/pandas-docs/stable/user_guide/indexing.html#returning-a-view-versus-a-copy\n",
      "\n",
      "A value is trying to be set on a copy of a slice from a DataFrame.\n",
      "Try using .loc[row_indexer,col_indexer] = value instead\n",
      "\n",
      "See the caveats in the documentation: https://pandas.pydata.org/pandas-docs/stable/user_guide/indexing.html#returning-a-view-versus-a-copy\n",
      "\n",
      "A value is trying to be set on a copy of a slice from a DataFrame.\n",
      "Try using .loc[row_indexer,col_indexer] = value instead\n",
      "\n",
      "See the caveats in the documentation: https://pandas.pydata.org/pandas-docs/stable/user_guide/indexing.html#returning-a-view-versus-a-copy\n",
      "\n",
      "A value is trying to be set on a copy of a slice from a DataFrame.\n",
      "Try using .loc[row_indexer,col_indexer] = value instead\n",
      "\n",
      "See the caveats in the documentation: https://pandas.pydata.org/pandas-docs/stable/user_guide/indexing.html#returning-a-view-versus-a-copy\n"
     ]
    },
    {
     "name": "stdout",
     "output_type": "stream",
     "text": [
      "Testing fair baseline...\n",
      "Testing measurement...\n",
      "Testing measurement Y...\n",
      "Testing measurement A...\n",
      "Testing Omitted (bias)...\n",
      "Testing Omitted (fair)...\n",
      "Testing Sampling (men)...\n",
      "Testing Sampling (women)...\n",
      "Testing Sampling (forced)...\n",
      "{'unfair baseline': {'accuracy': 0.8006, 'bias': -0.002545268347381613}, 'fair baseline': {'accuracy': 0.8006, 'bias': -0.002545268347381613}, 'measurement': {'accuracy': 0.79805, 'bias': -0.002545268347381613}, 'measurement Y': {'accuracy': 0.77585, 'bias': -0.09492747355505465}, 'measurement A': {'accuracy': 0.8011, 'bias': -0.006657844358748166}, 'Omitted (bias)': {'accuracy': 0.5989, 'bias': -0.002545268347381613}, 'Omitted (fair)': {'accuracy': 0.5989, 'bias': -0.002545268347381613}, 'Sampling (men)': {'accuracy': 0.80195, 'bias': -0.030408145458894142}, 'Sampling (women)': {'accuracy': 0.79995, 'bias': 0.02538836402705047}, 'Sampling (forced)': {'accuracy': 0.7783, 'bias': -0.15346430520130858}}\n"
     ]
    },
    {
     "data": {
      "image/png": "[encoded data removed]",
      "text/plain": [
       "<Figure size 432x288 with 1 Axes>"
      ]
     },
     "metadata": {
      "needs_background": "light"
     },
     "output_type": "display_data"
    }
   ],
   "source": [
    "synth(20)"
   ]
  },
  {
   "cell_type": "markdown",
   "id": "9c926e80",
   "metadata": {},
   "source": [
    "### size = 50"
   ]
  },
  {
   "cell_type": "code",
   "execution_count": 18,
   "id": "a72087d4",
   "metadata": {
    "scrolled": false
   },
   "outputs": [
    {
     "name": "stdout",
     "output_type": "stream",
     "text": [
      "Testing unfair baseline...\n"
     ]
    },
    {
     "name": "stderr",
     "output_type": "stream",
     "text": [
      "\n",
      "A value is trying to be set on a copy of a slice from a DataFrame.\n",
      "Try using .loc[row_indexer,col_indexer] = value instead\n",
      "\n",
      "See the caveats in the documentation: https://pandas.pydata.org/pandas-docs/stable/user_guide/indexing.html#returning-a-view-versus-a-copy\n",
      "\n",
      "A value is trying to be set on a copy of a slice from a DataFrame.\n",
      "Try using .loc[row_indexer,col_indexer] = value instead\n",
      "\n",
      "See the caveats in the documentation: https://pandas.pydata.org/pandas-docs/stable/user_guide/indexing.html#returning-a-view-versus-a-copy\n",
      "\n",
      "A value is trying to be set on a copy of a slice from a DataFrame.\n",
      "Try using .loc[row_indexer,col_indexer] = value instead\n",
      "\n",
      "See the caveats in the documentation: https://pandas.pydata.org/pandas-docs/stable/user_guide/indexing.html#returning-a-view-versus-a-copy\n",
      "\n",
      "A value is trying to be set on a copy of a slice from a DataFrame.\n",
      "Try using .loc[row_indexer,col_indexer] = value instead\n",
      "\n",
      "See the caveats in the documentation: https://pandas.pydata.org/pandas-docs/stable/user_guide/indexing.html#returning-a-view-versus-a-copy\n",
      "\n",
      "A value is trying to be set on a copy of a slice from a DataFrame.\n",
      "Try using .loc[row_indexer,col_indexer] = value instead\n",
      "\n",
      "See the caveats in the documentation: https://pandas.pydata.org/pandas-docs/stable/user_guide/indexing.html#returning-a-view-versus-a-copy\n",
      "\n",
      "A value is trying to be set on a copy of a slice from a DataFrame.\n",
      "Try using .loc[row_indexer,col_indexer] = value instead\n",
      "\n",
      "See the caveats in the documentation: https://pandas.pydata.org/pandas-docs/stable/user_guide/indexing.html#returning-a-view-versus-a-copy\n"
     ]
    },
    {
     "name": "stdout",
     "output_type": "stream",
     "text": [
      "Testing fair baseline...\n",
      "Testing measurement...\n",
      "Testing measurement Y...\n",
      "Testing measurement A...\n",
      "Testing Omitted (bias)...\n",
      "Testing Omitted (fair)...\n",
      "Testing Sampling (men)...\n",
      "Testing Sampling (women)...\n",
      "Testing Sampling (forced)...\n",
      "{'unfair baseline': {'accuracy': 0.9159, 'bias': -0.0006910528022482376}, 'fair baseline': {'accuracy': 0.9159, 'bias': -0.0006910528022482376}, 'measurement': {'accuracy': 0.897, 'bias': -0.0006910528022482376}, 'measurement Y': {'accuracy': 0.873, 'bias': -0.09411098588342492}, 'measurement A': {'accuracy': 0.91485, 'bias': -0.0010733560334709735}, 'Omitted (bias)': {'accuracy': 0.5966, 'bias': -0.0006910528022482376}, 'Omitted (fair)': {'accuracy': 0.5966, 'bias': -0.0006910528022482376}, 'Sampling (men)': {'accuracy': 0.91595, 'bias': -0.02856024196771767}, 'Sampling (women)': {'accuracy': 0.9155, 'bias': 0.027189724523985326}, 'Sampling (forced)': {'accuracy': 0.9073, 'bias': -0.15172179047898446}}\n"
     ]
    },
    {
     "data": {
      "image/png": "[encoded data removed]",
      "text/plain": [
       "<Figure size 432x288 with 1 Axes>"
      ]
     },
     "metadata": {
      "needs_background": "light"
     },
     "output_type": "display_data"
    }
   ],
   "source": [
    "synth(50)"
   ]
  },
  {
   "cell_type": "markdown",
   "id": "40d58bd3",
   "metadata": {},
   "source": [
    "# German Dataset\n",
    "w.r.t. age"
   ]
  },
  {
   "cell_type": "code",
   "execution_count": 62,
   "id": "6f6172af",
   "metadata": {
    "scrolled": false
   },
   "outputs": [],
   "source": [
    "def german_age_reweighing():\n",
    "    # get dataset\n",
    "    dataset_orig = GermanDataset(\n",
    "        protected_attribute_names=['age'],           # this dataset also contains protected\n",
    "                                                     # attribute for \"sex\" which we do not\n",
    "                                                     # consider in this evaluation\n",
    "        privileged_classes=[lambda x: x >= 25],      # age >=25 is considered privileged\n",
    "        features_to_drop=['personal_status', 'sex']  # ignore sex-related attributes\n",
    "    )\n",
    "    \n",
    "    # split dataset\n",
    "    dataset_orig_train, dataset_orig_test = dataset_orig.split([0.7], shuffle=True, seed=RANDOM_STATE)\n",
    "\n",
    "    privileged_groups = [{'age': 1}]\n",
    "    unprivileged_groups = [{'age': 0}]\n",
    "\n",
    "    # Original fairness\n",
    "    metric_orig_train = BinaryLabelDatasetMetric(dataset_orig_train, \n",
    "                                                 unprivileged_groups=unprivileged_groups,\n",
    "                                                 privileged_groups=privileged_groups)\n",
    "    display(Markdown(\"#### Original training dataset\"))\n",
    "    print(\"Difference in mean outcomes between unprivileged and privileged groups = %f\" % metric_orig_train.mean_difference())\n",
    "\n",
    "    # Debias with reweighing\n",
    "    RW = Reweighing(unprivileged_groups=unprivileged_groups,\n",
    "                    privileged_groups=privileged_groups)\n",
    "    dataset_transf_train = RW.fit_transform(dataset_orig_train)\n",
    "\n",
    "    # new fairness\n",
    "    metric_transf_train = BinaryLabelDatasetMetric(dataset_transf_train, \n",
    "                                                   unprivileged_groups=unprivileged_groups,\n",
    "                                                   privileged_groups=privileged_groups)\n",
    "    display(Markdown(\"#### Transformed training dataset\"))\n",
    "    print(\"Difference in mean outcomes between unprivileged and privileged groups = %f\" % metric_transf_train.mean_difference())\n",
    "\n",
    "    # return debiased dataset\n",
    "    ftr = fromAif(dataset_transf_train)\n",
    "    fte = fromAif(RW.transform(dataset_orig_test))\n",
    "    btr = fromAif(dataset_orig_train)\n",
    "    bte = fromAif(dataset_orig_test)\n",
    "\n",
    "    print(\"fair:\")\n",
    "    print(ftr.df().groupby([\"age\", \"credit\"])[\"__weight__\"].mean())\n",
    "    print(\"bias:\")\n",
    "    print(btr.df().groupby([\"age\", \"credit\"]).size())\n",
    "    \n",
    "    # cast 1, 2 --> 1, 0\n",
    "    for t in [ftr, fte, btr, bte]:\n",
    "        t._df[\"credit\"] = t._df[\"credit\"].apply(lambda x: 1 if x == 1 else 0)\n",
    "    return ftr, fte, btr, bte"
   ]
  },
  {
   "cell_type": "code",
   "execution_count": 92,
   "id": "5ddae62a",
   "metadata": {
    "scrolled": false
   },
   "outputs": [
    {
     "data": {
      "text/markdown": [
       "#### Original training dataset"
      ],
      "text/plain": [
       "<IPython.core.display.Markdown object>"
      ]
     },
     "metadata": {},
     "output_type": "display_data"
    },
    {
     "name": "stdout",
     "output_type": "stream",
     "text": [
      "Difference in mean outcomes between unprivileged and privileged groups = -0.127143\n"
     ]
    },
    {
     "data": {
      "text/markdown": [
       "#### Transformed training dataset"
      ],
      "text/plain": [
       "<IPython.core.display.Markdown object>"
      ]
     },
     "metadata": {},
     "output_type": "display_data"
    },
    {
     "name": "stdout",
     "output_type": "stream",
     "text": [
      "Difference in mean outcomes between unprivileged and privileged groups = 0.000000\n",
      "fair:\n",
      "age  credit\n",
      "0.0  1.0       1.183143\n",
      "     2.0       0.731986\n",
      "1.0  1.0       0.974563\n",
      "     2.0       1.065800\n",
      "Name: __weight__, dtype: float64\n",
      "bias:\n",
      "age  credit\n",
      "0.0  1.0        60\n",
      "     2.0        41\n",
      "1.0  1.0       432\n",
      "     2.0       167\n",
      "dtype: int64\n",
      "Testing fair baseline...\n",
      "Testing unfair baseline...\n",
      "Testing sampling...\n",
      "Testing measurement...\n",
      "{'fair baseline': {'accuracy': 0.76, 'bias': 2.220446049250313e-16}, 'unfair baseline': {'accuracy': 0.76, 'bias': -0.12714259739830414}, 'sampling': {'accuracy': 0.7366666666666667, 'bias': -0.11005275745940513}, 'measurement': {'accuracy': 0.75, 'bias': -0.1534703832752612}}\n"
     ]
    },
    {
     "data": {
      "image/png": "[encoded data removed]",
      "text/plain": [
       "<Figure size 432x288 with 1 Axes>"
      ]
     },
     "metadata": {
      "needs_background": "light"
     },
     "output_type": "display_data"
    },
    {
     "data": {
      "text/markdown": [
       "#### Original training dataset"
      ],
      "text/plain": [
       "<IPython.core.display.Markdown object>"
      ]
     },
     "metadata": {},
     "output_type": "display_data"
    },
    {
     "name": "stdout",
     "output_type": "stream",
     "text": [
      "Difference in mean outcomes between unprivileged and privileged groups = -0.127143\n"
     ]
    },
    {
     "data": {
      "text/markdown": [
       "#### Transformed training dataset"
      ],
      "text/plain": [
       "<IPython.core.display.Markdown object>"
      ]
     },
     "metadata": {},
     "output_type": "display_data"
    },
    {
     "name": "stdout",
     "output_type": "stream",
     "text": [
      "Difference in mean outcomes between unprivileged and privileged groups = 0.000000\n",
      "fair:\n",
      "age  credit\n",
      "0.0  1.0       1.183143\n",
      "     2.0       0.731986\n",
      "1.0  1.0       0.974563\n",
      "     2.0       1.065800\n",
      "Name: __weight__, dtype: float64\n",
      "bias:\n",
      "age  credit\n",
      "0.0  1.0        60\n",
      "     2.0        41\n",
      "1.0  1.0       432\n",
      "     2.0       167\n",
      "dtype: int64\n",
      "Testing fair baseline...\n",
      "Testing unfair baseline...\n",
      "Testing sampling...\n",
      "Testing measurement...\n",
      "{'fair baseline': {'accuracy': 0.76, 'bias': 2.220446049250313e-16}, 'unfair baseline': {'accuracy': 0.76, 'bias': -0.12714259739830414}, 'sampling': {'accuracy': 0.7366666666666667, 'bias': -0.11005275745940513}, 'measurement': {'accuracy': 0.75, 'bias': -0.1534703832752612}}\n"
     ]
    },
    {
     "data": {
      "image/png": "[encoded data removed]",
      "text/plain": [
       "<Figure size 432x288 with 1 Axes>"
      ]
     },
     "metadata": {
      "needs_background": "light"
     },
     "output_type": "display_data"
    }
   ],
   "source": [
    "class GermanTester:\n",
    "    def __init__(self, fair):\n",
    "        ftr, fte, btr, bte = german_age_reweighing()\n",
    "        self.train = ftr\n",
    "        self.test = fte\n",
    "        self.bias_train = btr\n",
    "        self.bias_test = bte\n",
    "        self.fair = fair\n",
    "        \n",
    "    def test_all(self, params):\n",
    "        results = dict()\n",
    "        results.update(self.baseline())\n",
    "        results.update(self.unfair_baseline())\n",
    "        results.update(self.sampling(params[\"y\"], params[\"a\"]))\n",
    "        results.update(self.measurement(params[\"y\"], params[\"a\"]))\n",
    "        return results\n",
    "        \n",
    "    def test_data(self, data, omit=None):\n",
    "        X_train = data.X()\n",
    "        y_train = data.y()\n",
    "        \n",
    "        if self.fair:\n",
    "            X_test = self.test.X().copy()\n",
    "        else:\n",
    "            X_test = self.bias_test.X().copy()\n",
    "        \n",
    "        if omit is not None:\n",
    "            X_test = Data(X_test, [], [])\n",
    "            for i in omit:\n",
    "                X_test = OmittedVariableBiasGenerator(parameter_to_omit=i).apply(X_test)\n",
    "                \n",
    "            X_test = X_test.df(False)\n",
    "        model = LogisticRegression(max_iter=1000)\n",
    "        model.fit(X_train, y_train)\n",
    "        \n",
    "        preds = model.predict(X_test)\n",
    "        proba = model.predict_proba(X_test)\n",
    "        return {\"preds\": preds, \"proba\": proba}\n",
    "    \n",
    "    def evaluate_results(self, results, data):\n",
    "        preds = results[\"preds\"]\n",
    "        proba = results[\"proba\"]\n",
    "        \n",
    "        if self.fair:\n",
    "            ground_truth = self.test.y()\n",
    "        else:\n",
    "            ground_truth = self.bias_test.y()\n",
    "        \n",
    "        accuracy = accuracy_score(ground_truth, preds)\n",
    "        bias = data.metrics().mean_difference()\n",
    "        \n",
    "        return {\"accuracy\": accuracy, \"bias\": bias}\n",
    "    \n",
    "    def baseline(self):\n",
    "        name = \"fair baseline\"\n",
    "        print(f\"Testing {name}...\")\n",
    "        \n",
    "        train = self.train\n",
    "        return {name: self.evaluate_results(self.test_data(train), train)}\n",
    "    \n",
    "    def unfair_baseline(self):\n",
    "        name = \"unfair baseline\"\n",
    "        print(f\"Testing {name}...\")\n",
    "        \n",
    "        train = self.bias_train\n",
    "        return {name: self.evaluate_results(self.test_data(train), train)}\n",
    "    \n",
    "    def sampling(self, y, A):\n",
    "        name = \"sampling\"\n",
    "        print(f\"Testing {name}...\")\n",
    "        train = self.train.copy() \n",
    "        \n",
    "        train = SamplingBiasGenerator(parameter=A, parameter_value=0, weight={y: {0:0.974563, 1:1.183143}}, bias_strength=1, seed=RANDOM_STATE).apply(train)\n",
    "        train = SamplingBiasGenerator(parameter=A, parameter_value=1, weight={y: {0:1.065800, 1:0.731986}}, bias_strength=1, seed=RANDOM_STATE).apply(train)\n",
    "        \n",
    "        return {name: self.evaluate_results(self.test_data(train), train)}\n",
    "\n",
    "    def measurement(self, y, A):\n",
    "        name = \"measurement\"\n",
    "        print(f\"Testing {name}...\")\n",
    "        train = self.train.copy() \n",
    "        \n",
    "        \n",
    "        train = MeasurementBiasGenerator(parameter=A, parameter_value=0, \n",
    "                                         measurement=y, bias_strength=0.731986/1.183143,\n",
    "                                         weight = {\"invalid_ratio\": 0,\n",
    "                                                   \"measurement_error\": [0, 1]}).apply(train)\n",
    "        \n",
    "        train = MeasurementBiasGenerator(parameter=A, parameter_value=0, \n",
    "                                         measurement=y, bias_strength=0.974563/1.065800,\n",
    "                                         weight = {\"invalid_ratio\": 1,\n",
    "                                                   \"measurement_error\": [1, 0]}).apply(train)\n",
    "        \n",
    "        return {name: self.evaluate_results(self.test_data(train), train)}\n",
    "\n",
    "    \n",
    "    \n",
    "german = GermanTester(fair=True)\n",
    "params = {\"y\": \"credit\", \"a\": \"age\"}\n",
    "plot(german.test_all(params))\n",
    "\n",
    "german = GermanTester(fair=False)\n",
    "params = {\"y\": \"credit\", \"a\": \"age\"}\n",
    "plot(german.test_all(params))"
   ]
  },
  {
   "cell_type": "code",
   "execution_count": null,
   "id": "d4b08911",
   "metadata": {},
   "outputs": [],
   "source": []
  },
  {
   "cell_type": "code",
   "execution_count": null,
   "id": "27578229",
   "metadata": {},
   "outputs": [],
   "source": []
  }
 ],
 "metadata": {
  "kernelspec": {
   "display_name": "Python 3",
   "language": "python",
   "name": "python3"
  },
  "language_info": {
   "codemirror_mode": {
    "name": "ipython",
    "version": 3
   },
   "file_extension": ".py",
   "mimetype": "text/x-python",
   "name": "python",
   "nbconvert_exporter": "python",
   "pygments_lexer": "ipython3",
   "version": "3.8.10"
  }
 },
 "nbformat": 4,
 "nbformat_minor": 5
}
